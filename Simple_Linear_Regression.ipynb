{
  "nbformat": 4,
  "nbformat_minor": 0,
  "metadata": {
    "colab": {
      "name": "Copy of 2_Simple_Linear_Regression.ipynb",
      "provenance": [],
      "collapsed_sections": []
    },
    "kernelspec": {
      "name": "python3",
      "display_name": "Python 3"
    }
  },
  "cells": [
    {
      "cell_type": "markdown",
      "metadata": {
        "id": "GxO3jxalGdCA"
      },
      "source": [
        "# Welcome to Split 3\n",
        "\n",
        "You 've learnt so many Coding skills in Split 2 and here comes your time to see how far've you learnt.\n",
        "\n",
        "\n",
        "You also learnt a cool amount of Statisitcs Let's Start building together a **Simple Linear Regression** Model."
      ]
    },
    {
      "cell_type": "markdown",
      "metadata": {
        "id": "xUpRxwRXPhPT"
      },
      "source": [
        "# FOLLOW THESE STEPS "
      ]
    },
    {
      "cell_type": "markdown",
      "metadata": {
        "id": "xMowuyWPIUmV"
      },
      "source": [
        "**First** : Let me Put You on the Road.\n",
        "\n",
        "If you are using Google Colab please Execute the following Code in next Cell  , so you will give the Permission for Google Colab to Access your folders in Google Drive \n",
        "\n",
        "***DO NOT RUN IT IF YOU ARE ON JUPYTER ***"
      ]
    },
    {
      "cell_type": "code",
      "metadata": {
        "id": "XgNXJOnPwkoG"
      },
      "source": [
        "from google.colab import drive\n",
        "drive.mount('/content/drive')"
      ],
      "execution_count": null,
      "outputs": []
    },
    {
      "cell_type": "markdown",
      "metadata": {
        "id": "cwzEZCAtLX57"
      },
      "source": [
        "**Second** :  Type a Code to Read  The Excel File \n",
        "hint go and use `pd.read_excel`"
      ]
    },
    {
      "cell_type": "code",
      "metadata": {
        "id": "WX5s6BsA1CtE",
        "colab": {
          "base_uri": "https://localhost:8080/",
          "height": 442
        },
        "outputId": "9449e3a1-3344-466f-a4d9-c573fb10f5e7"
      },
      "source": [
        "import numpy as np\n",
        "import pandas as pd\n",
        "df= pd.read_excel('2_D_Insurance.xls')\n",
        "df"
      ],
      "execution_count": 3,
      "outputs": [
        {
          "output_type": "stream",
          "text": [
            "*** No CODEPAGE record, no encoding_override: will use 'ascii'\n"
          ],
          "name": "stdout"
        },
        {
          "output_type": "execute_result",
          "data": {
            "text/html": [
              "<div>\n",
              "<style scoped>\n",
              "    .dataframe tbody tr th:only-of-type {\n",
              "        vertical-align: middle;\n",
              "    }\n",
              "\n",
              "    .dataframe tbody tr th {\n",
              "        vertical-align: top;\n",
              "    }\n",
              "\n",
              "    .dataframe thead th {\n",
              "        text-align: right;\n",
              "    }\n",
              "</style>\n",
              "<table border=\"1\" class=\"dataframe\">\n",
              "  <thead>\n",
              "    <tr style=\"text-align: right;\">\n",
              "      <th></th>\n",
              "      <th>X</th>\n",
              "      <th>Y</th>\n",
              "    </tr>\n",
              "  </thead>\n",
              "  <tbody>\n",
              "    <tr>\n",
              "      <th>0</th>\n",
              "      <td>108</td>\n",
              "      <td>392.5</td>\n",
              "    </tr>\n",
              "    <tr>\n",
              "      <th>1</th>\n",
              "      <td>19</td>\n",
              "      <td>46.2</td>\n",
              "    </tr>\n",
              "    <tr>\n",
              "      <th>2</th>\n",
              "      <td>13</td>\n",
              "      <td>15.7</td>\n",
              "    </tr>\n",
              "    <tr>\n",
              "      <th>3</th>\n",
              "      <td>124</td>\n",
              "      <td>422.2</td>\n",
              "    </tr>\n",
              "    <tr>\n",
              "      <th>4</th>\n",
              "      <td>40</td>\n",
              "      <td>119.4</td>\n",
              "    </tr>\n",
              "    <tr>\n",
              "      <th>...</th>\n",
              "      <td>...</td>\n",
              "      <td>...</td>\n",
              "    </tr>\n",
              "    <tr>\n",
              "      <th>58</th>\n",
              "      <td>9</td>\n",
              "      <td>87.4</td>\n",
              "    </tr>\n",
              "    <tr>\n",
              "      <th>59</th>\n",
              "      <td>31</td>\n",
              "      <td>209.8</td>\n",
              "    </tr>\n",
              "    <tr>\n",
              "      <th>60</th>\n",
              "      <td>14</td>\n",
              "      <td>95.5</td>\n",
              "    </tr>\n",
              "    <tr>\n",
              "      <th>61</th>\n",
              "      <td>53</td>\n",
              "      <td>244.6</td>\n",
              "    </tr>\n",
              "    <tr>\n",
              "      <th>62</th>\n",
              "      <td>26</td>\n",
              "      <td>187.5</td>\n",
              "    </tr>\n",
              "  </tbody>\n",
              "</table>\n",
              "<p>63 rows × 2 columns</p>\n",
              "</div>"
            ],
            "text/plain": [
              "      X      Y\n",
              "0   108  392.5\n",
              "1    19   46.2\n",
              "2    13   15.7\n",
              "3   124  422.2\n",
              "4    40  119.4\n",
              "..  ...    ...\n",
              "58    9   87.4\n",
              "59   31  209.8\n",
              "60   14   95.5\n",
              "61   53  244.6\n",
              "62   26  187.5\n",
              "\n",
              "[63 rows x 2 columns]"
            ]
          },
          "metadata": {
            "tags": []
          },
          "execution_count": 3
        }
      ]
    },
    {
      "cell_type": "markdown",
      "metadata": {
        "id": "ndOyFGg0LVDV"
      },
      "source": [
        "So this Data is about:-\n",
        "\n",
        "Auto Insurance in Sweden\n",
        "In the following data\n",
        "\n",
        "X = number of claims\n",
        "\n",
        "Y = total payment for all the claims in thousands of Swedish Kronor\n",
        "\n",
        "for geographical zones in Sweden\n",
        "Reference: Swedish Committee on Analysis of Risk Premium in Motor Insurance\n",
        "\n"
      ]
    },
    {
      "cell_type": "markdown",
      "metadata": {
        "id": "N_1kH03mMHYD"
      },
      "source": [
        "**Third** Type a Code  that Change the Features and Labels  from pandas frame into Numpy Arrays.\n",
        "\n",
        "*40 rows only* for **Training** and the Rest for **Testing**\n",
        "hint : use `df.iloc`"
      ]
    },
    {
      "cell_type": "code",
      "metadata": {
        "id": "bVXC5ZIz3u1N"
      },
      "source": [
        "X_train=np.array(df.iloc[0:40, 0:1])\n",
        "y_train= np.array(df.iloc[0:40, 1:])\n",
        "X_test= np.array(df.iloc[40:, 0:1])\n",
        "y_test= np.array(df.iloc[40:, 1:])"
      ],
      "execution_count": 4,
      "outputs": []
    },
    {
      "cell_type": "markdown",
      "metadata": {
        "id": "2m8PtSPjNC3a"
      },
      "source": [
        "**Fourth** Check the Type and Size of the Arrays you created by Printing them.\n",
        "hint Go and use :  `shape` , `type` "
      ]
    },
    {
      "cell_type": "code",
      "metadata": {
        "id": "PzKkHDR2NYOr",
        "colab": {
          "base_uri": "https://localhost:8080/"
        },
        "outputId": "8a271aca-c9e9-4c14-93b2-a3cfce58bec9"
      },
      "source": [
        "print('The Features to be trained on :', X_train )\n",
        "print('The Labels to be trained on :', y_train )\n",
        "print('The Features to be tested on :', X_test )\n",
        "print('The Labels to be tested on :', y_test )\n",
        "print('X_train type : ', type(X_train), 'X_test type :',type(X_test) ,'y_train type :', type(y_train) , 'y_test type :', type(y_test) )"
      ],
      "execution_count": 5,
      "outputs": [
        {
          "output_type": "stream",
          "text": [
            "The Features to be trained on : [[108]\n",
            " [ 19]\n",
            " [ 13]\n",
            " [124]\n",
            " [ 40]\n",
            " [ 57]\n",
            " [ 23]\n",
            " [ 14]\n",
            " [ 45]\n",
            " [ 10]\n",
            " [  5]\n",
            " [ 48]\n",
            " [ 11]\n",
            " [ 23]\n",
            " [  7]\n",
            " [  2]\n",
            " [ 24]\n",
            " [  6]\n",
            " [  3]\n",
            " [ 23]\n",
            " [  6]\n",
            " [  9]\n",
            " [  9]\n",
            " [  3]\n",
            " [ 29]\n",
            " [  7]\n",
            " [  4]\n",
            " [ 20]\n",
            " [  7]\n",
            " [  4]\n",
            " [  0]\n",
            " [ 25]\n",
            " [  6]\n",
            " [  5]\n",
            " [ 22]\n",
            " [ 11]\n",
            " [ 61]\n",
            " [ 12]\n",
            " [  4]\n",
            " [ 16]]\n",
            "The Labels to be trained on : [[392.5]\n",
            " [ 46.2]\n",
            " [ 15.7]\n",
            " [422.2]\n",
            " [119.4]\n",
            " [170.9]\n",
            " [ 56.9]\n",
            " [ 77.5]\n",
            " [214. ]\n",
            " [ 65.3]\n",
            " [ 20.9]\n",
            " [248.1]\n",
            " [ 23.5]\n",
            " [ 39.6]\n",
            " [ 48.8]\n",
            " [  6.6]\n",
            " [134.9]\n",
            " [ 50.9]\n",
            " [  4.4]\n",
            " [113. ]\n",
            " [ 14.8]\n",
            " [ 48.7]\n",
            " [ 52.1]\n",
            " [ 13.2]\n",
            " [103.9]\n",
            " [ 77.5]\n",
            " [ 11.8]\n",
            " [ 98.1]\n",
            " [ 27.9]\n",
            " [ 38.1]\n",
            " [  0. ]\n",
            " [ 69.2]\n",
            " [ 14.6]\n",
            " [ 40.3]\n",
            " [161.5]\n",
            " [ 57.2]\n",
            " [217.6]\n",
            " [ 58.1]\n",
            " [ 12.6]\n",
            " [ 59.6]]\n",
            "The Features to be tested on : [[13]\n",
            " [60]\n",
            " [41]\n",
            " [37]\n",
            " [55]\n",
            " [41]\n",
            " [11]\n",
            " [27]\n",
            " [ 8]\n",
            " [ 3]\n",
            " [17]\n",
            " [13]\n",
            " [13]\n",
            " [15]\n",
            " [ 8]\n",
            " [29]\n",
            " [30]\n",
            " [24]\n",
            " [ 9]\n",
            " [31]\n",
            " [14]\n",
            " [53]\n",
            " [26]]\n",
            "The Labels to be tested on : [[ 89.9]\n",
            " [202.4]\n",
            " [181.3]\n",
            " [152.8]\n",
            " [162.8]\n",
            " [ 73.4]\n",
            " [ 21.3]\n",
            " [ 92.6]\n",
            " [ 76.1]\n",
            " [ 39.9]\n",
            " [142.1]\n",
            " [ 93. ]\n",
            " [ 31.9]\n",
            " [ 32.1]\n",
            " [ 55.6]\n",
            " [133.3]\n",
            " [194.5]\n",
            " [137.9]\n",
            " [ 87.4]\n",
            " [209.8]\n",
            " [ 95.5]\n",
            " [244.6]\n",
            " [187.5]]\n",
            "X_train type :  <class 'numpy.ndarray'> X_test type : <class 'numpy.ndarray'> y_train type : <class 'numpy.ndarray'> y_test type : <class 'numpy.ndarray'>\n"
          ],
          "name": "stdout"
        }
      ]
    },
    {
      "cell_type": "markdown",
      "metadata": {
        "id": "akZOUbc0OPhz"
      },
      "source": [
        "**Fifth** Let me do this for you  but watch me properly, its for Visualization."
      ]
    },
    {
      "cell_type": "code",
      "metadata": {
        "id": "gjfIFHMp3pYl",
        "colab": {
          "base_uri": "https://localhost:8080/",
          "height": 526
        },
        "outputId": "ccdd91c4-286a-4ea6-e686-061698ae9c2c"
      },
      "source": [
        "import matplotlib.pyplot as plt # A Great Package For Plotting and Visualization \n",
        "plt.figure(figsize=(10,8))     # The Plotting Window Size \n",
        "plt.title(' X vs Y Regression', fontsize=24 , fontstyle='italic')  # Title , Font size and Style \n",
        "plt.scatter(X_train ,y_train , alpha =0.5, label='Y')  # NOTE : Make Sure  x_train , y_train  IN Data Type ( Array )\n",
        "plt.show   # Showing the Result of plotting "
      ],
      "execution_count": 6,
      "outputs": [
        {
          "output_type": "execute_result",
          "data": {
            "text/plain": [
              "<function matplotlib.pyplot.show>"
            ]
          },
          "metadata": {
            "tags": []
          },
          "execution_count": 6
        },
        {
          "output_type": "display_data",
          "data": {
            "image/png": "[encoded data removed]",
            "text/plain": [
              "<Figure size 720x576 with 1 Axes>"
            ]
          },
          "metadata": {
            "tags": [],
            "needs_background": "light"
          }
        }
      ]
    },
    {
      "cell_type": "markdown",
      "metadata": {
        "id": "7Tn1oPkjO_oF"
      },
      "source": [
        "Hungry for Statistics ?\n",
        "Okey Let's Go for it, But Do you even remember the Expressions?"
      ]
    },
    {
      "cell_type": "markdown",
      "metadata": {
        "id": "-5GzNhIhP18j"
      },
      "source": [
        "**Sixth** Just Go and build a Function Mean Squared Error and call it `MSE()` That Takes a List of Actual Values and List of Predicted Values  then Returning the Mean Squared Error between them \n"
      ]
    },
    {
      "cell_type": "code",
      "metadata": {
        "id": "P9idEk1rPzHD"
      },
      "source": [
        "def MSE (actual, predicted):\n",
        "  err=0\n",
        "  sum_error=0\n",
        "  for i,j in np.nditer([actual,predicted]):\n",
        "    err=i-j\n",
        "    sum_error=sum_error+err\n",
        "  mean_square_error=sum_error/len(actual)\n",
        "  return mean_square_error"
      ],
      "execution_count": 209,
      "outputs": []
    },
    {
      "cell_type": "code",
      "metadata": {
        "colab": {
          "base_uri": "https://localhost:8080/"
        },
        "id": "aIMg_uMnqjaP",
        "outputId": "b4823f5f-e83d-4fbd-b190-4b64e0e97b55"
      },
      "source": [
        "MSE(y_train,y_prediction)"
      ],
      "execution_count": 210,
      "outputs": [
        {
          "output_type": "execute_result",
          "data": {
            "text/plain": [
              "3.379518886958976e-14"
            ]
          },
          "metadata": {
            "tags": []
          },
          "execution_count": 210
        }
      ]
    },
    {
      "cell_type": "markdown",
      "metadata": {
        "id": "_DLHOwjeQ_3d"
      },
      "source": [
        "**Ninth** Build  Following Functions:\n",
        "\n",
        "1- `Mean()`  its input :  Values ,  its Ouput : Mean of the Values.\n",
        "2- `Variance()` its input : Values, Mean , its Output : Variance of the Values.\n",
        "\n",
        "3- `Covariance()` its input : Values of X, X_mean , y_mean ,y, its Output : Covariance of X and Y.\n",
        "\n"
      ]
    },
    {
      "cell_type": "code",
      "metadata": {
        "id": "fThEft4rUktb"
      },
      "source": [
        "def Mean (arr):\n",
        "    arr_sum = 0\n",
        "    for i in arr:\n",
        "        arr_sum = arr_sum + i\n",
        "    average = float(arr_sum / len(arr))\n",
        "    return average\n",
        "\n",
        "def Variance(arr):\n",
        "  arr_avg=Mean(arr)\n",
        "  total=0\n",
        "  for i in arr:\n",
        "    difference=(i-Mean(arr))**2\n",
        "    total=total+difference\n",
        "  var=float(total / len(arr))\n",
        "  return var  \n",
        "\n",
        "def covariance(arr1,arr2):\n",
        "  mean_arr1=Mean(arr1)\n",
        "  mean_arr2=Mean(arr2) \n",
        "  x_diff=0\n",
        "  y_diff=0\n",
        "  diff_multi=0\n",
        "  sum_diff_multi=0\n",
        "  for x,y in np.nditer([arr1,arr2]):\n",
        "    x_diff=x-mean_arr1\n",
        "    y_diff=y-mean_arr1\n",
        "    diff_multi=x_diff*y_diff\n",
        "    sum_diff_multi=sum_diff_multi+diff_multi\n",
        "    coveriance_result=float(sum_diff_multi/(len(arr2)-1))\n",
        "  return coveriance_result\n"
      ],
      "execution_count": 193,
      "outputs": []
    },
    {
      "cell_type": "code",
      "metadata": {
        "colab": {
          "base_uri": "https://localhost:8080/"
        },
        "id": "sXKc4QMbY4Df",
        "outputId": "34a6ab37-64fe-4e09-9685-c539d523d7d6"
      },
      "source": [
        "covariance(X_train,y_train)"
      ],
      "execution_count": 194,
      "outputs": [
        {
          "output_type": "execute_result",
          "data": {
            "text/plain": [
              "2468.4701923076927"
            ]
          },
          "metadata": {
            "tags": []
          },
          "execution_count": 194
        }
      ]
    },
    {
      "cell_type": "code",
      "metadata": {
        "colab": {
          "base_uri": "https://localhost:8080/"
        },
        "id": "4dHZir4SY36e",
        "outputId": "a9e76dcd-2a93-411c-ecda-d24c56f3c618"
      },
      "source": [
        "Variance(X_train)"
      ],
      "execution_count": 195,
      "outputs": [
        {
          "output_type": "execute_result",
          "data": {
            "text/plain": [
              "693.784375"
            ]
          },
          "metadata": {
            "tags": []
          },
          "execution_count": 195
        }
      ]
    },
    {
      "cell_type": "code",
      "metadata": {
        "colab": {
          "base_uri": "https://localhost:8080/"
        },
        "id": "1fAp2TR-ZsrO",
        "outputId": "5df12980-0636-4ae0-e926-4ee7c07fc662"
      },
      "source": [
        "Mean(X_train)"
      ],
      "execution_count": 196,
      "outputs": [
        {
          "output_type": "execute_result",
          "data": {
            "text/plain": [
              "21.625"
            ]
          },
          "metadata": {
            "tags": []
          },
          "execution_count": 196
        }
      ]
    },
    {
      "cell_type": "markdown",
      "metadata": {
        "id": "0iBwSUvCUsva"
      },
      "source": [
        "**Seventh** : watch out for a Sensitive Point you now need to build a Function that will use  the Previous Functions to return the Co-efficents of the Best Fit Line  which  is Beta Zero and Beta One "
      ]
    },
    {
      "cell_type": "code",
      "metadata": {
        "id": "wT6RKZwgyEHs"
      },
      "source": [
        "def coefficents(arr1,arr2):\n",
        "  beta=float(covariance(arr1,arr2)/Variance(arr1))\n",
        "  alpha=float(Mean(arr2)-(beta*Mean(arr1)))\n",
        "  return beta,alpha"
      ],
      "execution_count": 197,
      "outputs": []
    },
    {
      "cell_type": "markdown",
      "metadata": {
        "id": "UW1JGasUyPiC"
      },
      "source": [
        "**Eighth**: Build a function  that will take the Input Training Data and Testing the Data , Then call the Co efficient Function with the Training Data to get the Co efficents then use it for Building the Best fit Line and return the Predictions of the Test set \n"
      ]
    },
    {
      "cell_type": "code",
      "metadata": {
        "id": "EISmDwSiLqxu"
      },
      "source": [
        "def SimpleLinearRegression(arr1,arr2):\n",
        "  beta,alpha=coefficents(arr1,arr2)\n",
        "  y_hat=0\n",
        "  arr_y_hat=[]\n",
        "  for x in arr1:\n",
        "    y_hat=float(alpha+beta*x)\n",
        "    arr_y_hat.append([y_hat])\n",
        "  return np.array(arr_y_hat)\n"
      ],
      "execution_count": 203,
      "outputs": []
    },
    {
      "cell_type": "code",
      "metadata": {
        "colab": {
          "base_uri": "https://localhost:8080/"
        },
        "id": "JohukScwrG_9",
        "outputId": "37b96bc3-f681-4b8f-95ac-45d7fff25ddd"
      },
      "source": [
        "y_prediction=SimpleLinearRegression(X_train,y_train)\n",
        "y_prediction"
      ],
      "execution_count": 208,
      "outputs": [
        {
          "output_type": "execute_result",
          "data": {
            "text/plain": [
              "array([[393.52293059],\n",
              "       [ 76.86280529],\n",
              "       [ 55.51493168],\n",
              "       [450.45059356],\n",
              "       [151.58036295],\n",
              "       [212.06600486],\n",
              "       [ 91.09472104],\n",
              "       [ 59.07291061],\n",
              "       [169.37025763],\n",
              "       [ 44.84099487],\n",
              "       [ 27.05110019],\n",
              "       [180.04419443],\n",
              "       [ 48.39897381],\n",
              "       [ 91.09472104],\n",
              "       [ 34.16705806],\n",
              "       [ 16.37716338],\n",
              "       [ 94.65269997],\n",
              "       [ 30.60907913],\n",
              "       [ 19.93514232],\n",
              "       [ 91.09472104],\n",
              "       [ 30.60907913],\n",
              "       [ 41.28301593],\n",
              "       [ 41.28301593],\n",
              "       [ 19.93514232],\n",
              "       [112.44259465],\n",
              "       [ 34.16705806],\n",
              "       [ 23.49312125],\n",
              "       [ 80.42078423],\n",
              "       [ 34.16705806],\n",
              "       [ 23.49312125],\n",
              "       [  9.26120551],\n",
              "       [ 98.21067891],\n",
              "       [ 30.60907913],\n",
              "       [ 27.05110019],\n",
              "       [ 87.5367421 ],\n",
              "       [ 48.39897381],\n",
              "       [226.2979206 ],\n",
              "       [ 51.95695274],\n",
              "       [ 23.49312125],\n",
              "       [ 66.18886849]])"
            ]
          },
          "metadata": {
            "tags": []
          },
          "execution_count": 208
        }
      ]
    },
    {
      "cell_type": "code",
      "metadata": {
        "colab": {
          "base_uri": "https://localhost:8080/",
          "height": 1000
        },
        "id": "GHoPdKJLcY_S",
        "outputId": "a072f4cc-9711-490c-e9bf-8d7223c0057f"
      },
      "source": [
        "a=pd.DataFrame((X_train),columns=['X'])\n",
        "b=pd.DataFrame((y_train),columns=['Y Actual'])\n",
        "c=pd.DataFrame(SimpleLinearRegression(X_train,y_train),columns = ['Y Predection'])\n",
        "result=pd.concat([a, b,c], axis=1)\n",
        "result"
      ],
      "execution_count": 199,
      "outputs": [
        {
          "output_type": "execute_result",
          "data": {
            "text/html": [
              "<div>\n",
              "<style scoped>\n",
              "    .dataframe tbody tr th:only-of-type {\n",
              "        vertical-align: middle;\n",
              "    }\n",
              "\n",
              "    .dataframe tbody tr th {\n",
              "        vertical-align: top;\n",
              "    }\n",
              "\n",
              "    .dataframe thead th {\n",
              "        text-align: right;\n",
              "    }\n",
              "</style>\n",
              "<table border=\"1\" class=\"dataframe\">\n",
              "  <thead>\n",
              "    <tr style=\"text-align: right;\">\n",
              "      <th></th>\n",
              "      <th>X</th>\n",
              "      <th>Y Actual</th>\n",
              "      <th>Y Predection</th>\n",
              "    </tr>\n",
              "  </thead>\n",
              "  <tbody>\n",
              "    <tr>\n",
              "      <th>0</th>\n",
              "      <td>108</td>\n",
              "      <td>392.5</td>\n",
              "      <td>393.522931</td>\n",
              "    </tr>\n",
              "    <tr>\n",
              "      <th>1</th>\n",
              "      <td>19</td>\n",
              "      <td>46.2</td>\n",
              "      <td>76.862805</td>\n",
              "    </tr>\n",
              "    <tr>\n",
              "      <th>2</th>\n",
              "      <td>13</td>\n",
              "      <td>15.7</td>\n",
              "      <td>55.514932</td>\n",
              "    </tr>\n",
              "    <tr>\n",
              "      <th>3</th>\n",
              "      <td>124</td>\n",
              "      <td>422.2</td>\n",
              "      <td>450.450594</td>\n",
              "    </tr>\n",
              "    <tr>\n",
              "      <th>4</th>\n",
              "      <td>40</td>\n",
              "      <td>119.4</td>\n",
              "      <td>151.580363</td>\n",
              "    </tr>\n",
              "    <tr>\n",
              "      <th>5</th>\n",
              "      <td>57</td>\n",
              "      <td>170.9</td>\n",
              "      <td>212.066005</td>\n",
              "    </tr>\n",
              "    <tr>\n",
              "      <th>6</th>\n",
              "      <td>23</td>\n",
              "      <td>56.9</td>\n",
              "      <td>91.094721</td>\n",
              "    </tr>\n",
              "    <tr>\n",
              "      <th>7</th>\n",
              "      <td>14</td>\n",
              "      <td>77.5</td>\n",
              "      <td>59.072911</td>\n",
              "    </tr>\n",
              "    <tr>\n",
              "      <th>8</th>\n",
              "      <td>45</td>\n",
              "      <td>214.0</td>\n",
              "      <td>169.370258</td>\n",
              "    </tr>\n",
              "    <tr>\n",
              "      <th>9</th>\n",
              "      <td>10</td>\n",
              "      <td>65.3</td>\n",
              "      <td>44.840995</td>\n",
              "    </tr>\n",
              "    <tr>\n",
              "      <th>10</th>\n",
              "      <td>5</td>\n",
              "      <td>20.9</td>\n",
              "      <td>27.051100</td>\n",
              "    </tr>\n",
              "    <tr>\n",
              "      <th>11</th>\n",
              "      <td>48</td>\n",
              "      <td>248.1</td>\n",
              "      <td>180.044194</td>\n",
              "    </tr>\n",
              "    <tr>\n",
              "      <th>12</th>\n",
              "      <td>11</td>\n",
              "      <td>23.5</td>\n",
              "      <td>48.398974</td>\n",
              "    </tr>\n",
              "    <tr>\n",
              "      <th>13</th>\n",
              "      <td>23</td>\n",
              "      <td>39.6</td>\n",
              "      <td>91.094721</td>\n",
              "    </tr>\n",
              "    <tr>\n",
              "      <th>14</th>\n",
              "      <td>7</td>\n",
              "      <td>48.8</td>\n",
              "      <td>34.167058</td>\n",
              "    </tr>\n",
              "    <tr>\n",
              "      <th>15</th>\n",
              "      <td>2</td>\n",
              "      <td>6.6</td>\n",
              "      <td>16.377163</td>\n",
              "    </tr>\n",
              "    <tr>\n",
              "      <th>16</th>\n",
              "      <td>24</td>\n",
              "      <td>134.9</td>\n",
              "      <td>94.652700</td>\n",
              "    </tr>\n",
              "    <tr>\n",
              "      <th>17</th>\n",
              "      <td>6</td>\n",
              "      <td>50.9</td>\n",
              "      <td>30.609079</td>\n",
              "    </tr>\n",
              "    <tr>\n",
              "      <th>18</th>\n",
              "      <td>3</td>\n",
              "      <td>4.4</td>\n",
              "      <td>19.935142</td>\n",
              "    </tr>\n",
              "    <tr>\n",
              "      <th>19</th>\n",
              "      <td>23</td>\n",
              "      <td>113.0</td>\n",
              "      <td>91.094721</td>\n",
              "    </tr>\n",
              "    <tr>\n",
              "      <th>20</th>\n",
              "      <td>6</td>\n",
              "      <td>14.8</td>\n",
              "      <td>30.609079</td>\n",
              "    </tr>\n",
              "    <tr>\n",
              "      <th>21</th>\n",
              "      <td>9</td>\n",
              "      <td>48.7</td>\n",
              "      <td>41.283016</td>\n",
              "    </tr>\n",
              "    <tr>\n",
              "      <th>22</th>\n",
              "      <td>9</td>\n",
              "      <td>52.1</td>\n",
              "      <td>41.283016</td>\n",
              "    </tr>\n",
              "    <tr>\n",
              "      <th>23</th>\n",
              "      <td>3</td>\n",
              "      <td>13.2</td>\n",
              "      <td>19.935142</td>\n",
              "    </tr>\n",
              "    <tr>\n",
              "      <th>24</th>\n",
              "      <td>29</td>\n",
              "      <td>103.9</td>\n",
              "      <td>112.442595</td>\n",
              "    </tr>\n",
              "    <tr>\n",
              "      <th>25</th>\n",
              "      <td>7</td>\n",
              "      <td>77.5</td>\n",
              "      <td>34.167058</td>\n",
              "    </tr>\n",
              "    <tr>\n",
              "      <th>26</th>\n",
              "      <td>4</td>\n",
              "      <td>11.8</td>\n",
              "      <td>23.493121</td>\n",
              "    </tr>\n",
              "    <tr>\n",
              "      <th>27</th>\n",
              "      <td>20</td>\n",
              "      <td>98.1</td>\n",
              "      <td>80.420784</td>\n",
              "    </tr>\n",
              "    <tr>\n",
              "      <th>28</th>\n",
              "      <td>7</td>\n",
              "      <td>27.9</td>\n",
              "      <td>34.167058</td>\n",
              "    </tr>\n",
              "    <tr>\n",
              "      <th>29</th>\n",
              "      <td>4</td>\n",
              "      <td>38.1</td>\n",
              "      <td>23.493121</td>\n",
              "    </tr>\n",
              "    <tr>\n",
              "      <th>30</th>\n",
              "      <td>0</td>\n",
              "      <td>0.0</td>\n",
              "      <td>9.261206</td>\n",
              "    </tr>\n",
              "    <tr>\n",
              "      <th>31</th>\n",
              "      <td>25</td>\n",
              "      <td>69.2</td>\n",
              "      <td>98.210679</td>\n",
              "    </tr>\n",
              "    <tr>\n",
              "      <th>32</th>\n",
              "      <td>6</td>\n",
              "      <td>14.6</td>\n",
              "      <td>30.609079</td>\n",
              "    </tr>\n",
              "    <tr>\n",
              "      <th>33</th>\n",
              "      <td>5</td>\n",
              "      <td>40.3</td>\n",
              "      <td>27.051100</td>\n",
              "    </tr>\n",
              "    <tr>\n",
              "      <th>34</th>\n",
              "      <td>22</td>\n",
              "      <td>161.5</td>\n",
              "      <td>87.536742</td>\n",
              "    </tr>\n",
              "    <tr>\n",
              "      <th>35</th>\n",
              "      <td>11</td>\n",
              "      <td>57.2</td>\n",
              "      <td>48.398974</td>\n",
              "    </tr>\n",
              "    <tr>\n",
              "      <th>36</th>\n",
              "      <td>61</td>\n",
              "      <td>217.6</td>\n",
              "      <td>226.297921</td>\n",
              "    </tr>\n",
              "    <tr>\n",
              "      <th>37</th>\n",
              "      <td>12</td>\n",
              "      <td>58.1</td>\n",
              "      <td>51.956953</td>\n",
              "    </tr>\n",
              "    <tr>\n",
              "      <th>38</th>\n",
              "      <td>4</td>\n",
              "      <td>12.6</td>\n",
              "      <td>23.493121</td>\n",
              "    </tr>\n",
              "    <tr>\n",
              "      <th>39</th>\n",
              "      <td>16</td>\n",
              "      <td>59.6</td>\n",
              "      <td>66.188868</td>\n",
              "    </tr>\n",
              "  </tbody>\n",
              "</table>\n",
              "</div>"
            ],
            "text/plain": [
              "      X  Y Actual  Y Predection\n",
              "0   108     392.5    393.522931\n",
              "1    19      46.2     76.862805\n",
              "2    13      15.7     55.514932\n",
              "3   124     422.2    450.450594\n",
              "4    40     119.4    151.580363\n",
              "5    57     170.9    212.066005\n",
              "6    23      56.9     91.094721\n",
              "7    14      77.5     59.072911\n",
              "8    45     214.0    169.370258\n",
              "9    10      65.3     44.840995\n",
              "10    5      20.9     27.051100\n",
              "11   48     248.1    180.044194\n",
              "12   11      23.5     48.398974\n",
              "13   23      39.6     91.094721\n",
              "14    7      48.8     34.167058\n",
              "15    2       6.6     16.377163\n",
              "16   24     134.9     94.652700\n",
              "17    6      50.9     30.609079\n",
              "18    3       4.4     19.935142\n",
              "19   23     113.0     91.094721\n",
              "20    6      14.8     30.609079\n",
              "21    9      48.7     41.283016\n",
              "22    9      52.1     41.283016\n",
              "23    3      13.2     19.935142\n",
              "24   29     103.9    112.442595\n",
              "25    7      77.5     34.167058\n",
              "26    4      11.8     23.493121\n",
              "27   20      98.1     80.420784\n",
              "28    7      27.9     34.167058\n",
              "29    4      38.1     23.493121\n",
              "30    0       0.0      9.261206\n",
              "31   25      69.2     98.210679\n",
              "32    6      14.6     30.609079\n",
              "33    5      40.3     27.051100\n",
              "34   22     161.5     87.536742\n",
              "35   11      57.2     48.398974\n",
              "36   61     217.6    226.297921\n",
              "37   12      58.1     51.956953\n",
              "38    4      12.6     23.493121\n",
              "39   16      59.6     66.188868"
            ]
          },
          "metadata": {
            "tags": []
          },
          "execution_count": 199
        }
      ]
    },
    {
      "cell_type": "markdown",
      "metadata": {
        "id": "r9G9YH-JL0jc"
      },
      "source": [
        "**Nineth**: Finally Build a Function that Calls The `MSE` function and the `SimpleLineRegression` Function and use it to Print the Result as an Evaluation for the model"
      ]
    },
    {
      "cell_type": "code",
      "metadata": {
        "id": "ak3WsQ6KM3w-"
      },
      "source": [
        "def Evaluate(arr1,arr2):\n"
      ],
      "execution_count": 183,
      "outputs": []
    },
    {
      "cell_type": "markdown",
      "metadata": {
        "id": "lONNIZLeM_XT"
      },
      "source": [
        "Let me Now visualize your work for you ! Just help me with the Naming"
      ]
    },
    {
      "cell_type": "code",
      "metadata": {
        "id": "H3OyI_SeY2pf"
      },
      "source": [
        "import matplotlib.pyplot as plt\n",
        "plt.figure(figsize=(10,8))\n",
        "plt.title('PREDICTION VS ACTUAL ', fontsize=24 , fontstyle='italic')\n",
        "plt.plot(x, y, linewidth=2.0)  ## REPLACE X AND Y WITH  X_test AND PREDS ARRAYS! \n",
        "plt.show"
      ],
      "execution_count": 201,
      "outputs": []
    },
    {
      "cell_type": "markdown",
      "metadata": {
        "id": "eu3O194UNdMc"
      },
      "source": [
        "You 've done So *GREAT* today !\n",
        "# Thank You"
      ]
    }
  ]
}