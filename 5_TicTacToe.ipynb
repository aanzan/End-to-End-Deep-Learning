{
  "nbformat": 4,
  "nbformat_minor": 0,
  "metadata": {
    "kernelspec": {
      "display_name": "Python 3",
      "language": "python",
      "name": "python3"
    },
    "language_info": {
      "codemirror_mode": {
        "name": "ipython",
        "version": 3
      },
      "file_extension": ".py",
      "mimetype": "text/x-python",
      "name": "python",
      "nbconvert_exporter": "python",
      "pygments_lexer": "ipython3",
      "version": "3.6.2"
    },
    "colab": {
      "name": "Copy of 5_TicTacToe.ipynb",
      "provenance": [],
      "collapsed_sections": []
    }
  },
  "cells": [
    {
      "cell_type": "markdown",
      "metadata": {
        "id": "aAjb_hDyTKQh"
      },
      "source": [
        "# Tic Tac Toe Game \n",
        "##### Scratch Building\n",
        "##### No GUI Required "
      ]
    },
    {
      "cell_type": "markdown",
      "metadata": {
        "id": "NG1KZg4sTKQj"
      },
      "source": [
        "#### Some suggested tools before you get started:\n",
        "To take input from a user:\n",
        "\n",
        "    player1 = input(\"Please pick a marker 'X' or 'O'\")\n",
        "    \n",
        "Note that input() takes in a string. If you need an integer value, use\n",
        "\n",
        "    position = int(input('Please enter a number'))\n",
        "    \n",
        "<br>To clear the screen between moves:\n",
        "\n",
        "    from IPython.display import clear_output\n",
        "    clear_output()\n",
        "    \n",
        "Note that clear_output() will only work in jupyter. To clear the screen in other IDEs, consider:\n",
        "\n",
        "    print('\\n'*100)\n",
        "    \n",
        "This scrolls the previous board up out of view. Now on to the program!"
      ]
    },
    {
      "cell_type": "markdown",
      "metadata": {
        "id": "eq31aKoKTKQk"
      },
      "source": [
        "**Step 1: Write a function that can print out a board. Set up your board as a list, where each index 1-9 corresponds with a number on a number pad, so you get a 3 by 3 board representation.**"
      ]
    },
    {
      "cell_type": "code",
      "metadata": {
        "id": "v6oZEXZXTKQl"
      },
      "source": [
        "from IPython.display import clear_output\n",
        "\n",
        "def display_board(board):\n",
        "    \n",
        "    pass"
      ],
      "execution_count": null,
      "outputs": []
    },
    {
      "cell_type": "markdown",
      "metadata": {
        "id": "YE-nz_ETTKQo"
      },
      "source": [
        "**TEST Step 1:** run your function on a test version of the board list, and make adjustments as necessary"
      ]
    },
    {
      "cell_type": "code",
      "metadata": {
        "id": "4iQ9D-u5TKQp"
      },
      "source": [
        "test_board = ['X','O','X','O','X','O','X','O','X']\n",
        "display_board(test_board)"
      ],
      "execution_count": null,
      "outputs": []
    },
    {
      "cell_type": "markdown",
      "metadata": {
        "id": "WxeUw0FhTKQr"
      },
      "source": [
        "**Step 2: Write a function that can take in a player input and assign their marker as 'X' or 'O'. Think about using *while* loops to continually ask until you get a correct answer.**"
      ]
    },
    {
      "cell_type": "code",
      "metadata": {
        "id": "MG0XC4aXTKQs"
      },
      "source": [
        "def player_input():\n",
        "    \n",
        "    pass"
      ],
      "execution_count": null,
      "outputs": []
    },
    {
      "cell_type": "markdown",
      "metadata": {
        "id": "6fVimbgzTKQu"
      },
      "source": [
        "**TEST Step 2:** run the function to make sure it returns the desired output"
      ]
    },
    {
      "cell_type": "code",
      "metadata": {
        "id": "PJSO5QX1TKQu"
      },
      "source": [
        "player_input()"
      ],
      "execution_count": null,
      "outputs": []
    },
    {
      "cell_type": "markdown",
      "metadata": {
        "id": "aQN1q9gGTKQw"
      },
      "source": [
        "**Step 3: Write a function that takes in the board list object, a marker ('X' or 'O'), and a desired position (number 1-9) and assigns it to the board.**"
      ]
    },
    {
      "cell_type": "code",
      "metadata": {
        "id": "drK45WDaTKQx"
      },
      "source": [
        "def place_marker(board, marker, position):\n",
        "    \n",
        "    pass"
      ],
      "execution_count": null,
      "outputs": []
    },
    {
      "cell_type": "markdown",
      "metadata": {
        "id": "gapk660ATKQz"
      },
      "source": [
        "**TEST Step 3:** run the place marker function using test parameters and display the modified board"
      ]
    },
    {
      "cell_type": "code",
      "metadata": {
        "id": "4vIDyBjrTKQ0"
      },
      "source": [
        "place_marker(test_board,'$',8)\n",
        "display_board(test_board)"
      ],
      "execution_count": null,
      "outputs": []
    },
    {
      "cell_type": "markdown",
      "metadata": {
        "id": "vRuvrYsVTKQ2"
      },
      "source": [
        "**Step 4: Write a function that takes in a board and a mark (X or O) and then checks to see if that mark has won. **"
      ]
    },
    {
      "cell_type": "code",
      "metadata": {
        "id": "Zl_L_t1xTKQ2"
      },
      "source": [
        "def win_check(board, mark):\n",
        "    \n",
        "    pass"
      ],
      "execution_count": null,
      "outputs": []
    },
    {
      "cell_type": "markdown",
      "metadata": {
        "id": "D9tY6vCHTKQ4"
      },
      "source": [
        "**TEST Step 4:** run the win_check function against our test_board - it should return True"
      ]
    },
    {
      "cell_type": "code",
      "metadata": {
        "id": "W_rBIIOCTKQ5"
      },
      "source": [
        "win_check(test_board,'X')"
      ],
      "execution_count": null,
      "outputs": []
    },
    {
      "cell_type": "markdown",
      "metadata": {
        "id": "ROj56ItpTKQ7"
      },
      "source": [
        "**Step 5: Write a function that uses the random module to randomly decide which player goes first. You may want to lookup random.randint() Return a string of which player went first.**"
      ]
    },
    {
      "cell_type": "code",
      "metadata": {
        "id": "NMgrAjU3TKQ7"
      },
      "source": [
        "import random\n",
        "\n",
        "def choose_first():\n",
        "    pass"
      ],
      "execution_count": null,
      "outputs": []
    },
    {
      "cell_type": "markdown",
      "metadata": {
        "id": "7H1uXKU-TKQ9"
      },
      "source": [
        "**Step 6: Write a function that returns a boolean indicating whether a space on the board is freely available.**"
      ]
    },
    {
      "cell_type": "code",
      "metadata": {
        "id": "i0rtv4b3TKQ-"
      },
      "source": [
        "def space_check(board, position):\n",
        "    \n",
        "    pass"
      ],
      "execution_count": null,
      "outputs": []
    },
    {
      "cell_type": "markdown",
      "metadata": {
        "id": "TKfVJE_KTKRA"
      },
      "source": [
        "**Step 7: Write a function that checks if the board is full and returns a boolean value. True if full, False otherwise.**"
      ]
    },
    {
      "cell_type": "code",
      "metadata": {
        "id": "Vsa0TroYTKRB"
      },
      "source": [
        "def full_board_check(board):\n",
        "    \n",
        "    pass"
      ],
      "execution_count": null,
      "outputs": []
    },
    {
      "cell_type": "markdown",
      "metadata": {
        "id": "ju-R3rRATKRD"
      },
      "source": [
        "**Step 8: Write a function that asks for a player's next position (as a number 1-9) and then uses the function from step 6 to check if it's a free position. If it is, then return the position for later use.**"
      ]
    },
    {
      "cell_type": "code",
      "metadata": {
        "id": "zLusZVZETKRE"
      },
      "source": [
        "def player_choice(board):\n",
        "    \n",
        "    pass"
      ],
      "execution_count": null,
      "outputs": []
    },
    {
      "cell_type": "markdown",
      "metadata": {
        "id": "E9ryWxTdTKRG"
      },
      "source": [
        "**Step 9: Write a function that asks the player if they want to play again and returns a boolean True if they do want to play again.**"
      ]
    },
    {
      "cell_type": "code",
      "metadata": {
        "id": "1_Nt3ngsTKRG"
      },
      "source": [
        "def replay():\n",
        "    \n",
        "    pass"
      ],
      "execution_count": null,
      "outputs": []
    },
    {
      "cell_type": "markdown",
      "metadata": {
        "collapsed": true,
        "id": "gjLdHz0MTKRI"
      },
      "source": [
        "**Step 10: Here comes the hard part! Use while loops and the functions you've made to run the game!**"
      ]
    },
    {
      "cell_type": "code",
      "metadata": {
        "colab": {
          "base_uri": "https://localhost:8080/"
        },
        "id": "ozPELH_mh4XW",
        "outputId": "5d09f33c-f618-4355-8a1c-17e3b287537e"
      },
      "source": [
        "def display_board(board): \n",
        "    print('\\n'*50) \n",
        "    print(board[7] + ' | ' + board[8] + ' | ' + board[9])\n",
        "    print('--|---|--')\n",
        "    print(board[4] + ' | ' + board[5] + ' | ' + board[6])\n",
        "    print('--|---|--')\n",
        "    print(board[1] + ' | ' + board[2] + ' | ' + board[3])\n",
        "\n",
        "\n",
        "test_board = ['#','X','O','X','O','X','O','X','O','X'] # temporarily fills out board to see how it looks\n",
        "display_board(test_board) "
      ],
      "execution_count": 7,
      "outputs": [
        {
          "output_type": "stream",
          "text": [
            "\n",
            "\n",
            "\n",
            "\n",
            "\n",
            "\n",
            "\n",
            "\n",
            "\n",
            "\n",
            "\n",
            "\n",
            "\n",
            "\n",
            "\n",
            "\n",
            "\n",
            "\n",
            "\n",
            "\n",
            "\n",
            "\n",
            "\n",
            "\n",
            "\n",
            "\n",
            "\n",
            "\n",
            "\n",
            "\n",
            "\n",
            "\n",
            "\n",
            "\n",
            "\n",
            "\n",
            "\n",
            "\n",
            "\n",
            "\n",
            "\n",
            "\n",
            "\n",
            "\n",
            "\n",
            "\n",
            "\n",
            "\n",
            "\n",
            "\n",
            "\n",
            "X | O | X\n",
            "--|---|--\n",
            "O | X | O\n",
            "--|---|--\n",
            "X | O | X\n"
          ],
          "name": "stdout"
        }
      ]
    },
    {
      "cell_type": "code",
      "metadata": {
        "colab": {
          "base_uri": "https://localhost:8080/"
        },
        "id": "FqMVecA4g27h",
        "outputId": "0b41e477-f143-48cd-daa4-0696843d0c46"
      },
      "source": [
        "def display_board(board): \n",
        "    \n",
        "    print(board[7] + ' | ' + board[8] + ' | ' + board[9])\n",
        "    print('--|---|--')\n",
        "    print(board[4] + ' | ' + board[5] + ' | ' + board[6])\n",
        "    print('--|---|--')\n",
        "    print(board[1] + ' | ' + board[2] + ' | ' + board[3])\n",
        "\n",
        "def player_input():\n",
        "    marker = ''\n",
        "\n",
        "    while marker != 'X' and marker != 'O':\n",
        "        marker = input('\\n Player 1: Do you want to be X or O ? ').upper()\n",
        "\n",
        "    if marker == 'X':\n",
        "        return('X','O')\n",
        "    else:\n",
        "        return('O','X')\n",
        "\n",
        "def place_marker(board, marker, position):\n",
        "    board[position] = marker \n",
        "place_marker(test_board,':)',8)\n",
        "\n",
        "\n",
        "def win_check(board, mark):\n",
        "    return(\n",
        "        (board[7] == mark and board[8] == mark and board[9] == mark) or\n",
        "        (board[4] == mark and board[5] == mark and board[6] == mark) or\n",
        "        (board[1] == mark and board[2] == mark and board[3] == mark) or\n",
        "\n",
        "        (board[7] == mark and board[4] == mark and board[1] == mark) or\n",
        "        (board[8] == mark and board[5] == mark and board[2] == mark) or\n",
        "        (board[9] == mark and board[6] == mark and board[3] == mark) or\n",
        "\n",
        "        (board[1] == mark and board[5] == mark and board[9] == mark) or\n",
        "        (board[7] == mark and board[5] == mark and board[3] == mark)\n",
        "        )\n",
        "\n",
        "\n",
        "import random\n",
        "def choose_first():\n",
        "    if random.randint(0,1) == 0:\n",
        "        return 'Player 2'\n",
        "    else:\n",
        "        return 'Player 1'\n",
        "\n",
        "\n",
        "def space_check(board, position):\n",
        "    return board[position] == ' '\n",
        "\n",
        "def full_board_check(board):\n",
        "    for i in range(1,10):\n",
        "        if space_check(board, i):\n",
        "            return False\n",
        "    return True\n",
        "\n",
        "\n",
        "def player_choice(board):\n",
        "    position = 0\n",
        "    \n",
        "    while position not in [1,2,3,4,5,6,7,8,9] or not space_check(board, position):\n",
        "        position = int(input('Choose your next position: (1-9) '))\n",
        "\n",
        "    return position\n",
        "\n",
        "def replay():\n",
        "    return input('Do you want to play again? Enter Yes or No ').lower().startswith('y')\n",
        "\n",
        "print('Welcome to Tic Tac Toe')\n",
        "\n",
        "while True:\n",
        "   \n",
        "    theBoard = [' '] *10\n",
        "    player1_marker, player2_marker = player_input()\n",
        "    turn = choose_first()\n",
        "    print(turn + ' will go first.')\n",
        "\n",
        "    play_game = input('Are you ready to play? Enter Yes or No.')\n",
        "\n",
        "    if play_game.lower()[0] == 'y':\n",
        "        game_on = True\n",
        "    else:\n",
        "        game_on = False\n",
        "\n",
        "    while game_on:\n",
        "        if turn == 'Player 1':\n",
        "           \n",
        "\n",
        "            display_board(theBoard)\n",
        "            position = player_choice(theBoard)\n",
        "            place_marker(theBoard, player1_marker, position)\n",
        "\n",
        "            if win_check(theBoard, player1_marker):\n",
        "                display_board(theBoard)\n",
        "                print('Congratulations! You won the game!')\n",
        "                game_on = False\n",
        "            else:\n",
        "                if full_board_check(theBoard):\n",
        "                    display_board(theBoard)\n",
        "                    print('The game is a draw')\n",
        "                    break\n",
        "                else:\n",
        "                    turn = 'Player 2'\n",
        "\n",
        "        else:\n",
        "           \n",
        "\n",
        "            display_board(theBoard)\n",
        "            position = player_choice(theBoard)\n",
        "            place_marker(theBoard, player2_marker, position)\n",
        "\n",
        "            if win_check(theBoard, player2_marker):\n",
        "                display_board(theBoard)\n",
        "                print('Player 2 has won!')\n",
        "                game_on = False\n",
        "            else:\n",
        "                if full_board_check(theBoard):\n",
        "                    display_board(theBoard)\n",
        "                    print('The game is a draw')\n",
        "                    break\n",
        "                else:\n",
        "                    turn = 'Player 1'\n",
        "    if not replay():\n",
        "        break    "
      ],
      "execution_count": 9,
      "outputs": [
        {
          "output_type": "stream",
          "text": [
            "Welcome to Tic Tac Toe\n",
            "\n",
            " Player 1: Do you want to be X or O ? x\n",
            "Player 2 will go first.\n",
            "Are you ready to play? Enter Yes or No.no\n",
            "Do you want to play again? Enter Yes or No no\n"
          ],
          "name": "stdout"
        }
      ]
    },
    {
      "cell_type": "markdown",
      "metadata": {
        "collapsed": true,
        "id": "V3AlA00FTKRL"
      },
      "source": [
        "## Good Job!"
      ]
    }
  ]
}