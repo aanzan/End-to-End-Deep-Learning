{
  "nbformat": 4,
  "nbformat_minor": 0,
  "metadata": {
    "kernelspec": {
      "display_name": "Python 3",
      "language": "python",
      "name": "python3"
    },
    "language_info": {
      "codemirror_mode": {
        "name": "ipython",
        "version": 3
      },
      "file_extension": ".py",
      "mimetype": "text/x-python",
      "name": "python",
      "nbconvert_exporter": "python",
      "pygments_lexer": "ipython3",
      "version": "3.6.2"
    },
    "colab": {
      "name": "Copy of Python Challenge Guessing Game.ipynb",
      "provenance": [],
      "collapsed_sections": []
    }
  },
  "cells": [
    {
      "cell_type": "markdown",
      "metadata": {
        "id": "NQuOyznPahpH"
      },
      "source": [
        "# Guessing Game Challenge\n",
        "\n",
        "Let's use `while` loops to create a guessing game.\n",
        "\n",
        "The Challenge:\n",
        "\n",
        "Write a program that picks a random integer from 1 to 100, and has players guess the number. The rules are:\n",
        "\n",
        "1. If a player's guess is less than 1 or greater than 100, say \"OUT OF BOUNDS\"\n",
        "\n",
        "2. On all turns, if a guess is \n",
        " * closer to the number than the previous guess return \"Closer!\"\n",
        " * farther from the number than the previous guess, return \"Farther!\"\n",
        "3. When the player's guess equals the number, tell them they've guessed correctly *and* how many guesses it took!\n",
        "\n",
        "Now Lets o fro the Steps!"
      ]
    },
    {
      "cell_type": "markdown",
      "metadata": {
        "id": "6K7SSiaEahpK"
      },
      "source": [
        "#### First, Build a Line of Code that can Return arandom integer from 1 to 100 and store this number in object called Actual"
      ]
    },
    {
      "cell_type": "code",
      "metadata": {
        "id": "8R7ayXGwahpL",
        "colab": {
          "base_uri": "https://localhost:8080/"
        },
        "outputId": "96004143-3fb9-4901-e4a1-9ea61c47666d"
      },
      "source": [
        "#Type Your Code Here  - Replace None with Correct  Function  \n",
        "Actual = None\n",
        "from random import randint\n",
        "Actual=randint(0,100)\n",
        "Actual\n"
      ],
      "execution_count": null,
      "outputs": [
        {
          "output_type": "execute_result",
          "data": {
            "text/plain": [
              "33"
            ]
          },
          "metadata": {
            "tags": []
          },
          "execution_count": 2
        }
      ]
    },
    {
      "cell_type": "markdown",
      "metadata": {
        "id": "la65uFUjahpO"
      },
      "source": [
        "#### Next, build a Code to display an introduction to the Game to tell the user the Boundaries from 1 to 100 and what is his target."
      ]
    },
    {
      "cell_type": "code",
      "metadata": {
        "id": "cpMGPRNT7F-J"
      },
      "source": [
        "#Type Your Code here \n",
        "print('please enter number from 1 to 100')"
      ],
      "execution_count": null,
      "outputs": []
    },
    {
      "cell_type": "markdown",
      "metadata": {
        "id": "GyW_z6Sf74yG"
      },
      "source": [
        "### Next, Build a Code that takes an integer input from the user "
      ]
    },
    {
      "cell_type": "code",
      "metadata": {
        "id": "UZCNvK4o82k-",
        "colab": {
          "base_uri": "https://localhost:8080/"
        },
        "outputId": "0d0bfd07-c1b1-4b8f-dcba-8dbdd2dfe433"
      },
      "source": [
        "#Type Your Code Here - Replace None With Correct Function \n",
        "Guess= None \n",
        "Guess=int(input())"
      ],
      "execution_count": null,
      "outputs": [
        {
          "output_type": "stream",
          "text": [
            "15\n"
          ],
          "name": "stdout"
        }
      ]
    },
    {
      "cell_type": "markdown",
      "metadata": {
        "id": "BHsh0slo834l"
      },
      "source": [
        "### Next, Put the Upper Cell in A Loop that keeps checking if the Number is Out of Bounds or Not  "
      ]
    },
    {
      "cell_type": "code",
      "metadata": {
        "id": "Xx00D-J89xsk"
      },
      "source": [
        "#Replace None Values with correct conditions or Booleans\n",
        "while :\n",
        "  # Take input from user \n",
        "  if  None :\n",
        "   # if right then print something\n",
        "\n",
        "  #and if not print another thing \n"
      ],
      "execution_count": null,
      "outputs": []
    },
    {
      "cell_type": "markdown",
      "metadata": {
        "id": "d-USlvx8dNak"
      },
      "source": [
        "### Next, Build a Code that Check if the Guess is equal to the Actual Random Number"
      ]
    },
    {
      "cell_type": "code",
      "metadata": {
        "id": "E95mJnFNdfiW"
      },
      "source": [
        "guesses= None #Make it an Empty List \n",
        "#Change None to Correct Boolean between\n",
        "if  None :\n",
        "  print ('Wow, you've guessed Correctly this time') #Fix \n",
        "  'You have guessed it in {} times'.format(None) # Put function that calculate the Real Number of Guesses "
      ],
      "execution_count": null,
      "outputs": []
    },
    {
      "cell_type": "markdown",
      "metadata": {
        "id": "VWNf49z6WVek"
      },
      "source": [
        "### Next, Build a Code that Check on Each Guess whether its closer than the Previous Guess or not."
      ]
    },
    {
      "cell_type": "code",
      "metadata": {
        "id": "O7McDw6pbVfX"
      },
      "source": [
        "\n",
        "while(None):\n",
        "  if  None :\n",
        "    print(' you are closer to target ')\n",
        "  print(' you are far from the target ')\n",
        "\n"
      ],
      "execution_count": null,
      "outputs": []
    },
    {
      "cell_type": "markdown",
      "metadata": {
        "id": "v-wMuTZLahpY"
      },
      "source": [
        "#### Write a `while` loop that compares the player's guess to our number. If the player guesses correctly, break from the loop. Otherwise, tell the player if they're Closer or Farer , and continue asking for guesses.\n",
        "\n",
        "**Try to Collect All the cells you 've made above and use it here**\n",
        "\n",
        "Hint:\n",
        "\n",
        "\n",
        "* you can use the `abs()` function to find the positive difference between two numbers\n",
        "\n",
        "\n",
        "# Decomposition \n",
        "\n",
        "*   Choosing Random Number\n",
        "*   Game Intro for the User\n",
        "*   Checking on the Inserted Guess if its in boundary or not\n",
        "*   Checking on the Inserted Guess if its equal to the Random Number or Not\n",
        "*   Checking on the Inserted Guess if its Far or Close from the Previous Guess.\n",
        "\n",
        "\n",
        "\n"
      ]
    },
    {
      "cell_type": "code",
      "metadata": {
        "id": "FaifUKKUahpZ"
      },
      "source": [
        "# Type your Final Code here\n"
      ],
      "execution_count": null,
      "outputs": []
    },
    {
      "cell_type": "code",
      "metadata": {
        "id": "3WmFudWAl7gi"
      },
      "source": [
        "# Type here the Big Loop\n",
        "while None :\n",
        "  continue "
      ],
      "execution_count": null,
      "outputs": []
    },
    {
      "cell_type": "markdown",
      "metadata": {
        "id": "5UZ7l5wEahpb"
      },
      "source": [
        "That's it! You've just programmed your first game!\n",
        "\n",
        "In the next section we'll learn how to turn some of these repetitive actions into *functions* that can be called whenever we need them."
      ]
    },
    {
      "cell_type": "code",
      "metadata": {
        "id": "q-LNJmDH_QI5",
        "colab": {
          "base_uri": "https://localhost:8080/"
        },
        "outputId": "eddc4359-3ce4-41b7-e341-406815c2d14a"
      },
      "source": [
        ""
      ],
      "execution_count": 3,
      "outputs": [
        {
          "output_type": "execute_result",
          "data": {
            "text/plain": [
              "<function len>"
            ]
          },
          "metadata": {
            "tags": []
          },
          "execution_count": 3
        }
      ]
    },
    {
      "cell_type": "code",
      "metadata": {
        "colab": {
          "base_uri": "https://localhost:8080/"
        },
        "id": "zJXttCcMm7Fk",
        "outputId": "53556fc6-22bf-4236-944e-a663c5c06797"
      },
      "source": [
        "Actual = None\n",
        "guesses=[]\n",
        "\n",
        "from random import randint\n",
        "Actual=randint(0,100)\n",
        "print(Actual)\n",
        "print('Hello, choose one random number from 0 to 100')\n",
        "Guess=int(input())\n",
        "guesses.append(Guess)\n",
        "\n",
        "      \n",
        "while 0 <= Guess <= 100 :\n",
        "   if Guess == Actual:\n",
        "      print('Wow, you\\'ve guessed Correctly') \n",
        "      times=len(guesses)\n",
        "      print('You have guessed it in {} times'.format(times))\n",
        "      break\n",
        "   if len(guesses)==1:\n",
        "      print('Wrong guess try Again,First attemp')\n",
        "      Guess=int(input())\n",
        "      guesses.append(Guess)\n",
        "      print(Guess)\n",
        "   elif len(guesses)>1:\n",
        "     if guesses[-2] < Guess > Actual:\n",
        "        print('You are far from the answer')\n",
        "        Guess=int(input())\n",
        "        guesses.append(Guess)   \n",
        "     elif guesses[-2] > Guess > Actual:\n",
        "       print('You are closer to the answer')\n",
        "       Guess=int(input())\n",
        "       guesses.append(Guess)\n",
        " \n"
      ],
      "execution_count": 103,
      "outputs": [
        {
          "output_type": "stream",
          "text": [
            "46\n",
            "Hello, choose one random number from 0 to 100\n",
            "48\n",
            "Wrong guess try Again,First attemp\n",
            "80\n",
            "80\n",
            "You are far from the answer\n",
            "88\n",
            "You are far from the answer\n",
            "50\n",
            "You are closer to the answer\n",
            "46\n",
            "Wow, you've guessed Correctly\n",
            "You have guessed it in 5 times\n"
          ],
          "name": "stdout"
        }
      ]
    },
    {
      "cell_type": "code",
      "metadata": {
        "id": "fSxT5IjX4Ar0"
      },
      "source": [
        ""
      ],
      "execution_count": 103,
      "outputs": []
    },
    {
      "cell_type": "code",
      "metadata": {
        "id": "s_xEeDO9OKx5"
      },
      "source": [
        ""
      ],
      "execution_count": 103,
      "outputs": []
    },
    {
      "cell_type": "markdown",
      "metadata": {
        "id": "HlHfgyZ9ahpc"
      },
      "source": [
        "### Good Job!"
      ]
    }
  ]
}