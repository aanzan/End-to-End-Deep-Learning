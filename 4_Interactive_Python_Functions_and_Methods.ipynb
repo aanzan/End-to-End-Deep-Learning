{
  "nbformat": 4,
  "nbformat_minor": 0,
  "metadata": {
    "kernelspec": {
      "display_name": "Python 3",
      "language": "python",
      "name": "python3"
    },
    "language_info": {
      "codemirror_mode": {
        "name": "ipython",
        "version": 3
      },
      "file_extension": ".py",
      "mimetype": "text/x-python",
      "name": "python",
      "nbconvert_exporter": "python",
      "pygments_lexer": "ipython3",
      "version": "3.6.2"
    },
    "colab": {
      "name": "Interactive Python Functions and Methods.ipynb",
      "provenance": [],
      "collapsed_sections": []
    }
  },
  "cells": [
    {
      "cell_type": "markdown",
      "metadata": {
        "id": "ZTCfZwhDH0SN"
      },
      "source": [
        "# Methods\n",
        "\n",
        "We've already seen a few example of methods when learning about Object and Data Structure Types in Python. Methods are essentially functions built into objects. Later on in the course we will learn about how to create our own objects and methods using Object Oriented Programming (OOP) and classes.\n",
        "\n",
        "\n",
        "Methods are in the form:\n",
        "\n",
        "    object.method(arg1,arg2,etc...)\n",
        "    \n",
        "\n",
        "Let's take a quick look at what an example of the various methods a list has:"
      ]
    },
    {
      "cell_type": "code",
      "metadata": {
        "id": "yiNpNUnQH0SS"
      },
      "source": [
        "# Create a simple list\n",
        "lst = [1,2,3,4,5]"
      ],
      "execution_count": null,
      "outputs": []
    },
    {
      "cell_type": "markdown",
      "metadata": {
        "id": "gdPKNvYBH0Sb"
      },
      "source": [
        "Fortunately, with iPython and the Jupyter Notebook we can quickly see all the possible methods using the tab key. The methods for a list are:\n",
        "\n",
        "* append\n",
        "* count\n",
        "* extend\n",
        "* insert\n",
        "* pop\n",
        "* remove\n",
        "* reverse\n",
        "* sort\n",
        "\n",
        "Let's try out a few of them:"
      ]
    },
    {
      "cell_type": "markdown",
      "metadata": {
        "id": "-PIKZPGsH0Se"
      },
      "source": [
        "\n",
        "# How to see All the Methods for your object\n",
        "**If you are in Colab just type  `object.`  and it will Autocomplete and show all the Methods that are available for your Object\n",
        "If you are in Jupyter Press `Tab`**"
      ]
    },
    {
      "cell_type": "code",
      "metadata": {
        "id": "s5ENn8eyH0Sf"
      },
      "source": [
        "lst.     # Delete this (.) dot   and type it again then wait for Auto complete or Press tab in jupyter"
      ],
      "execution_count": null,
      "outputs": []
    },
    {
      "cell_type": "code",
      "metadata": {
        "id": "YfO_KtYcH0Sj"
      },
      "source": [
        "lst."
      ],
      "execution_count": null,
      "outputs": []
    },
    {
      "cell_type": "markdown",
      "metadata": {
        "id": "LUO-MWuJH0Sq"
      },
      "source": [
        "Great! Now how about count()? The count() method will count the number of occurrences of an element in a list."
      ]
    },
    {
      "cell_type": "code",
      "metadata": {
        "id": "XuYJBAXDH0Ss",
        "colab": {
          "base_uri": "https://localhost:8080/"
        },
        "outputId": "8c1faaf3-936d-4fe5-d4af-62227ac79570"
      },
      "source": [
        "# Check how many times 2 shows up in the list\n",
        "lst.count(2)"
      ],
      "execution_count": null,
      "outputs": [
        {
          "output_type": "execute_result",
          "data": {
            "text/plain": [
              "1"
            ]
          },
          "metadata": {
            "tags": []
          },
          "execution_count": 2
        }
      ]
    },
    {
      "cell_type": "code",
      "metadata": {
        "id": "X3cmqz1oDUFa"
      },
      "source": [
        "def  say_anything (a,b):\n",
        "\n",
        "  c=a+b\n",
        "  print(c)"
      ],
      "execution_count": null,
      "outputs": []
    },
    {
      "cell_type": "code",
      "metadata": {
        "colab": {
          "base_uri": "https://localhost:8080/"
        },
        "id": "eTZCkVuxDaJL",
        "outputId": "3c8c521b-ceac-4ccf-c214-9e7e433973df"
      },
      "source": [
        "say_anything (20,80)"
      ],
      "execution_count": null,
      "outputs": [
        {
          "output_type": "stream",
          "text": [
            "100\n"
          ],
          "name": "stdout"
        }
      ]
    },
    {
      "cell_type": "markdown",
      "metadata": {
        "id": "rzO3XNNxLLao"
      },
      "source": [
        "# Functions\n",
        "\n",
        "Let's see how to build out a function's syntax in Python. It has the following form:"
      ]
    },
    {
      "cell_type": "code",
      "metadata": {
        "id": "-d1c6oy3LLap"
      },
      "source": [
        "def name_of_function(arg1,arg2):\n",
        "    '''\n",
        "    This is where the function's Document String (docstring) goes\n",
        "    '''\n",
        "    # Do stuff here\n",
        "    # Return desired result"
      ],
      "execution_count": null,
      "outputs": []
    },
    {
      "cell_type": "markdown",
      "metadata": {
        "id": "Ej8HoH8VLLat"
      },
      "source": [
        "### Example 1: A simple print 'hello' function"
      ]
    },
    {
      "cell_type": "code",
      "metadata": {
        "id": "eJ9M5JisLLau"
      },
      "source": [
        "def say_hello():\n",
        "    print('hello')"
      ],
      "execution_count": null,
      "outputs": []
    },
    {
      "cell_type": "markdown",
      "metadata": {
        "id": "sIu-q6YDLLaw"
      },
      "source": [
        "Call the function:"
      ]
    },
    {
      "cell_type": "code",
      "metadata": {
        "id": "OibpLLhGLLax",
        "colab": {
          "base_uri": "https://localhost:8080/"
        },
        "outputId": "76b39bc9-9d70-498d-8eee-4a8cd11e5198"
      },
      "source": [
        "say_hello()"
      ],
      "execution_count": null,
      "outputs": [
        {
          "output_type": "stream",
          "text": [
            "hello\n"
          ],
          "name": "stdout"
        }
      ]
    },
    {
      "cell_type": "markdown",
      "metadata": {
        "id": "K8Bu8nfcLLa0"
      },
      "source": [
        "### Example 2: A simple greeting function\n",
        "Let's write a function that greets people with their name."
      ]
    },
    {
      "cell_type": "code",
      "metadata": {
        "id": "UGKYFflYLLa0"
      },
      "source": [
        "def greeting(name):\n",
        "    print('Hello %s' %(name))"
      ],
      "execution_count": null,
      "outputs": []
    },
    {
      "cell_type": "code",
      "metadata": {
        "id": "fl_IBWAxLLa2",
        "colab": {
          "base_uri": "https://localhost:8080/"
        },
        "outputId": "3bb3eac1-a358-46a5-a282-591f0b870d64"
      },
      "source": [
        "greeting('نحمده')"
      ],
      "execution_count": null,
      "outputs": [
        {
          "output_type": "stream",
          "text": [
            "Hello نحمده\n"
          ],
          "name": "stdout"
        }
      ]
    },
    {
      "cell_type": "markdown",
      "metadata": {
        "id": "AFZGNyI7LLa5"
      },
      "source": [
        "## Using return\n",
        "Let's see some example that use a <code>return</code> statement. <code>return</code> allows a function to *return* a result that can then be stored as a variable, or used in whatever manner a user wants.\n",
        "\n",
        "### Example 3: Addition function"
      ]
    },
    {
      "cell_type": "code",
      "metadata": {
        "id": "MRdmU5RMLLa6"
      },
      "source": [
        "def add_num(number1_of_temp,number2_of_temp):\n",
        "  '''\n",
        "  This function does mult and  summ\n",
        "  '''\n",
        "  return number1_of_temp+number2_of_temp , number1_of_temp*number2_of_temp"
      ],
      "execution_count": null,
      "outputs": []
    },
    {
      "cell_type": "code",
      "metadata": {
        "colab": {
          "base_uri": "https://localhost:8080/"
        },
        "id": "cpJS6BHUE2KY",
        "outputId": "4f8cb571-0080-478c-f4fa-c81aa0ad3fe0"
      },
      "source": [
        "help(add_num)"
      ],
      "execution_count": null,
      "outputs": [
        {
          "output_type": "stream",
          "text": [
            "Help on function add_num in module __main__:\n",
            "\n",
            "add_num(number1_of_temp, number2_of_temp)\n",
            "    This function does mult and  summ\n",
            "\n"
          ],
          "name": "stdout"
        }
      ]
    },
    {
      "cell_type": "code",
      "metadata": {
        "colab": {
          "base_uri": "https://localhost:8080/",
          "height": 171
        },
        "id": "uDEXLXuvEST-",
        "outputId": "75d19c8f-9bb3-4fcf-f585-3db2c547aee5"
      },
      "source": [
        "add_num()"
      ],
      "execution_count": null,
      "outputs": [
        {
          "output_type": "error",
          "ename": "TypeError",
          "evalue": "ignored",
          "traceback": [
            "\u001b[0;31m---------------------------------------------------------------------------\u001b[0m",
            "\u001b[0;31mTypeError\u001b[0m                                 Traceback (most recent call last)",
            "\u001b[0;32m<ipython-input-11-e9d93e46b902>\u001b[0m in \u001b[0;36m<module>\u001b[0;34m()\u001b[0m\n\u001b[0;32m----> 1\u001b[0;31m \u001b[0madd_num\u001b[0m\u001b[0;34m(\u001b[0m\u001b[0;34m)\u001b[0m\u001b[0;34m\u001b[0m\u001b[0;34m\u001b[0m\u001b[0m\n\u001b[0m",
            "\u001b[0;31mTypeError\u001b[0m: add_num() missing 2 required positional arguments: 'number1_of_temp' and 'number2_of_temp'"
          ]
        }
      ]
    },
    {
      "cell_type": "code",
      "metadata": {
        "colab": {
          "base_uri": "https://localhost:8080/",
          "height": 171
        },
        "id": "3NC2ARTUEScA",
        "outputId": "f587afbb-f4aa-468f-aa15-d8ab6030ee48"
      },
      "source": [
        "y"
      ],
      "execution_count": null,
      "outputs": [
        {
          "output_type": "error",
          "ename": "NameError",
          "evalue": "ignored",
          "traceback": [
            "\u001b[0;31m---------------------------------------------------------------------------\u001b[0m",
            "\u001b[0;31mNameError\u001b[0m                                 Traceback (most recent call last)",
            "\u001b[0;32m<ipython-input-12-9063a9f0e032>\u001b[0m in \u001b[0;36m<module>\u001b[0;34m()\u001b[0m\n\u001b[0;32m----> 1\u001b[0;31m \u001b[0my\u001b[0m\u001b[0;34m\u001b[0m\u001b[0;34m\u001b[0m\u001b[0m\n\u001b[0m",
            "\u001b[0;31mNameError\u001b[0m: name 'y' is not defined"
          ]
        }
      ]
    },
    {
      "cell_type": "code",
      "metadata": {
        "id": "6h81CnAjLLa8",
        "colab": {
          "base_uri": "https://localhost:8080/"
        },
        "outputId": "82b07a06-a64b-438b-e1a1-281528741144"
      },
      "source": [
        "add_num(4,5)"
      ],
      "execution_count": null,
      "outputs": [
        {
          "output_type": "execute_result",
          "data": {
            "text/plain": [
              "(9, 20)"
            ]
          },
          "metadata": {
            "tags": []
          },
          "execution_count": 13
        }
      ]
    },
    {
      "cell_type": "code",
      "metadata": {
        "id": "aD5e9igcLLa-"
      },
      "source": [
        "# Can also save as variable due to return\n",
        "result = add_num(4,5)"
      ],
      "execution_count": null,
      "outputs": []
    },
    {
      "cell_type": "code",
      "metadata": {
        "id": "DxVu3bTjLLbA",
        "colab": {
          "base_uri": "https://localhost:8080/"
        },
        "outputId": "b4afe1b2-b9bf-4bdd-9bc0-dc7192b9ac45"
      },
      "source": [
        "print(result)"
      ],
      "execution_count": null,
      "outputs": [
        {
          "output_type": "stream",
          "text": [
            "(9, 20)\n"
          ],
          "name": "stdout"
        }
      ]
    },
    {
      "cell_type": "markdown",
      "metadata": {
        "id": "AR0sTx7wLLbC"
      },
      "source": [
        "What happens if we input two strings?"
      ]
    },
    {
      "cell_type": "code",
      "metadata": {
        "id": "NqI6f-ZHLLbD",
        "colab": {
          "base_uri": "https://localhost:8080/",
          "height": 262
        },
        "outputId": "c613b3d4-5fda-42f6-8581-27e8a57a67ea"
      },
      "source": [
        "add_num('one','two')"
      ],
      "execution_count": null,
      "outputs": [
        {
          "output_type": "error",
          "ename": "TypeError",
          "evalue": "ignored",
          "traceback": [
            "\u001b[0;31m---------------------------------------------------------------------------\u001b[0m",
            "\u001b[0;31mTypeError\u001b[0m                                 Traceback (most recent call last)",
            "\u001b[0;32m<ipython-input-17-4d06109a32aa>\u001b[0m in \u001b[0;36m<module>\u001b[0;34m()\u001b[0m\n\u001b[0;32m----> 1\u001b[0;31m \u001b[0madd_num\u001b[0m\u001b[0;34m(\u001b[0m\u001b[0;34m'one'\u001b[0m\u001b[0;34m,\u001b[0m\u001b[0;34m'two'\u001b[0m\u001b[0;34m)\u001b[0m\u001b[0;34m\u001b[0m\u001b[0;34m\u001b[0m\u001b[0m\n\u001b[0m",
            "\u001b[0;32m<ipython-input-9-7ed6cd3e8f6d>\u001b[0m in \u001b[0;36madd_num\u001b[0;34m(number1_of_temp, number2_of_temp)\u001b[0m\n\u001b[1;32m      3\u001b[0m   \u001b[0mThis\u001b[0m \u001b[0mfunction\u001b[0m \u001b[0mdoes\u001b[0m \u001b[0mmult\u001b[0m \u001b[0;32mand\u001b[0m  \u001b[0msumm\u001b[0m\u001b[0;34m\u001b[0m\u001b[0;34m\u001b[0m\u001b[0m\n\u001b[1;32m      4\u001b[0m   '''\n\u001b[0;32m----> 5\u001b[0;31m   \u001b[0;32mreturn\u001b[0m \u001b[0mnumber1_of_temp\u001b[0m\u001b[0;34m+\u001b[0m\u001b[0mnumber2_of_temp\u001b[0m \u001b[0;34m,\u001b[0m \u001b[0mnumber1_of_temp\u001b[0m\u001b[0;34m*\u001b[0m\u001b[0mnumber2_of_temp\u001b[0m\u001b[0;34m\u001b[0m\u001b[0;34m\u001b[0m\u001b[0m\n\u001b[0m",
            "\u001b[0;31mTypeError\u001b[0m: can't multiply sequence by non-int of type 'str'"
          ]
        }
      ]
    },
    {
      "cell_type": "markdown",
      "metadata": {
        "collapsed": true,
        "id": "cAIylwgELLbG"
      },
      "source": [
        "Finally let's go over a full example of creating a function to check if a number is prime (a common interview exercise).\n",
        "\n",
        "We know a number is prime if that number is only evenly divisible by 1 and itself. Let's write our first version of the function to check all the numbers from 1 to N and perform modulo checks."
      ]
    },
    {
      "cell_type": "code",
      "metadata": {
        "id": "ex6ibx5lLLbG"
      },
      "source": [
        "def is_prime(num):\n",
        "    '''\n",
        "    Naive method of checking for primes. \n",
        "    '''\n",
        "    for n in range(2,num):\n",
        "        if num % n == 0:\n",
        "            print(num,'is not prime')\n",
        "            break\n",
        "    else: # If never mod zero, then prime\n",
        "        print(num,'is prime!')"
      ],
      "execution_count": null,
      "outputs": []
    },
    {
      "cell_type": "code",
      "metadata": {
        "id": "VE_3t_s2LLbJ",
        "colab": {
          "base_uri": "https://localhost:8080/"
        },
        "outputId": "3648c64c-24c5-4a95-b332-3377b4645422"
      },
      "source": [
        "is_prime(16)"
      ],
      "execution_count": null,
      "outputs": [
        {
          "output_type": "stream",
          "text": [
            "16 is not prime\n"
          ],
          "name": "stdout"
        }
      ]
    },
    {
      "cell_type": "code",
      "metadata": {
        "id": "YAJJGKdgLLbM",
        "colab": {
          "base_uri": "https://localhost:8080/"
        },
        "outputId": "5a0d3323-a45b-4909-87d1-dd2374ea53fa"
      },
      "source": [
        "is_prime(17)"
      ],
      "execution_count": null,
      "outputs": [
        {
          "output_type": "stream",
          "text": [
            "17 is prime!\n"
          ],
          "name": "stdout"
        }
      ]
    },
    {
      "cell_type": "code",
      "metadata": {
        "id": "wCw8CRfjLLbR",
        "outputId": "ea2a5f17-6533-41d6-cc22-25be0e5a96f8"
      },
      "source": [
        "is_prime2(18)"
      ],
      "execution_count": null,
      "outputs": [
        {
          "output_type": "execute_result",
          "data": {
            "text/plain": [
              "False"
            ]
          },
          "metadata": {
            "tags": []
          },
          "execution_count": 15
        }
      ]
    },
    {
      "cell_type": "markdown",
      "metadata": {
        "id": "imH-971RLLbU"
      },
      "source": [
        "Great! You should now have a basic understanding of creating your own functions to save yourself from repeatedly writing code!"
      ]
    },
    {
      "cell_type": "markdown",
      "metadata": {
        "id": "jWBJiW5Di0g3"
      },
      "source": [
        "![alt text](https://www.awai.com/_img/content/2018/05/how-to-build-your-business-with-a-30-day-challenge/001.jpg)"
      ]
    },
    {
      "cell_type": "markdown",
      "metadata": {
        "id": "ZJITIHBXCiJL"
      },
      "source": [
        "# Challenge One - Normal Package\n",
        "Build a Function that takes an input string and Character \n",
        "and returns the Index of everytime that Character Appears \n",
        "e.g. \n",
        "\n",
        "Input : 'abcabcabc' , 'c' \n",
        "\n",
        "Output :[2,5,8]\n",
        "\n"
      ]
    },
    {
      "cell_type": "code",
      "metadata": {
        "id": "fzCA81YRQmBt",
        "colab": {
          "base_uri": "https://localhost:8080/",
          "height": 36
        },
        "outputId": "121d9a1f-8309-4dcc-90e2-6d1f96da980a"
      },
      "source": [
        "#first have a look on function find \n",
        "\n",
        "x='abcabcabc'\n",
        "y=x.find('c')    # it returns only the First Occurance Index ! - First time 'c' appears is in index 2\n",
        "y  "
      ],
      "execution_count": null,
      "outputs": [
        {
          "output_type": "execute_result",
          "data": {
            "application/vnd.google.colaboratory.intrinsic+json": {
              "type": "string"
            },
            "text/plain": [
              "'c'"
            ]
          },
          "metadata": {
            "tags": []
          },
          "execution_count": 42
        }
      ]
    },
    {
      "cell_type": "markdown",
      "metadata": {
        "id": "viYUbetCS3sI"
      },
      "source": [
        "**Use function `find()` and  `set()` to help you**"
      ]
    },
    {
      "cell_type": "code",
      "metadata": {
        "id": "y8iT05T4IpYj"
      },
      "source": [
        " def find_str(str,ltr):\n",
        "   lestyy=[]\n",
        "   for i, letter in enumerate(str):\n",
        "     if letter == ltr:\n",
        "       lestyy.append(i)\n",
        "   return lestyy     \n"
      ],
      "execution_count": null,
      "outputs": []
    },
    {
      "cell_type": "code",
      "metadata": {
        "colab": {
          "base_uri": "https://localhost:8080/",
          "height": 169
        },
        "id": "slf0lrw-AEEl",
        "outputId": "8122ec8a-e8fd-47de-faa3-0621bd70e36b"
      },
      "source": [
        "find_str('abcabcabc' , 'c')"
      ],
      "execution_count": null,
      "outputs": [
        {
          "output_type": "error",
          "ename": "NameError",
          "evalue": "ignored",
          "traceback": [
            "\u001b[0;31m---------------------------------------------------------------------------\u001b[0m",
            "\u001b[0;31mNameError\u001b[0m                                 Traceback (most recent call last)",
            "\u001b[0;32m<ipython-input-1-f097590153d4>\u001b[0m in \u001b[0;36m<module>\u001b[0;34m()\u001b[0m\n\u001b[0;32m----> 1\u001b[0;31m \u001b[0mfind_str\u001b[0m\u001b[0;34m(\u001b[0m\u001b[0;34m'abcabcabc'\u001b[0m \u001b[0;34m,\u001b[0m \u001b[0;34m'c'\u001b[0m\u001b[0;34m)\u001b[0m\u001b[0;34m\u001b[0m\u001b[0;34m\u001b[0m\u001b[0m\n\u001b[0m",
            "\u001b[0;31mNameError\u001b[0m: name 'find_str' is not defined"
          ]
        }
      ]
    },
    {
      "cell_type": "markdown",
      "metadata": {
        "id": "1TK48UwstJey"
      },
      "source": [
        "# Challenge One - Master Package\n",
        "Build The Same finding Function but this time without using `find` neither `set`\n",
        "Input : 'abcabcabc' , 'c' \n",
        "\n",
        "Output :[2,5,8]\n",
        "\n"
      ]
    },
    {
      "cell_type": "markdown",
      "metadata": {
        "id": "g4V8HWlyzA0e"
      },
      "source": [
        "**DON'T USE:  function `find()` and  `set()`**"
      ]
    },
    {
      "cell_type": "code",
      "metadata": {
        "id": "L7nQZ_ngagg8"
      },
      "source": [
        "#Build your Function here \n",
        "def find_str2(str,ltr):\n",
        "  lst=[]\n",
        "  for i in range(len(str)):\n",
        "    if str[i]==ltr:\n",
        "      lst.append(i)\n",
        "  return lst\n"
      ],
      "execution_count": null,
      "outputs": []
    },
    {
      "cell_type": "code",
      "metadata": {
        "colab": {
          "base_uri": "https://localhost:8080/"
        },
        "id": "JNHMvg0SKwRr",
        "outputId": "c08ae5b7-751f-47f5-9f94-f1750c7d9c3c"
      },
      "source": [
        "find_str2()"
      ],
      "execution_count": null,
      "outputs": [
        {
          "output_type": "execute_result",
          "data": {
            "text/plain": [
              "[2, 5, 7]"
            ]
          },
          "metadata": {
            "tags": []
          },
          "execution_count": 60
        }
      ]
    },
    {
      "cell_type": "markdown",
      "metadata": {
        "id": "piJPCKhuFuxO"
      },
      "source": [
        "# Nested Statements and Scope \n",
        "\n",
        "Now that we have gone over writing our own functions, it's important to understand how Python deals with the variable names you assign. When you create a variable name in Python the name is stored in a *name-space*. Variable names also have a *scope*, the scope determines the visibility of that variable name to other parts of your code.\n",
        "\n",
        "Let's start with a quick thought experiment; imagine the following code:"
      ]
    },
    {
      "cell_type": "code",
      "metadata": {
        "id": "tGsI3V_CFuxQ",
        "colab": {
          "base_uri": "https://localhost:8080/",
          "height": 68
        },
        "outputId": "c2fb96a3-73f6-47ca-ee8d-73baf9ab1bb2"
      },
      "source": [
        "x = 25\n",
        "\n",
        "def printer():\n",
        "    x = 50\n",
        "    return x\n",
        "\n",
        "#print(x)\n",
        "#print(printer())\n",
        "#print(x)"
      ],
      "execution_count": null,
      "outputs": [
        {
          "output_type": "stream",
          "text": [
            "25\n",
            "50\n",
            "25\n"
          ],
          "name": "stdout"
        }
      ]
    },
    {
      "cell_type": "markdown",
      "metadata": {
        "id": "1VPHW9pp8gYB"
      },
      "source": [
        "![alt text](https://boostupsocial.com/wp-content/uploads/2018/01/Question-Mark-280x280.png)\n",
        "\n"
      ]
    },
    {
      "cell_type": "markdown",
      "metadata": {
        "id": "5BVCECXZFuxU"
      },
      "source": [
        "What do you imagine the output of printer() is? 25 or 50? What is the output of print x? 25 or 50?\n",
        "\n",
        "***Go and Unhash them all***"
      ]
    },
    {
      "cell_type": "code",
      "metadata": {
        "id": "1AkEa4DTFuxU",
        "outputId": "5ef9a37b-3376-4d67-ca76-3613197ae303"
      },
      "source": [
        "print(x)"
      ],
      "execution_count": null,
      "outputs": [
        {
          "output_type": "stream",
          "text": [
            "25\n"
          ],
          "name": "stdout"
        }
      ]
    },
    {
      "cell_type": "code",
      "metadata": {
        "id": "CKzQPpvBFuxY",
        "outputId": "2a40383a-c3d1-40c8-ef4b-91647cdce050"
      },
      "source": [
        "print(printer())"
      ],
      "execution_count": null,
      "outputs": [
        {
          "output_type": "stream",
          "text": [
            "50\n"
          ],
          "name": "stdout"
        }
      ]
    },
    {
      "cell_type": "markdown",
      "metadata": {
        "id": "bm5rX6EOFuxo"
      },
      "source": [
        "## Local and Global Variables\n",
        "When you declare variables inside a function definition, they are not related in any way to other variables with the same names used outside the function - i.e. variable names are local to the function. This is called the scope of the variable. All variables have the scope of the block they are declared in starting from the point of definition of the name.\n",
        "\n",
        "**Using `global` declaration can flip the table and change the Variable on the top of the function**\n",
        "\n",
        "Examples:-"
      ]
    },
    {
      "cell_type": "code",
      "metadata": {
        "id": "vSEcQPyYFuxp",
        "outputId": "9faa5662-adbb-458c-beb6-0e9e072524b2"
      },
      "source": [
        "x = 50\n",
        "\n",
        "def func(x):\n",
        "    print('x is', x)\n",
        "    x = 2\n",
        "    print('Changed local x to', x)\n",
        "\n",
        "func(x)\n",
        "print('x is still', x)"
      ],
      "execution_count": null,
      "outputs": [
        {
          "output_type": "stream",
          "text": [
            "x is 50\n",
            "Changed local x to 2\n",
            "x is still 50\n"
          ],
          "name": "stdout"
        }
      ]
    },
    {
      "cell_type": "code",
      "metadata": {
        "id": "P-VJkdTSFuxs",
        "colab": {
          "base_uri": "https://localhost:8080/"
        },
        "outputId": "cd35919b-2f80-4cbd-c7a6-2d888c881322"
      },
      "source": [
        "x = 50\n",
        "\n",
        "def func():\n",
        "    global x\n",
        "    print('This function is now using the global x!')\n",
        "    print('Because of global x is: ', x)\n",
        "    x = 2\n",
        "    print('Ran func(), changed global x to', x)\n",
        "\n",
        "print('Before calling func(), x is: ', x)\n",
        "func()\n",
        "print('Value of x (outside of func()) is: ', x)"
      ],
      "execution_count": null,
      "outputs": [
        {
          "output_type": "stream",
          "text": [
            "Before calling func(), x is:  50\n",
            "This function is now using the global x!\n",
            "Because of global x is:  50\n",
            "Ran func(), changed global x to 2\n",
            "Value of x (outside of func()) is:  2\n"
          ],
          "name": "stdout"
        }
      ]
    },
    {
      "cell_type": "markdown",
      "metadata": {
        "collapsed": true,
        "id": "iwWblXFdFuxu"
      },
      "source": [
        "The <code>global</code> statement is used to declare that **x** is a global variable - hence, when we assign a value to **x** inside the function, that change is reflected when we use the value of **x** in the main block.\n",
        "\n",
        "You can specify more than one global variable using the same global statement e.g. <code>global x, y, z</code>."
      ]
    },
    {
      "cell_type": "markdown",
      "metadata": {
        "id": "WHbwIyqSHw2y"
      },
      "source": [
        "![alt text](https://www.awai.com/_img/content/2018/05/how-to-build-your-business-with-a-30-day-challenge/001.jpg)"
      ]
    },
    {
      "cell_type": "markdown",
      "metadata": {
        "id": "bTDOp-ddTUQf"
      },
      "source": [
        "# Functions and Methods Assessment\n",
        "\n"
      ]
    },
    {
      "cell_type": "markdown",
      "metadata": {
        "id": "24t4otDTTUQp"
      },
      "source": [
        "___\n",
        "**Write a function that checks whether a number is in a given range (inclusive of high and low)**"
      ]
    },
    {
      "cell_type": "markdown",
      "metadata": {
        "id": "Fi3_81mvjAdO"
      },
      "source": [
        ""
      ]
    },
    {
      "cell_type": "code",
      "metadata": {
        "id": "9FhUDKw5TUQq"
      },
      "source": [
        "def ran_check(num,low,high):\n",
        "    if low < num < high:\n",
        "      print(num ,'is in the range between', low, 'and' ,high)\n",
        "    else:\n",
        "      print('Number is out of range')\n",
        "    "
      ],
      "execution_count": null,
      "outputs": []
    },
    {
      "cell_type": "code",
      "metadata": {
        "id": "m-IgjKtlTUQs",
        "colab": {
          "base_uri": "https://localhost:8080/"
        },
        "outputId": "4e8c27c2-3e34-47c9-e746-9c72dc0e9d2d"
      },
      "source": [
        "# Check\n",
        "ran_check(5,2,7)"
      ],
      "execution_count": null,
      "outputs": [
        {
          "output_type": "stream",
          "text": [
            "5 is in the range between 2 and 7\n"
          ],
          "name": "stdout"
        }
      ]
    },
    {
      "cell_type": "markdown",
      "metadata": {
        "id": "OJcb-XysTUQv"
      },
      "source": [
        "If you only wanted to return a boolean:"
      ]
    },
    {
      "cell_type": "code",
      "metadata": {
        "id": "ytUDpXDnTUQw"
      },
      "source": [
        "def ran_bool(num,low,high):\n",
        "    if low < num < high:\n",
        "      result=True\n",
        "    else:\n",
        "      result=False\n",
        "    return result"
      ],
      "execution_count": null,
      "outputs": []
    },
    {
      "cell_type": "code",
      "metadata": {
        "id": "g-VzC5nSTUQy",
        "colab": {
          "base_uri": "https://localhost:8080/"
        },
        "outputId": "de4b8caa-2fdc-4e6b-dc61-6252b0b81ea1"
      },
      "source": [
        "ran_bool(3,22,10)"
      ],
      "execution_count": null,
      "outputs": [
        {
          "output_type": "execute_result",
          "data": {
            "text/plain": [
              "False"
            ]
          },
          "metadata": {
            "tags": []
          },
          "execution_count": 17
        }
      ]
    },
    {
      "cell_type": "markdown",
      "metadata": {
        "id": "Po0vig_YTUQ2"
      },
      "source": [
        "____\n",
        "**Write a Python function that accepts a string and calculates the number of upper case letters and lower case letters.**\n",
        "\n",
        "    Sample String : 'Hello Mr. Rogers, how are you this fine Tuesday?'\n",
        "    Expected Output : \n",
        "    No. of Upper case characters : 4\n",
        "    No. of Lower case Characters : 33\n",
        "\n",
        "HINT: Two string methods that might prove useful: **.isupper()** and **.islower()**\n",
        "\n",
        "If you feel ambitious, explore the Collections module to solve this problem!"
      ]
    },
    {
      "cell_type": "code",
      "metadata": {
        "colab": {
          "base_uri": "https://localhost:8080/"
        },
        "id": "dIev2u2RnAxN",
        "outputId": "ce46668b-28a9-4005-839d-42834bfce6b4"
      },
      "source": [
        "s='Hello Mr. Rogers, how are you this fine Tuesday?'\n",
        "s.isupper()"
      ],
      "execution_count": null,
      "outputs": [
        {
          "output_type": "execute_result",
          "data": {
            "text/plain": [
              "False"
            ]
          },
          "metadata": {
            "tags": []
          },
          "execution_count": 18
        }
      ]
    },
    {
      "cell_type": "code",
      "metadata": {
        "id": "T3-1EjpTTUQ2"
      },
      "source": [
        "def up_low(s):\n",
        "\n",
        "  s='Hello Mr. Rogers, how are you this fine Tuesday?'\n",
        "  num_uppercase=0\n",
        "  num_lowercase=0\n",
        "  for i,ltr in enumerate(s):\n",
        "    if ltr.isupper() == True:\n",
        "      num_uppercase+=1\n",
        "    elif ltr.islower() == True:\n",
        "     num_lowercase+=1\n",
        "  print('Original String :',s)\n",
        "  print('No. of Upper case characters :',num_uppercase)\n",
        "  print('No. of Lower case characters :',num_lowercase)\n"
      ],
      "execution_count": null,
      "outputs": []
    },
    {
      "cell_type": "code",
      "metadata": {
        "id": "pzFul2oJTUQ4",
        "colab": {
          "base_uri": "https://localhost:8080/"
        },
        "outputId": "23ece8b5-a5a3-46bc-e3c4-a9c6fb16a997"
      },
      "source": [
        "s = 'Hello Mr. Rogers, how are you this fine Tuesday?'\n",
        "up_low(s)"
      ],
      "execution_count": null,
      "outputs": [
        {
          "output_type": "stream",
          "text": [
            "Original String : Hello Mr. Rogers, how are you this fine Tuesday?\n",
            "No. of Upper case characters : 4\n",
            "No. of Lower case characters : 33\n"
          ],
          "name": "stdout"
        }
      ]
    },
    {
      "cell_type": "markdown",
      "metadata": {
        "id": "32LFKJjXTUQ7"
      },
      "source": [
        "____\n",
        "**Write a Python function that takes a list and returns a new list with unique elements of the first list.**\n",
        "\n",
        "    Sample List : [1,1,1,1,2,2,3,3,3,3,4,5]\n",
        "    Unique List : [1, 2, 3, 4, 5]"
      ]
    },
    {
      "cell_type": "code",
      "metadata": {
        "id": "xztZPj9hTUQ7",
        "colab": {
          "base_uri": "https://localhost:8080/"
        },
        "outputId": "0bd039da-bf5f-4c05-f0c9-5a35345f8ea5"
      },
      "source": [
        "def unique_list(lst):\n",
        "  return set(lst)\n",
        "\n",
        "list1=[1,1,1,1,2,2,3,3,3,3,4,5,6,6,7,8,8,9,9,9]\n",
        "unique_list(list1)\n"
      ],
      "execution_count": null,
      "outputs": [
        {
          "output_type": "execute_result",
          "data": {
            "text/plain": [
              "{1, 2, 3, 4, 5, 6, 7, 8, 9}"
            ]
          },
          "metadata": {
            "tags": []
          },
          "execution_count": 44
        }
      ]
    },
    {
      "cell_type": "code",
      "metadata": {
        "id": "qT63fPo_TUQ9",
        "colab": {
          "base_uri": "https://localhost:8080/"
        },
        "outputId": "55815b5c-1750-4eb4-bf3b-d0c1d64534cc"
      },
      "source": [
        "unique_list([1,1,1,1,2,2,3,3,3,3,4,5])"
      ],
      "execution_count": null,
      "outputs": [
        {
          "output_type": "execute_result",
          "data": {
            "text/plain": [
              "{1, 2, 3, 4, 5}"
            ]
          },
          "metadata": {
            "tags": []
          },
          "execution_count": 45
        }
      ]
    },
    {
      "cell_type": "markdown",
      "metadata": {
        "id": "PO8Elnf1TURA"
      },
      "source": [
        "____\n",
        "**Write a Python function to multiply all the numbers in a list.**\n",
        "\n",
        "    Sample List : [1, 2, 3, -4]\n",
        "    Expected Output : -24"
      ]
    },
    {
      "cell_type": "code",
      "metadata": {
        "id": "kQCI_ZZ0TURA"
      },
      "source": [
        "def multiply(numbers):\n",
        "  lest=[1, 2, 3, -4]\n",
        "  total=1\n",
        "  for i in lest:\n",
        "    total=total*i\n",
        "  return total\n",
        "    "
      ],
      "execution_count": null,
      "outputs": []
    },
    {
      "cell_type": "code",
      "metadata": {
        "id": "NqoV86AaTURC",
        "colab": {
          "base_uri": "https://localhost:8080/"
        },
        "outputId": "5585101a-0f7a-4cfb-f702-07e291e65281"
      },
      "source": [
        "multiply([1,2,3,-4])"
      ],
      "execution_count": null,
      "outputs": [
        {
          "output_type": "execute_result",
          "data": {
            "text/plain": [
              "-24"
            ]
          },
          "metadata": {
            "tags": []
          },
          "execution_count": 52
        }
      ]
    },
    {
      "cell_type": "markdown",
      "metadata": {
        "id": "2rkM5mHzTURG"
      },
      "source": [
        "____\n",
        "**Write a Python function that checks whether a passed in string is palindrome or not.**\n",
        "\n",
        "Note: A palindrome is word, phrase, or sequence that reads the same backward as forward, e.g., madam or nurses run."
      ]
    },
    {
      "cell_type": "code",
      "metadata": {
        "id": "S12CuJe0TURH",
        "colab": {
          "base_uri": "https://localhost:8080/"
        },
        "outputId": "7f2c7911-fcac-4b98-8886-ab4e016a33b5"
      },
      "source": [
        "def palindrome(st):\n",
        "  st=st.replace(' ','')\n",
        "  string_start = 0\n",
        "  string_end = len(st) - 1\n",
        "  while string_end >= string_start:\n",
        "    if not st[string_start] == st[string_end]:\n",
        "      return False\n",
        "    string_start += 1\n",
        "    string_end -= 1\n",
        "  return True\n",
        "\n",
        "palindrome('nurses run')\n"
      ],
      "execution_count": null,
      "outputs": [
        {
          "output_type": "execute_result",
          "data": {
            "text/plain": [
              "True"
            ]
          },
          "metadata": {
            "tags": []
          },
          "execution_count": 145
        }
      ]
    },
    {
      "cell_type": "code",
      "metadata": {
        "id": "F7wHvGVBTURJ",
        "colab": {
          "base_uri": "https://localhost:8080/"
        },
        "outputId": "f16e7d32-0fc5-40e3-fccd-418a6eb3109d"
      },
      "source": [
        "palindrome('helleh')"
      ],
      "execution_count": null,
      "outputs": [
        {
          "output_type": "execute_result",
          "data": {
            "text/plain": [
              "True"
            ]
          },
          "metadata": {
            "tags": []
          },
          "execution_count": 146
        }
      ]
    },
    {
      "cell_type": "markdown",
      "metadata": {
        "id": "9S02Bbr5PysX"
      },
      "source": [
        "#### FIND 33: \n",
        "\n",
        "Given a list of ints, return True if the array contains a 3 next to a 3 somewhere.\n",
        "\n",
        "    has_33([1, 3, 3]) → True\n",
        "    has_33([1, 3, 1, 3]) → False\n",
        "    has_33([3, 1, 3]) → False"
      ]
    },
    {
      "cell_type": "code",
      "metadata": {
        "colab": {
          "base_uri": "https://localhost:8080/"
        },
        "id": "YBePOhOuGh1Y",
        "outputId": "e97a3dda-f955-4ab1-bd69-83f8b7532799"
      },
      "source": [
        ""
      ],
      "execution_count": null,
      "outputs": [
        {
          "output_type": "execute_result",
          "data": {
            "text/plain": [
              "2"
            ]
          },
          "metadata": {
            "tags": []
          },
          "execution_count": 148
        }
      ]
    },
    {
      "cell_type": "code",
      "metadata": {
        "id": "DN4HZjMPPysY",
        "colab": {
          "base_uri": "https://localhost:8080/"
        },
        "outputId": "9e6bd535-c1b4-46b1-af29-452af051bb29"
      },
      "source": [
        "#lst=[1, 3, 3]\n",
        "#lst=[1, 3, 1, 3]\n",
        "#lst=[3, 1, 3]\n",
        "def has_33(lst):\n",
        "    for i in range(len(lst) - 1):\n",
        "        if lst[i] == 3 and lst[i + 1] == 3:\n",
        "            return True\n",
        "    return False\n",
        "\n",
        "has_33([1, 3, 1,3])"
      ],
      "execution_count": null,
      "outputs": [
        {
          "output_type": "execute_result",
          "data": {
            "text/plain": [
              "False"
            ]
          },
          "metadata": {
            "tags": []
          },
          "execution_count": 193
        }
      ]
    },
    {
      "cell_type": "code",
      "metadata": {
        "id": "QVIoSf6rPyse"
      },
      "source": [
        "# Check\n",
        "has_33([1, 3, 3])"
      ],
      "execution_count": null,
      "outputs": []
    },
    {
      "cell_type": "code",
      "metadata": {
        "id": "VzFo49HtPysg"
      },
      "source": [
        "# Check\n",
        "has_33([1, 3, 1, 3])"
      ],
      "execution_count": null,
      "outputs": []
    },
    {
      "cell_type": "code",
      "metadata": {
        "id": "bv7U3a8IPysk"
      },
      "source": [
        "# Check\n",
        "has_33([3, 1, 3])"
      ],
      "execution_count": null,
      "outputs": []
    },
    {
      "cell_type": "markdown",
      "metadata": {
        "id": "V2STOm6fPyso"
      },
      "source": [
        "#### PAPER DOLL: Given a string, return a string where for every character in the original there are three characters\n",
        "    paper_doll('Hello') --> 'HHHeeellllllooo'\n",
        "    paper_doll('Mississippi') --> 'MMMiiissssssiiippppppiii'"
      ]
    },
    {
      "cell_type": "code",
      "metadata": {
        "id": "7VvC0qZekx0F"
      },
      "source": [
        ""
      ],
      "execution_count": null,
      "outputs": []
    },
    {
      "cell_type": "code",
      "metadata": {
        "colab": {
          "base_uri": "https://localhost:8080/",
          "height": 36
        },
        "id": "BDj65wn2gOK4",
        "outputId": "085828a1-7864-486a-a131-b04325afac46"
      },
      "source": [
        "s='Hello'\n",
        "new=''\n",
        "for i,x in enumerate(s):\n",
        "  if i<=len(s):\n",
        "    new=x\n",
        "  new+=new\n",
        "new"
      ],
      "execution_count": null,
      "outputs": [
        {
          "output_type": "execute_result",
          "data": {
            "application/vnd.google.colaboratory.intrinsic+json": {
              "type": "string"
            },
            "text/plain": [
              "'oooooo'"
            ]
          },
          "metadata": {
            "tags": []
          },
          "execution_count": 218
        }
      ]
    },
    {
      "cell_type": "code",
      "metadata": {
        "id": "ksITbrJOfHdL"
      },
      "source": [
        "def paper_doll(s):\n",
        "    for x in s:\n",
        "        s[i] == s[i]*3\n",
        "            return True\n",
        "    return False"
      ],
      "execution_count": null,
      "outputs": []
    },
    {
      "cell_type": "code",
      "metadata": {
        "id": "B4XKcEwqPysq"
      },
      "source": [
        "def paper_doll(text):\n",
        "    pass"
      ],
      "execution_count": null,
      "outputs": []
    },
    {
      "cell_type": "code",
      "metadata": {
        "id": "kbfVQDDtPyst"
      },
      "source": [
        "# Check\n",
        "paper_doll('Hello')"
      ],
      "execution_count": null,
      "outputs": []
    },
    {
      "cell_type": "code",
      "metadata": {
        "id": "Cx4NG0ufPysw"
      },
      "source": [
        "# Check\n",
        "paper_doll('Mississippi')"
      ],
      "execution_count": null,
      "outputs": []
    },
    {
      "cell_type": "markdown",
      "metadata": {
        "id": "anIvcMCBPys1"
      },
      "source": [
        "#### BLACKJACK: Given three integers between 1 and 11, if their sum is less than or equal to 21, return their sum. If their sum exceeds 21 *and* there's an eleven, reduce the total sum by 10. Finally, if the sum (even after adjustment) exceeds 21, return 'BUST'\n",
        "    blackjack(5,6,7) --> 18\n",
        "    blackjack(9,9,9) --> 'BUST'\n",
        "    blackjack(9,9,11) --> 19"
      ]
    },
    {
      "cell_type": "code",
      "metadata": {
        "id": "N4htZVwjPys2"
      },
      "source": [
        "def blackjack(a,b,c):\n",
        "\n",
        "    Ace_count = [a,b,c].count(11)\n",
        "\n",
        "    total = sum([a,b,c])\n",
        "\n",
        "    if total <= 21:\n",
        "        return (total)\n",
        "\n",
        "    while total > 21:\n",
        "        if Ace_count > 0:\n",
        "            Ace_count -= 1\n",
        "            total -= 10\n",
        "        else:\n",
        "            return \"Bust\"\n",
        "\n",
        "    return (total)\n",
        "\n"
      ],
      "execution_count": 5,
      "outputs": []
    },
    {
      "cell_type": "code",
      "metadata": {
        "id": "iSFnF1-TPys6",
        "colab": {
          "base_uri": "https://localhost:8080/"
        },
        "outputId": "923aa03b-29b3-4132-8041-c53935861ece"
      },
      "source": [
        "# Check\n",
        "blackjack(5,6,7)"
      ],
      "execution_count": 6,
      "outputs": [
        {
          "output_type": "execute_result",
          "data": {
            "text/plain": [
              "18"
            ]
          },
          "metadata": {
            "tags": []
          },
          "execution_count": 6
        }
      ]
    },
    {
      "cell_type": "code",
      "metadata": {
        "id": "b21RsAi6Pys9",
        "colab": {
          "base_uri": "https://localhost:8080/",
          "height": 36
        },
        "outputId": "a90fc382-a8c8-4d60-a7b3-02178d68fdf4"
      },
      "source": [
        "# Check\n",
        "blackjack(9,9,9)"
      ],
      "execution_count": 7,
      "outputs": [
        {
          "output_type": "execute_result",
          "data": {
            "application/vnd.google.colaboratory.intrinsic+json": {
              "type": "string"
            },
            "text/plain": [
              "'Bust'"
            ]
          },
          "metadata": {
            "tags": []
          },
          "execution_count": 7
        }
      ]
    },
    {
      "cell_type": "code",
      "metadata": {
        "id": "1I2zv3f6PytA",
        "colab": {
          "base_uri": "https://localhost:8080/"
        },
        "outputId": "ee8edd7e-354f-4cf0-9827-26b3e6ec27d6"
      },
      "source": [
        "# Check\n",
        "blackjack(9,9,11)"
      ],
      "execution_count": 8,
      "outputs": [
        {
          "output_type": "execute_result",
          "data": {
            "text/plain": [
              "19"
            ]
          },
          "metadata": {
            "tags": []
          },
          "execution_count": 8
        }
      ]
    },
    {
      "cell_type": "markdown",
      "metadata": {
        "id": "EVX8P824PzVz"
      },
      "source": [
        "![alt text](https://www.awai.com/_img/content/2018/05/how-to-build-your-business-with-a-30-day-challenge/001.jpg)"
      ]
    },
    {
      "cell_type": "markdown",
      "metadata": {
        "id": "aLYs5EscQM0Q"
      },
      "source": [
        "# Challenge Two \n",
        "Build a Customized Split Function with **two Options **\n",
        "\n",
        "\n",
        "---\n",
        "\n",
        "\n",
        "\n",
        "\n",
        "> ***Option One :*** Splitting at first Occurance Only\n",
        "\n",
        "Input: 'Abo Khayria byslem 3lyk', 'b'\n",
        "\n",
        "Output :  ['A','o Khayria byslem 3lyk']\n",
        "\n",
        "\n",
        "---\n",
        "\n",
        "\n",
        "\n",
        "> ***Option two :*** Splitting  Every time the Character Appears\n",
        "\n",
        "\n",
        "Input: 'Abo Khayria byslem 3lyk', 'b'\n",
        "\n",
        "Output :  ['A','o Khayria ','yslem 3lyk']\n",
        "\n",
        "\n",
        "---\n",
        "\n",
        "\n",
        "\n",
        "\n",
        "### Don't Use `split` function , you are allowed to grab your Customized Find Function\n",
        "\n"
      ]
    },
    {
      "cell_type": "code",
      "metadata": {
        "id": "gQrM-NXbRv-Z",
        "colab": {
          "base_uri": "https://localhost:8080/"
        },
        "outputId": "c91ceb1c-e5d2-4bc7-921b-5d9b867a9dbb"
      },
      "source": [
        "def my_split(sentance, ltr):\n",
        "    sep=ltr\n",
        "    sentance = sentance.lstrip(sep)\n",
        "    if sep in sentance:\n",
        "        pos = sentance.index(sep)\n",
        "        found = sentance[:pos]\n",
        "        remainder = my_split(sentance[pos+1:],ltr)\n",
        "        remainder.insert(0, found)\n",
        "        return remainder\n",
        "    else:\n",
        "        return [sentance]\n",
        "\n",
        "\n",
        "my_split('Abo Khayria byslem 3lyk','b')\n",
        "\n"
      ],
      "execution_count": 29,
      "outputs": [
        {
          "output_type": "execute_result",
          "data": {
            "text/plain": [
              "['A', 'o Khayria ', 'yslem 3lyk']"
            ]
          },
          "metadata": {
            "tags": []
          },
          "execution_count": 29
        }
      ]
    },
    {
      "cell_type": "code",
      "metadata": {
        "colab": {
          "base_uri": "https://localhost:8080/",
          "height": 298
        },
        "id": "gA2NvejvV4tj",
        "outputId": "0eec50f7-dd84-41f0-b964-a75b956d4725"
      },
      "source": [
        ""
      ],
      "execution_count": 14,
      "outputs": [
        {
          "output_type": "error",
          "ename": "NameError",
          "evalue": "ignored",
          "traceback": [
            "\u001b[0;31m---------------------------------------------------------------------------\u001b[0m",
            "\u001b[0;31mNameError\u001b[0m                                 Traceback (most recent call last)",
            "\u001b[0;32m<ipython-input-14-f6c1167a69a7>\u001b[0m in \u001b[0;36m<module>\u001b[0;34m()\u001b[0m\n\u001b[0;32m----> 1\u001b[0;31m \u001b[0mmysplit\u001b[0m\u001b[0;34m(\u001b[0m\u001b[0;34m'Abo Khayria byslem 3lyk'\u001b[0m\u001b[0;34m,\u001b[0m \u001b[0;34m'b'\u001b[0m\u001b[0;34m)\u001b[0m\u001b[0;34m\u001b[0m\u001b[0;34m\u001b[0m\u001b[0m\n\u001b[0m",
            "\u001b[0;32m<ipython-input-13-6836022dad34>\u001b[0m in \u001b[0;36mmysplit\u001b[0;34m(inputString, separator)\u001b[0m\n\u001b[1;32m     20\u001b[0m             \u001b[0mpart\u001b[0m\u001b[0;34m=\u001b[0m\u001b[0mlistFromInputString\u001b[0m\u001b[0;34m[\u001b[0m\u001b[0mj\u001b[0m\u001b[0;34m:\u001b[0m\u001b[0mi\u001b[0m\u001b[0;34m]\u001b[0m\u001b[0;34m\u001b[0m\u001b[0;34m\u001b[0m\u001b[0m\n\u001b[1;32m     21\u001b[0m             \u001b[0mj\u001b[0m\u001b[0;34m=\u001b[0m\u001b[0mi\u001b[0m\u001b[0;34m+\u001b[0m\u001b[0;36m1\u001b[0m\u001b[0;34m\u001b[0m\u001b[0;34m\u001b[0m\u001b[0m\n\u001b[0;32m---> 22\u001b[0;31m             \u001b[0mresult\u001b[0m\u001b[0;34m.\u001b[0m\u001b[0mappend\u001b[0m\u001b[0;34m(\u001b[0m\u001b[0mconvert_to_string\u001b[0m\u001b[0;34m(\u001b[0m\u001b[0mpart\u001b[0m\u001b[0;34m)\u001b[0m\u001b[0;34m)\u001b[0m\u001b[0;34m\u001b[0m\u001b[0;34m\u001b[0m\u001b[0m\n\u001b[0m\u001b[1;32m     23\u001b[0m         \u001b[0;32melse\u001b[0m\u001b[0;34m:\u001b[0m\u001b[0;34m\u001b[0m\u001b[0;34m\u001b[0m\u001b[0m\n\u001b[1;32m     24\u001b[0m             \u001b[0;32mpass\u001b[0m\u001b[0;34m\u001b[0m\u001b[0;34m\u001b[0m\u001b[0m\n",
            "\u001b[0;31mNameError\u001b[0m: name 'convert_to_string' is not defined"
          ]
        }
      ]
    },
    {
      "cell_type": "markdown",
      "metadata": {
        "collapsed": true,
        "id": "Y6nBCxU8TURS"
      },
      "source": [
        "#### Great Job!"
      ]
    }
  ]
}