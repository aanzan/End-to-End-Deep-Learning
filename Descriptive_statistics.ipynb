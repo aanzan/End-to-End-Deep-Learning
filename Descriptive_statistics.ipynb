{
  "nbformat": 4,
  "nbformat_minor": 0,
  "metadata": {
    "colab": {
      "name": "Copy of Descriptive_statistics.ipynb",
      "provenance": [],
      "collapsed_sections": []
    },
    "kernelspec": {
      "name": "python3",
      "display_name": "Python 3"
    },
    "language_info": {
      "name": "python"
    }
  },
  "cells": [
    {
      "cell_type": "code",
      "metadata": {
        "id": "hxLVCbdhHDm2"
      },
      "source": [
        "import pandas as pd\n",
        "import seaborn as sns\n",
        "import matplotlib.pyplot as plt"
      ],
      "execution_count": null,
      "outputs": []
    },
    {
      "cell_type": "code",
      "metadata": {
        "id": "EzVYRxB2WGCq"
      },
      "source": [
        "#%matplotlib notebook"
      ],
      "execution_count": null,
      "outputs": []
    },
    {
      "cell_type": "code",
      "metadata": {
        "colab": {
          "base_uri": "https://localhost:8080/",
          "height": 206
        },
        "id": "FRU6c6hxWGR8",
        "outputId": "07e392e1-4640-49ff-ba73-432fc331ce28"
      },
      "source": [
        "df=sns.load_dataset('tips')\n",
        "df.head()"
      ],
      "execution_count": null,
      "outputs": [
        {
          "output_type": "execute_result",
          "data": {
            "text/html": [
              "<div>\n",
              "<style scoped>\n",
              "    .dataframe tbody tr th:only-of-type {\n",
              "        vertical-align: middle;\n",
              "    }\n",
              "\n",
              "    .dataframe tbody tr th {\n",
              "        vertical-align: top;\n",
              "    }\n",
              "\n",
              "    .dataframe thead th {\n",
              "        text-align: right;\n",
              "    }\n",
              "</style>\n",
              "<table border=\"1\" class=\"dataframe\">\n",
              "  <thead>\n",
              "    <tr style=\"text-align: right;\">\n",
              "      <th></th>\n",
              "      <th>total_bill</th>\n",
              "      <th>tip</th>\n",
              "      <th>sex</th>\n",
              "      <th>smoker</th>\n",
              "      <th>day</th>\n",
              "      <th>time</th>\n",
              "      <th>size</th>\n",
              "    </tr>\n",
              "  </thead>\n",
              "  <tbody>\n",
              "    <tr>\n",
              "      <th>0</th>\n",
              "      <td>16.99</td>\n",
              "      <td>1.01</td>\n",
              "      <td>Female</td>\n",
              "      <td>No</td>\n",
              "      <td>Sun</td>\n",
              "      <td>Dinner</td>\n",
              "      <td>2</td>\n",
              "    </tr>\n",
              "    <tr>\n",
              "      <th>1</th>\n",
              "      <td>10.34</td>\n",
              "      <td>1.66</td>\n",
              "      <td>Male</td>\n",
              "      <td>No</td>\n",
              "      <td>Sun</td>\n",
              "      <td>Dinner</td>\n",
              "      <td>3</td>\n",
              "    </tr>\n",
              "    <tr>\n",
              "      <th>2</th>\n",
              "      <td>21.01</td>\n",
              "      <td>3.50</td>\n",
              "      <td>Male</td>\n",
              "      <td>No</td>\n",
              "      <td>Sun</td>\n",
              "      <td>Dinner</td>\n",
              "      <td>3</td>\n",
              "    </tr>\n",
              "    <tr>\n",
              "      <th>3</th>\n",
              "      <td>23.68</td>\n",
              "      <td>3.31</td>\n",
              "      <td>Male</td>\n",
              "      <td>No</td>\n",
              "      <td>Sun</td>\n",
              "      <td>Dinner</td>\n",
              "      <td>2</td>\n",
              "    </tr>\n",
              "    <tr>\n",
              "      <th>4</th>\n",
              "      <td>24.59</td>\n",
              "      <td>3.61</td>\n",
              "      <td>Female</td>\n",
              "      <td>No</td>\n",
              "      <td>Sun</td>\n",
              "      <td>Dinner</td>\n",
              "      <td>4</td>\n",
              "    </tr>\n",
              "  </tbody>\n",
              "</table>\n",
              "</div>"
            ],
            "text/plain": [
              "   total_bill   tip     sex smoker  day    time  size\n",
              "0       16.99  1.01  Female     No  Sun  Dinner     2\n",
              "1       10.34  1.66    Male     No  Sun  Dinner     3\n",
              "2       21.01  3.50    Male     No  Sun  Dinner     3\n",
              "3       23.68  3.31    Male     No  Sun  Dinner     2\n",
              "4       24.59  3.61  Female     No  Sun  Dinner     4"
            ]
          },
          "metadata": {
            "tags": []
          },
          "execution_count": 11
        }
      ]
    },
    {
      "cell_type": "markdown",
      "metadata": {
        "id": "A8Xw_YuRhFPv"
      },
      "source": [
        "# Categorical data"
      ]
    },
    {
      "cell_type": "code",
      "metadata": {
        "colab": {
          "base_uri": "https://localhost:8080/"
        },
        "id": "rSAZr2zFWql1",
        "outputId": "f044036c-d679-4a16-d43b-fb5b783c3c49"
      },
      "source": [
        "###############  one variable \n",
        "\n",
        "#frequency and relative frequency\n",
        "df['sex'].value_counts() # / len(df)"
      ],
      "execution_count": null,
      "outputs": [
        {
          "output_type": "execute_result",
          "data": {
            "text/plain": [
              "Male      157\n",
              "Female     87\n",
              "Name: sex, dtype: int64"
            ]
          },
          "metadata": {
            "tags": []
          },
          "execution_count": 9
        }
      ]
    },
    {
      "cell_type": "code",
      "metadata": {
        "colab": {
          "base_uri": "https://localhost:8080/"
        },
        "id": "rfFm0XmNNmp8",
        "outputId": "91b0024a-b09b-4720-e4b3-a99fb97761e1"
      },
      "source": [
        "df['sex'].value_counts()  / len(df)"
      ],
      "execution_count": null,
      "outputs": [
        {
          "output_type": "execute_result",
          "data": {
            "text/plain": [
              "Male      0.643443\n",
              "Female    0.356557\n",
              "Name: sex, dtype: float64"
            ]
          },
          "metadata": {
            "tags": []
          },
          "execution_count": 12
        }
      ]
    },
    {
      "cell_type": "code",
      "metadata": {
        "colab": {
          "base_uri": "https://localhost:8080/",
          "height": 143
        },
        "id": "8wdggwydhnG8",
        "outputId": "eff92683-968f-4cb2-f304-7a59837db4e2"
      },
      "source": [
        "############### two variable \n",
        "pd.crosstab(df['sex'], df['smoker'], rownames=['sex'], colnames=['smoker']) #/ len(df)"
      ],
      "execution_count": null,
      "outputs": [
        {
          "output_type": "execute_result",
          "data": {
            "text/html": [
              "<div>\n",
              "<style scoped>\n",
              "    .dataframe tbody tr th:only-of-type {\n",
              "        vertical-align: middle;\n",
              "    }\n",
              "\n",
              "    .dataframe tbody tr th {\n",
              "        vertical-align: top;\n",
              "    }\n",
              "\n",
              "    .dataframe thead th {\n",
              "        text-align: right;\n",
              "    }\n",
              "</style>\n",
              "<table border=\"1\" class=\"dataframe\">\n",
              "  <thead>\n",
              "    <tr style=\"text-align: right;\">\n",
              "      <th>smoker</th>\n",
              "      <th>Yes</th>\n",
              "      <th>No</th>\n",
              "    </tr>\n",
              "    <tr>\n",
              "      <th>sex</th>\n",
              "      <th></th>\n",
              "      <th></th>\n",
              "    </tr>\n",
              "  </thead>\n",
              "  <tbody>\n",
              "    <tr>\n",
              "      <th>Male</th>\n",
              "      <td>60</td>\n",
              "      <td>97</td>\n",
              "    </tr>\n",
              "    <tr>\n",
              "      <th>Female</th>\n",
              "      <td>33</td>\n",
              "      <td>54</td>\n",
              "    </tr>\n",
              "  </tbody>\n",
              "</table>\n",
              "</div>"
            ],
            "text/plain": [
              "smoker  Yes  No\n",
              "sex            \n",
              "Male     60  97\n",
              "Female   33  54"
            ]
          },
          "metadata": {
            "tags": []
          },
          "execution_count": 13
        }
      ]
    },
    {
      "cell_type": "code",
      "metadata": {
        "colab": {
          "base_uri": "https://localhost:8080/",
          "height": 143
        },
        "id": "TVYnjH_4T_IN",
        "outputId": "6e6d915f-ce4f-413c-d271-6af061527419"
      },
      "source": [
        "pd.crosstab(df['sex'], df['smoker'], rownames=['sex'], colnames=['smoker']) / len(df)\n",
        "#how many male/female smoker/non smoker to the total male + female smoker and non smoker(244)"
      ],
      "execution_count": null,
      "outputs": [
        {
          "output_type": "execute_result",
          "data": {
            "text/html": [
              "<div>\n",
              "<style scoped>\n",
              "    .dataframe tbody tr th:only-of-type {\n",
              "        vertical-align: middle;\n",
              "    }\n",
              "\n",
              "    .dataframe tbody tr th {\n",
              "        vertical-align: top;\n",
              "    }\n",
              "\n",
              "    .dataframe thead th {\n",
              "        text-align: right;\n",
              "    }\n",
              "</style>\n",
              "<table border=\"1\" class=\"dataframe\">\n",
              "  <thead>\n",
              "    <tr style=\"text-align: right;\">\n",
              "      <th>smoker</th>\n",
              "      <th>Yes</th>\n",
              "      <th>No</th>\n",
              "    </tr>\n",
              "    <tr>\n",
              "      <th>sex</th>\n",
              "      <th></th>\n",
              "      <th></th>\n",
              "    </tr>\n",
              "  </thead>\n",
              "  <tbody>\n",
              "    <tr>\n",
              "      <th>Male</th>\n",
              "      <td>0.245902</td>\n",
              "      <td>0.397541</td>\n",
              "    </tr>\n",
              "    <tr>\n",
              "      <th>Female</th>\n",
              "      <td>0.135246</td>\n",
              "      <td>0.221311</td>\n",
              "    </tr>\n",
              "  </tbody>\n",
              "</table>\n",
              "</div>"
            ],
            "text/plain": [
              "smoker       Yes        No\n",
              "sex                       \n",
              "Male    0.245902  0.397541\n",
              "Female  0.135246  0.221311"
            ]
          },
          "metadata": {
            "tags": []
          },
          "execution_count": 15
        }
      ]
    },
    {
      "cell_type": "code",
      "metadata": {
        "colab": {
          "base_uri": "https://localhost:8080/",
          "height": 143
        },
        "id": "nhnulHmCUncu",
        "outputId": "e3c7e62f-193d-4727-a78d-88a781aff097"
      },
      "source": [
        "pd.crosstab(df.sex, df.smoker).apply(lambda r: r/r.sum(), axis=1) #axis=0\n",
        "#how many male smokers/non smokers to male smoker and non smoker - how many female smokers/non smokers to female smoker and non smoker"
      ],
      "execution_count": null,
      "outputs": [
        {
          "output_type": "execute_result",
          "data": {
            "text/html": [
              "<div>\n",
              "<style scoped>\n",
              "    .dataframe tbody tr th:only-of-type {\n",
              "        vertical-align: middle;\n",
              "    }\n",
              "\n",
              "    .dataframe tbody tr th {\n",
              "        vertical-align: top;\n",
              "    }\n",
              "\n",
              "    .dataframe thead th {\n",
              "        text-align: right;\n",
              "    }\n",
              "</style>\n",
              "<table border=\"1\" class=\"dataframe\">\n",
              "  <thead>\n",
              "    <tr style=\"text-align: right;\">\n",
              "      <th>smoker</th>\n",
              "      <th>Yes</th>\n",
              "      <th>No</th>\n",
              "    </tr>\n",
              "    <tr>\n",
              "      <th>sex</th>\n",
              "      <th></th>\n",
              "      <th></th>\n",
              "    </tr>\n",
              "  </thead>\n",
              "  <tbody>\n",
              "    <tr>\n",
              "      <th>Male</th>\n",
              "      <td>0.382166</td>\n",
              "      <td>0.617834</td>\n",
              "    </tr>\n",
              "    <tr>\n",
              "      <th>Female</th>\n",
              "      <td>0.379310</td>\n",
              "      <td>0.620690</td>\n",
              "    </tr>\n",
              "  </tbody>\n",
              "</table>\n",
              "</div>"
            ],
            "text/plain": [
              "smoker       Yes        No\n",
              "sex                       \n",
              "Male    0.382166  0.617834\n",
              "Female  0.379310  0.620690"
            ]
          },
          "metadata": {
            "tags": []
          },
          "execution_count": 20
        }
      ]
    },
    {
      "cell_type": "code",
      "metadata": {
        "colab": {
          "base_uri": "https://localhost:8080/",
          "height": 143
        },
        "id": "zBkq1Soxda2V",
        "outputId": "d2ed4a97-f41f-4613-ddf2-e1b94a05208e"
      },
      "source": [
        "pd.crosstab(df.sex, df.smoker).apply(lambda r: r/r.sum(), axis=0) #axis=0\n",
        "#how many male smokers/non smokers to male+female smoker/non smokers- how many female smokers/non smokers to male+female smoker/non smokers"
      ],
      "execution_count": null,
      "outputs": [
        {
          "output_type": "execute_result",
          "data": {
            "text/html": [
              "<div>\n",
              "<style scoped>\n",
              "    .dataframe tbody tr th:only-of-type {\n",
              "        vertical-align: middle;\n",
              "    }\n",
              "\n",
              "    .dataframe tbody tr th {\n",
              "        vertical-align: top;\n",
              "    }\n",
              "\n",
              "    .dataframe thead th {\n",
              "        text-align: right;\n",
              "    }\n",
              "</style>\n",
              "<table border=\"1\" class=\"dataframe\">\n",
              "  <thead>\n",
              "    <tr style=\"text-align: right;\">\n",
              "      <th>smoker</th>\n",
              "      <th>Yes</th>\n",
              "      <th>No</th>\n",
              "    </tr>\n",
              "    <tr>\n",
              "      <th>sex</th>\n",
              "      <th></th>\n",
              "      <th></th>\n",
              "    </tr>\n",
              "  </thead>\n",
              "  <tbody>\n",
              "    <tr>\n",
              "      <th>Male</th>\n",
              "      <td>0.645161</td>\n",
              "      <td>0.642384</td>\n",
              "    </tr>\n",
              "    <tr>\n",
              "      <th>Female</th>\n",
              "      <td>0.354839</td>\n",
              "      <td>0.357616</td>\n",
              "    </tr>\n",
              "  </tbody>\n",
              "</table>\n",
              "</div>"
            ],
            "text/plain": [
              "smoker       Yes        No\n",
              "sex                       \n",
              "Male    0.645161  0.642384\n",
              "Female  0.354839  0.357616"
            ]
          },
          "metadata": {
            "tags": []
          },
          "execution_count": 21
        }
      ]
    },
    {
      "cell_type": "markdown",
      "metadata": {
        "id": "oLYGapFGljCy"
      },
      "source": [
        "# Problem 1\n",
        "\n",
        "u can use this site \n",
        "https://www.geeksforgeeks.org/pandas-crosstab-function-in-python/\n",
        "\n",
        "**or make your own search**"
      ]
    },
    {
      "cell_type": "markdown",
      "metadata": {
        "id": "FaSpCdFzlnrI"
      },
      "source": [
        "### A- make sex and time at row names and smoking status as the column names"
      ]
    },
    {
      "cell_type": "code",
      "metadata": {
        "colab": {
          "base_uri": "https://localhost:8080/",
          "height": 424
        },
        "id": "JCXo6SA-S6qR",
        "outputId": "3790c285-5c43-493b-d8c5-34dcac56aa89"
      },
      "source": [
        "df"
      ],
      "execution_count": null,
      "outputs": [
        {
          "output_type": "execute_result",
          "data": {
            "text/html": [
              "<div>\n",
              "<style scoped>\n",
              "    .dataframe tbody tr th:only-of-type {\n",
              "        vertical-align: middle;\n",
              "    }\n",
              "\n",
              "    .dataframe tbody tr th {\n",
              "        vertical-align: top;\n",
              "    }\n",
              "\n",
              "    .dataframe thead th {\n",
              "        text-align: right;\n",
              "    }\n",
              "</style>\n",
              "<table border=\"1\" class=\"dataframe\">\n",
              "  <thead>\n",
              "    <tr style=\"text-align: right;\">\n",
              "      <th></th>\n",
              "      <th>total_bill</th>\n",
              "      <th>tip</th>\n",
              "      <th>sex</th>\n",
              "      <th>smoker</th>\n",
              "      <th>day</th>\n",
              "      <th>time</th>\n",
              "      <th>size</th>\n",
              "    </tr>\n",
              "  </thead>\n",
              "  <tbody>\n",
              "    <tr>\n",
              "      <th>0</th>\n",
              "      <td>16.99</td>\n",
              "      <td>1.01</td>\n",
              "      <td>Female</td>\n",
              "      <td>No</td>\n",
              "      <td>Sun</td>\n",
              "      <td>Dinner</td>\n",
              "      <td>2</td>\n",
              "    </tr>\n",
              "    <tr>\n",
              "      <th>1</th>\n",
              "      <td>10.34</td>\n",
              "      <td>1.66</td>\n",
              "      <td>Male</td>\n",
              "      <td>No</td>\n",
              "      <td>Sun</td>\n",
              "      <td>Dinner</td>\n",
              "      <td>3</td>\n",
              "    </tr>\n",
              "    <tr>\n",
              "      <th>2</th>\n",
              "      <td>21.01</td>\n",
              "      <td>3.50</td>\n",
              "      <td>Male</td>\n",
              "      <td>No</td>\n",
              "      <td>Sun</td>\n",
              "      <td>Dinner</td>\n",
              "      <td>3</td>\n",
              "    </tr>\n",
              "    <tr>\n",
              "      <th>3</th>\n",
              "      <td>23.68</td>\n",
              "      <td>3.31</td>\n",
              "      <td>Male</td>\n",
              "      <td>No</td>\n",
              "      <td>Sun</td>\n",
              "      <td>Dinner</td>\n",
              "      <td>2</td>\n",
              "    </tr>\n",
              "    <tr>\n",
              "      <th>4</th>\n",
              "      <td>24.59</td>\n",
              "      <td>3.61</td>\n",
              "      <td>Female</td>\n",
              "      <td>No</td>\n",
              "      <td>Sun</td>\n",
              "      <td>Dinner</td>\n",
              "      <td>4</td>\n",
              "    </tr>\n",
              "    <tr>\n",
              "      <th>...</th>\n",
              "      <td>...</td>\n",
              "      <td>...</td>\n",
              "      <td>...</td>\n",
              "      <td>...</td>\n",
              "      <td>...</td>\n",
              "      <td>...</td>\n",
              "      <td>...</td>\n",
              "    </tr>\n",
              "    <tr>\n",
              "      <th>239</th>\n",
              "      <td>29.03</td>\n",
              "      <td>5.92</td>\n",
              "      <td>Male</td>\n",
              "      <td>No</td>\n",
              "      <td>Sat</td>\n",
              "      <td>Dinner</td>\n",
              "      <td>3</td>\n",
              "    </tr>\n",
              "    <tr>\n",
              "      <th>240</th>\n",
              "      <td>27.18</td>\n",
              "      <td>2.00</td>\n",
              "      <td>Female</td>\n",
              "      <td>Yes</td>\n",
              "      <td>Sat</td>\n",
              "      <td>Dinner</td>\n",
              "      <td>2</td>\n",
              "    </tr>\n",
              "    <tr>\n",
              "      <th>241</th>\n",
              "      <td>22.67</td>\n",
              "      <td>2.00</td>\n",
              "      <td>Male</td>\n",
              "      <td>Yes</td>\n",
              "      <td>Sat</td>\n",
              "      <td>Dinner</td>\n",
              "      <td>2</td>\n",
              "    </tr>\n",
              "    <tr>\n",
              "      <th>242</th>\n",
              "      <td>17.82</td>\n",
              "      <td>1.75</td>\n",
              "      <td>Male</td>\n",
              "      <td>No</td>\n",
              "      <td>Sat</td>\n",
              "      <td>Dinner</td>\n",
              "      <td>2</td>\n",
              "    </tr>\n",
              "    <tr>\n",
              "      <th>243</th>\n",
              "      <td>18.78</td>\n",
              "      <td>3.00</td>\n",
              "      <td>Female</td>\n",
              "      <td>No</td>\n",
              "      <td>Thur</td>\n",
              "      <td>Dinner</td>\n",
              "      <td>2</td>\n",
              "    </tr>\n",
              "  </tbody>\n",
              "</table>\n",
              "<p>244 rows × 7 columns</p>\n",
              "</div>"
            ],
            "text/plain": [
              "     total_bill   tip     sex smoker   day    time  size\n",
              "0         16.99  1.01  Female     No   Sun  Dinner     2\n",
              "1         10.34  1.66    Male     No   Sun  Dinner     3\n",
              "2         21.01  3.50    Male     No   Sun  Dinner     3\n",
              "3         23.68  3.31    Male     No   Sun  Dinner     2\n",
              "4         24.59  3.61  Female     No   Sun  Dinner     4\n",
              "..          ...   ...     ...    ...   ...     ...   ...\n",
              "239       29.03  5.92    Male     No   Sat  Dinner     3\n",
              "240       27.18  2.00  Female    Yes   Sat  Dinner     2\n",
              "241       22.67  2.00    Male    Yes   Sat  Dinner     2\n",
              "242       17.82  1.75    Male     No   Sat  Dinner     2\n",
              "243       18.78  3.00  Female     No  Thur  Dinner     2\n",
              "\n",
              "[244 rows x 7 columns]"
            ]
          },
          "metadata": {
            "tags": []
          },
          "execution_count": 25
        }
      ]
    },
    {
      "cell_type": "code",
      "metadata": {
        "colab": {
          "base_uri": "https://localhost:8080/",
          "height": 206
        },
        "id": "9fBcc_CuMbup",
        "outputId": "b31411a1-f884-442b-bdbb-aef6e752644d"
      },
      "source": [
        "pd.crosstab([df['sex'],df['time']], df['smoker'],rownames=['sex','time'],colnames=['smoker'])\n"
      ],
      "execution_count": null,
      "outputs": [
        {
          "output_type": "execute_result",
          "data": {
            "text/html": [
              "<div>\n",
              "<style scoped>\n",
              "    .dataframe tbody tr th:only-of-type {\n",
              "        vertical-align: middle;\n",
              "    }\n",
              "\n",
              "    .dataframe tbody tr th {\n",
              "        vertical-align: top;\n",
              "    }\n",
              "\n",
              "    .dataframe thead th {\n",
              "        text-align: right;\n",
              "    }\n",
              "</style>\n",
              "<table border=\"1\" class=\"dataframe\">\n",
              "  <thead>\n",
              "    <tr style=\"text-align: right;\">\n",
              "      <th></th>\n",
              "      <th>smoker</th>\n",
              "      <th>Yes</th>\n",
              "      <th>No</th>\n",
              "    </tr>\n",
              "    <tr>\n",
              "      <th>sex</th>\n",
              "      <th>time</th>\n",
              "      <th></th>\n",
              "      <th></th>\n",
              "    </tr>\n",
              "  </thead>\n",
              "  <tbody>\n",
              "    <tr>\n",
              "      <th rowspan=\"2\" valign=\"top\">Male</th>\n",
              "      <th>Lunch</th>\n",
              "      <td>13</td>\n",
              "      <td>20</td>\n",
              "    </tr>\n",
              "    <tr>\n",
              "      <th>Dinner</th>\n",
              "      <td>47</td>\n",
              "      <td>77</td>\n",
              "    </tr>\n",
              "    <tr>\n",
              "      <th rowspan=\"2\" valign=\"top\">Female</th>\n",
              "      <th>Lunch</th>\n",
              "      <td>10</td>\n",
              "      <td>25</td>\n",
              "    </tr>\n",
              "    <tr>\n",
              "      <th>Dinner</th>\n",
              "      <td>23</td>\n",
              "      <td>29</td>\n",
              "    </tr>\n",
              "  </tbody>\n",
              "</table>\n",
              "</div>"
            ],
            "text/plain": [
              "smoker         Yes  No\n",
              "sex    time           \n",
              "Male   Lunch    13  20\n",
              "       Dinner   47  77\n",
              "Female Lunch    10  25\n",
              "       Dinner   23  29"
            ]
          },
          "metadata": {
            "tags": []
          },
          "execution_count": 42
        }
      ]
    },
    {
      "cell_type": "markdown",
      "metadata": {
        "id": "SwYEgIFsmYeR"
      },
      "source": [
        "### B- make sex  at row names and smoking status & time as the column names"
      ]
    },
    {
      "cell_type": "code",
      "metadata": {
        "colab": {
          "base_uri": "https://localhost:8080/",
          "height": 175
        },
        "id": "RsgoHaM1WlIC",
        "outputId": "68bdfdd8-d761-474e-bd4f-08168e8a4e04"
      },
      "source": [
        "pd.crosstab(df['sex'],[df['smoker'],df['time']],rownames=['sex'],colnames=['smoker','time'])"
      ],
      "execution_count": null,
      "outputs": [
        {
          "output_type": "execute_result",
          "data": {
            "text/html": [
              "<div>\n",
              "<style scoped>\n",
              "    .dataframe tbody tr th:only-of-type {\n",
              "        vertical-align: middle;\n",
              "    }\n",
              "\n",
              "    .dataframe tbody tr th {\n",
              "        vertical-align: top;\n",
              "    }\n",
              "\n",
              "    .dataframe thead tr th {\n",
              "        text-align: left;\n",
              "    }\n",
              "\n",
              "    .dataframe thead tr:last-of-type th {\n",
              "        text-align: right;\n",
              "    }\n",
              "</style>\n",
              "<table border=\"1\" class=\"dataframe\">\n",
              "  <thead>\n",
              "    <tr>\n",
              "      <th>smoker</th>\n",
              "      <th colspan=\"2\" halign=\"left\">Yes</th>\n",
              "      <th colspan=\"2\" halign=\"left\">No</th>\n",
              "    </tr>\n",
              "    <tr>\n",
              "      <th>time</th>\n",
              "      <th>Lunch</th>\n",
              "      <th>Dinner</th>\n",
              "      <th>Lunch</th>\n",
              "      <th>Dinner</th>\n",
              "    </tr>\n",
              "    <tr>\n",
              "      <th>sex</th>\n",
              "      <th></th>\n",
              "      <th></th>\n",
              "      <th></th>\n",
              "      <th></th>\n",
              "    </tr>\n",
              "  </thead>\n",
              "  <tbody>\n",
              "    <tr>\n",
              "      <th>Male</th>\n",
              "      <td>13</td>\n",
              "      <td>47</td>\n",
              "      <td>20</td>\n",
              "      <td>77</td>\n",
              "    </tr>\n",
              "    <tr>\n",
              "      <th>Female</th>\n",
              "      <td>10</td>\n",
              "      <td>23</td>\n",
              "      <td>25</td>\n",
              "      <td>29</td>\n",
              "    </tr>\n",
              "  </tbody>\n",
              "</table>\n",
              "</div>"
            ],
            "text/plain": [
              "smoker   Yes           No       \n",
              "time   Lunch Dinner Lunch Dinner\n",
              "sex                             \n",
              "Male      13     47    20     77\n",
              "Female    10     23    25     29"
            ]
          },
          "metadata": {
            "tags": []
          },
          "execution_count": 45
        }
      ]
    },
    {
      "cell_type": "markdown",
      "metadata": {
        "id": "bgDgrUtTnLea"
      },
      "source": [
        "### visualize single variable"
      ]
    },
    {
      "cell_type": "code",
      "metadata": {
        "id": "tJOEVH8UZvTe"
      },
      "source": [
        ""
      ],
      "execution_count": null,
      "outputs": []
    },
    {
      "cell_type": "code",
      "metadata": {
        "colab": {
          "base_uri": "https://localhost:8080/",
          "height": 266
        },
        "id": "nvoA2ngNnKw2",
        "outputId": "dc27fde4-ccab-4f67-ebaa-bc6f28d263a5"
      },
      "source": [
        "#plt.figure()\n",
        "table=df.sex.value_counts()/ len(df)\n",
        "table.plot.pie()    #change it to pie chart\n"
      ],
      "execution_count": null,
      "outputs": [
        {
          "output_type": "execute_result",
          "data": {
            "text/plain": [
              "<matplotlib.axes._subplots.AxesSubplot at 0x7f69faf49850>"
            ]
          },
          "metadata": {
            "tags": []
          },
          "execution_count": 48
        },
        {
          "output_type": "display_data",
          "data": {
            "image/png": "[encoded data removed]",
            "text/plain": [
              "<Figure size 432x288 with 1 Axes>"
            ]
          },
          "metadata": {
            "tags": []
          }
        }
      ]
    },
    {
      "cell_type": "code",
      "metadata": {
        "colab": {
          "base_uri": "https://localhost:8080/",
          "height": 354
        },
        "id": "1lW2FR__rWKg",
        "outputId": "2bbdd8d1-8bfc-4114-99c2-d943d9984ff2"
      },
      "source": [
        "sns.countplot(df.sex)"
      ],
      "execution_count": null,
      "outputs": [
        {
          "output_type": "stream",
          "text": [
            "/usr/local/lib/python3.7/dist-packages/seaborn/_decorators.py:43: FutureWarning: Pass the following variable as a keyword arg: x. From version 0.12, the only valid positional argument will be `data`, and passing other arguments without an explicit keyword will result in an error or misinterpretation.\n",
            "  FutureWarning\n"
          ],
          "name": "stderr"
        },
        {
          "output_type": "execute_result",
          "data": {
            "text/plain": [
              "<matplotlib.axes._subplots.AxesSubplot at 0x7f69faf4d090>"
            ]
          },
          "metadata": {
            "tags": []
          },
          "execution_count": 50
        },
        {
          "output_type": "display_data",
          "data": {
            "image/png": "[encoded data removed]",
            "text/plain": [
              "<Figure size 432x288 with 1 Axes>"
            ]
          },
          "metadata": {
            "tags": [],
            "needs_background": "light"
          }
        }
      ]
    },
    {
      "cell_type": "markdown",
      "metadata": {
        "id": "-pG-R7ik9dFm"
      },
      "source": [
        "### visuallizing cross tables"
      ]
    },
    {
      "cell_type": "code",
      "metadata": {
        "colab": {
          "base_uri": "https://localhost:8080/",
          "height": 143
        },
        "id": "izeyG6FzaZHM",
        "outputId": "c283ec45-3ccc-4642-a128-1d1a2fb2ee0a"
      },
      "source": [
        "pd.crosstab(df['sex'], df['smoker'], rownames=['sex'], colnames=['smoker']) # /len(df) #what are gonna  change?"
      ],
      "execution_count": null,
      "outputs": [
        {
          "output_type": "execute_result",
          "data": {
            "text/html": [
              "<div>\n",
              "<style scoped>\n",
              "    .dataframe tbody tr th:only-of-type {\n",
              "        vertical-align: middle;\n",
              "    }\n",
              "\n",
              "    .dataframe tbody tr th {\n",
              "        vertical-align: top;\n",
              "    }\n",
              "\n",
              "    .dataframe thead th {\n",
              "        text-align: right;\n",
              "    }\n",
              "</style>\n",
              "<table border=\"1\" class=\"dataframe\">\n",
              "  <thead>\n",
              "    <tr style=\"text-align: right;\">\n",
              "      <th>smoker</th>\n",
              "      <th>Yes</th>\n",
              "      <th>No</th>\n",
              "    </tr>\n",
              "    <tr>\n",
              "      <th>sex</th>\n",
              "      <th></th>\n",
              "      <th></th>\n",
              "    </tr>\n",
              "  </thead>\n",
              "  <tbody>\n",
              "    <tr>\n",
              "      <th>Male</th>\n",
              "      <td>60</td>\n",
              "      <td>97</td>\n",
              "    </tr>\n",
              "    <tr>\n",
              "      <th>Female</th>\n",
              "      <td>33</td>\n",
              "      <td>54</td>\n",
              "    </tr>\n",
              "  </tbody>\n",
              "</table>\n",
              "</div>"
            ],
            "text/plain": [
              "smoker  Yes  No\n",
              "sex            \n",
              "Male     60  97\n",
              "Female   33  54"
            ]
          },
          "metadata": {
            "tags": []
          },
          "execution_count": 55
        }
      ]
    },
    {
      "cell_type": "code",
      "metadata": {
        "colab": {
          "base_uri": "https://localhost:8080/",
          "height": 323
        },
        "id": "VWkLmQuivlS0",
        "outputId": "7e890599-946c-49a3-eaed-a91947843470"
      },
      "source": [
        "cross_table=pd.crosstab(df['sex'], df['smoker'], rownames=['sex'], colnames=['smoker'])  /len(df) #what are gonna  change?\n",
        "cross_table.plot(kind='bar')  # try stacked=True"
      ],
      "execution_count": null,
      "outputs": [
        {
          "output_type": "execute_result",
          "data": {
            "text/plain": [
              "<matplotlib.axes._subplots.AxesSubplot at 0x7f69fab88ad0>"
            ]
          },
          "metadata": {
            "tags": []
          },
          "execution_count": 64
        },
        {
          "output_type": "display_data",
          "data": {
            "image/png": "[encoded data removed]",
            "text/plain": [
              "<Figure size 432x288 with 1 Axes>"
            ]
          },
          "metadata": {
            "tags": [],
            "needs_background": "light"
          }
        }
      ]
    },
    {
      "cell_type": "code",
      "metadata": {
        "colab": {
          "base_uri": "https://localhost:8080/",
          "height": 323
        },
        "id": "v7ZSzzO8x1DD",
        "outputId": "81d8feef-301a-4955-ebc9-e8a66db9d65f"
      },
      "source": [
        "table=pd.crosstab(df['sex'],df['smoker'])/len(df)\n",
        "table.plot(kind='bar',stacked=True)"
      ],
      "execution_count": null,
      "outputs": [
        {
          "output_type": "execute_result",
          "data": {
            "text/plain": [
              "<matplotlib.axes._subplots.AxesSubplot at 0x7f69fa7e4510>"
            ]
          },
          "metadata": {
            "tags": []
          },
          "execution_count": 73
        },
        {
          "output_type": "display_data",
          "data": {
            "image/png": "[encoded data removed]",
            "text/plain": [
              "<Figure size 432x288 with 1 Axes>"
            ]
          },
          "metadata": {
            "tags": [],
            "needs_background": "light"
          }
        }
      ]
    },
    {
      "cell_type": "code",
      "metadata": {
        "id": "3pZ7PGw3yNLo",
        "colab": {
          "base_uri": "https://localhost:8080/",
          "height": 238
        },
        "outputId": "1899b346-9a84-417b-ea6e-c5f509f041c5"
      },
      "source": [
        "cross_table=pd.crosstab(df['sex'],df['smoker'],rownames=['sex'],colnames=['smoker'])\n",
        "cross_table.plot(kind='pie',subplots=True)"
      ],
      "execution_count": null,
      "outputs": [
        {
          "output_type": "execute_result",
          "data": {
            "text/plain": [
              "array([<matplotlib.axes._subplots.AxesSubplot object at 0x7f69f9f8fd50>,\n",
              "       <matplotlib.axes._subplots.AxesSubplot object at 0x7f69f9f88b50>],\n",
              "      dtype=object)"
            ]
          },
          "metadata": {
            "tags": []
          },
          "execution_count": 88
        },
        {
          "output_type": "display_data",
          "data": {
            "image/png": "[encoded data removed]",
            "text/plain": [
              "<Figure size 432x288 with 2 Axes>"
            ]
          },
          "metadata": {
            "tags": []
          }
        }
      ]
    },
    {
      "cell_type": "code",
      "metadata": {
        "colab": {
          "base_uri": "https://localhost:8080/",
          "height": 238
        },
        "id": "mEWwUi3yzt1x",
        "outputId": "a9288210-123c-4b49-848a-41934b76a898"
      },
      "source": [
        "cross_table=pd.crosstab(df['sex'], df['smoker'], rownames=['sex'], colnames=['smoker']) # /len(df) #what are gonna  change?\n",
        "cross_table.plot(kind='pie',subplots=True,autopct=\"%.1f%%\")"
      ],
      "execution_count": null,
      "outputs": [
        {
          "output_type": "execute_result",
          "data": {
            "text/plain": [
              "array([<matplotlib.axes._subplots.AxesSubplot object at 0x7f69f9ebe390>,\n",
              "       <matplotlib.axes._subplots.AxesSubplot object at 0x7f69f9e69990>],\n",
              "      dtype=object)"
            ]
          },
          "metadata": {
            "tags": []
          },
          "execution_count": 89
        },
        {
          "output_type": "display_data",
          "data": {
            "image/png": "[encoded data removed]",
            "text/plain": [
              "<Figure size 432x288 with 2 Axes>"
            ]
          },
          "metadata": {
            "tags": []
          }
        }
      ]
    },
    {
      "cell_type": "code",
      "metadata": {
        "colab": {
          "base_uri": "https://localhost:8080/",
          "height": 238
        },
        "id": "JP_H5y0Rz7A0",
        "outputId": "43ed9c78-ac02-44d1-f6d5-2268fa46f594"
      },
      "source": [
        "cross_table=pd.crosstab(df['sex'], df['smoker'], rownames=['sex'], colnames=['smoker']) # /len(df) #what are gonna  change?\n",
        "cross_table.plot(kind='pie',subplots=True,autopct=\"%.1f%%\",explode=[0.05]*2,legend=False)"
      ],
      "execution_count": null,
      "outputs": [
        {
          "output_type": "execute_result",
          "data": {
            "text/plain": [
              "array([<matplotlib.axes._subplots.AxesSubplot object at 0x7f69f9f70d90>,\n",
              "       <matplotlib.axes._subplots.AxesSubplot object at 0x7f69fac7e310>],\n",
              "      dtype=object)"
            ]
          },
          "metadata": {
            "tags": []
          },
          "execution_count": 90
        },
        {
          "output_type": "display_data",
          "data": {
            "image/png": "[encoded data removed]",
            "text/plain": [
              "<Figure size 432x288 with 2 Axes>"
            ]
          },
          "metadata": {
            "tags": []
          }
        }
      ]
    },
    {
      "cell_type": "markdown",
      "metadata": {
        "id": "iFeWRnj838cS"
      },
      "source": [
        "#Problem 2\n",
        "For the previous pie chart change the pie chart; make each pie as a separate gender and contains both smoking status\n",
        "# **DON'T SEARCH**"
      ]
    },
    {
      "cell_type": "code",
      "metadata": {
        "id": "kTMrYhh746SI",
        "colab": {
          "base_uri": "https://localhost:8080/",
          "height": 143
        },
        "outputId": "d16830e4-cd6e-4ba9-b1c8-50d6b07a1505"
      },
      "source": [
        "pd.crosstab(df['smoker'], df['sex'])"
      ],
      "execution_count": null,
      "outputs": [
        {
          "output_type": "execute_result",
          "data": {
            "text/html": [
              "<div>\n",
              "<style scoped>\n",
              "    .dataframe tbody tr th:only-of-type {\n",
              "        vertical-align: middle;\n",
              "    }\n",
              "\n",
              "    .dataframe tbody tr th {\n",
              "        vertical-align: top;\n",
              "    }\n",
              "\n",
              "    .dataframe thead th {\n",
              "        text-align: right;\n",
              "    }\n",
              "</style>\n",
              "<table border=\"1\" class=\"dataframe\">\n",
              "  <thead>\n",
              "    <tr style=\"text-align: right;\">\n",
              "      <th>sex</th>\n",
              "      <th>Male</th>\n",
              "      <th>Female</th>\n",
              "    </tr>\n",
              "    <tr>\n",
              "      <th>smoker</th>\n",
              "      <th></th>\n",
              "      <th></th>\n",
              "    </tr>\n",
              "  </thead>\n",
              "  <tbody>\n",
              "    <tr>\n",
              "      <th>Yes</th>\n",
              "      <td>60</td>\n",
              "      <td>33</td>\n",
              "    </tr>\n",
              "    <tr>\n",
              "      <th>No</th>\n",
              "      <td>97</td>\n",
              "      <td>54</td>\n",
              "    </tr>\n",
              "  </tbody>\n",
              "</table>\n",
              "</div>"
            ],
            "text/plain": [
              "sex     Male  Female\n",
              "smoker              \n",
              "Yes       60      33\n",
              "No        97      54"
            ]
          },
          "metadata": {
            "tags": []
          },
          "execution_count": 108
        }
      ]
    },
    {
      "cell_type": "code",
      "metadata": {
        "colab": {
          "base_uri": "https://localhost:8080/",
          "height": 238
        },
        "id": "XJfkeVEQ3DKs",
        "outputId": "8794f6de-e7c0-43d5-aa85-c3f92ded6492"
      },
      "source": [
        "cross_table=pd.crosstab(df['smoker'], df['sex']) \n",
        "cross_table.plot(kind='pie',subplots=True,autopct=\"%.1f%%\",explode=[0.05]*2,legend=False)"
      ],
      "execution_count": null,
      "outputs": [
        {
          "output_type": "execute_result",
          "data": {
            "text/plain": [
              "array([<matplotlib.axes._subplots.AxesSubplot object at 0x7f69f9d4fdd0>,\n",
              "       <matplotlib.axes._subplots.AxesSubplot object at 0x7f69f9cfabd0>],\n",
              "      dtype=object)"
            ]
          },
          "metadata": {
            "tags": []
          },
          "execution_count": 107
        },
        {
          "output_type": "display_data",
          "data": {
            "image/png": "[encoded data removed]",
            "text/plain": [
              "<Figure size 432x288 with 2 Axes>"
            ]
          },
          "metadata": {
            "tags": []
          }
        }
      ]
    },
    {
      "cell_type": "markdown",
      "metadata": {
        "id": "BaPVGoKL6bUq"
      },
      "source": [
        "# problem 3\n",
        "####for these variables: sex,\tsmoker,\tday,\ttime\n",
        "#####make pie chart for each in one code\n",
        "#### use plt.show() at the end of the code and think Why?"
      ]
    },
    {
      "cell_type": "code",
      "metadata": {
        "id": "Y04vDkGP6aoo",
        "colab": {
          "base_uri": "https://localhost:8080/",
          "height": 941
        },
        "outputId": "33407482-e515-48f3-c1f0-3e0ce6efeb7b"
      },
      "source": [
        "names = ['sex', 'smoker', 'day', 'time']\n",
        "\n",
        "for i in names:\n",
        "  table=df[i].value_counts()\n",
        "  table.plot.pie()   \n",
        "  plt.show()\n",
        "  "
      ],
      "execution_count": null,
      "outputs": [
        {
          "output_type": "display_data",
          "data": {
            "image/png": "[encoded data removed]",
            "text/plain": [
              "<Figure size 432x288 with 1 Axes>"
            ]
          },
          "metadata": {
            "tags": []
          }
        },
        {
          "output_type": "display_data",
          "data": {
            "image/png": "[encoded data removed]",
            "text/plain": [
              "<Figure size 432x288 with 1 Axes>"
            ]
          },
          "metadata": {
            "tags": []
          }
        },
        {
          "output_type": "display_data",
          "data": {
            "image/png": "[encoded data removed]",
            "text/plain": [
              "<Figure size 432x288 with 1 Axes>"
            ]
          },
          "metadata": {
            "tags": []
          }
        },
        {
          "output_type": "display_data",
          "data": {
            "image/png": "[encoded data removed]",
            "text/plain": [
              "<Figure size 432x288 with 1 Axes>"
            ]
          },
          "metadata": {
            "tags": []
          }
        }
      ]
    },
    {
      "cell_type": "markdown",
      "metadata": {
        "id": "w4NXKH7UMtnu"
      },
      "source": [
        "###cumulitave frequancy"
      ]
    },
    {
      "cell_type": "code",
      "metadata": {
        "colab": {
          "base_uri": "https://localhost:8080/",
          "height": 424
        },
        "id": "9_PbuwNn_kG6",
        "outputId": "936c41b7-2496-4c63-f3df-c02ccff08cb2"
      },
      "source": [
        "df"
      ],
      "execution_count": null,
      "outputs": [
        {
          "output_type": "execute_result",
          "data": {
            "text/html": [
              "<div>\n",
              "<style scoped>\n",
              "    .dataframe tbody tr th:only-of-type {\n",
              "        vertical-align: middle;\n",
              "    }\n",
              "\n",
              "    .dataframe tbody tr th {\n",
              "        vertical-align: top;\n",
              "    }\n",
              "\n",
              "    .dataframe thead th {\n",
              "        text-align: right;\n",
              "    }\n",
              "</style>\n",
              "<table border=\"1\" class=\"dataframe\">\n",
              "  <thead>\n",
              "    <tr style=\"text-align: right;\">\n",
              "      <th></th>\n",
              "      <th>total_bill</th>\n",
              "      <th>tip</th>\n",
              "      <th>sex</th>\n",
              "      <th>smoker</th>\n",
              "      <th>day</th>\n",
              "      <th>time</th>\n",
              "      <th>size</th>\n",
              "    </tr>\n",
              "  </thead>\n",
              "  <tbody>\n",
              "    <tr>\n",
              "      <th>0</th>\n",
              "      <td>16.99</td>\n",
              "      <td>1.01</td>\n",
              "      <td>Female</td>\n",
              "      <td>No</td>\n",
              "      <td>Sun</td>\n",
              "      <td>Dinner</td>\n",
              "      <td>2</td>\n",
              "    </tr>\n",
              "    <tr>\n",
              "      <th>1</th>\n",
              "      <td>10.34</td>\n",
              "      <td>1.66</td>\n",
              "      <td>Male</td>\n",
              "      <td>No</td>\n",
              "      <td>Sun</td>\n",
              "      <td>Dinner</td>\n",
              "      <td>3</td>\n",
              "    </tr>\n",
              "    <tr>\n",
              "      <th>2</th>\n",
              "      <td>21.01</td>\n",
              "      <td>3.50</td>\n",
              "      <td>Male</td>\n",
              "      <td>No</td>\n",
              "      <td>Sun</td>\n",
              "      <td>Dinner</td>\n",
              "      <td>3</td>\n",
              "    </tr>\n",
              "    <tr>\n",
              "      <th>3</th>\n",
              "      <td>23.68</td>\n",
              "      <td>3.31</td>\n",
              "      <td>Male</td>\n",
              "      <td>No</td>\n",
              "      <td>Sun</td>\n",
              "      <td>Dinner</td>\n",
              "      <td>2</td>\n",
              "    </tr>\n",
              "    <tr>\n",
              "      <th>4</th>\n",
              "      <td>24.59</td>\n",
              "      <td>3.61</td>\n",
              "      <td>Female</td>\n",
              "      <td>No</td>\n",
              "      <td>Sun</td>\n",
              "      <td>Dinner</td>\n",
              "      <td>4</td>\n",
              "    </tr>\n",
              "    <tr>\n",
              "      <th>...</th>\n",
              "      <td>...</td>\n",
              "      <td>...</td>\n",
              "      <td>...</td>\n",
              "      <td>...</td>\n",
              "      <td>...</td>\n",
              "      <td>...</td>\n",
              "      <td>...</td>\n",
              "    </tr>\n",
              "    <tr>\n",
              "      <th>239</th>\n",
              "      <td>29.03</td>\n",
              "      <td>5.92</td>\n",
              "      <td>Male</td>\n",
              "      <td>No</td>\n",
              "      <td>Sat</td>\n",
              "      <td>Dinner</td>\n",
              "      <td>3</td>\n",
              "    </tr>\n",
              "    <tr>\n",
              "      <th>240</th>\n",
              "      <td>27.18</td>\n",
              "      <td>2.00</td>\n",
              "      <td>Female</td>\n",
              "      <td>Yes</td>\n",
              "      <td>Sat</td>\n",
              "      <td>Dinner</td>\n",
              "      <td>2</td>\n",
              "    </tr>\n",
              "    <tr>\n",
              "      <th>241</th>\n",
              "      <td>22.67</td>\n",
              "      <td>2.00</td>\n",
              "      <td>Male</td>\n",
              "      <td>Yes</td>\n",
              "      <td>Sat</td>\n",
              "      <td>Dinner</td>\n",
              "      <td>2</td>\n",
              "    </tr>\n",
              "    <tr>\n",
              "      <th>242</th>\n",
              "      <td>17.82</td>\n",
              "      <td>1.75</td>\n",
              "      <td>Male</td>\n",
              "      <td>No</td>\n",
              "      <td>Sat</td>\n",
              "      <td>Dinner</td>\n",
              "      <td>2</td>\n",
              "    </tr>\n",
              "    <tr>\n",
              "      <th>243</th>\n",
              "      <td>18.78</td>\n",
              "      <td>3.00</td>\n",
              "      <td>Female</td>\n",
              "      <td>No</td>\n",
              "      <td>Thur</td>\n",
              "      <td>Dinner</td>\n",
              "      <td>2</td>\n",
              "    </tr>\n",
              "  </tbody>\n",
              "</table>\n",
              "<p>244 rows × 7 columns</p>\n",
              "</div>"
            ],
            "text/plain": [
              "     total_bill   tip     sex smoker   day    time  size\n",
              "0         16.99  1.01  Female     No   Sun  Dinner     2\n",
              "1         10.34  1.66    Male     No   Sun  Dinner     3\n",
              "2         21.01  3.50    Male     No   Sun  Dinner     3\n",
              "3         23.68  3.31    Male     No   Sun  Dinner     2\n",
              "4         24.59  3.61  Female     No   Sun  Dinner     4\n",
              "..          ...   ...     ...    ...   ...     ...   ...\n",
              "239       29.03  5.92    Male     No   Sat  Dinner     3\n",
              "240       27.18  2.00  Female    Yes   Sat  Dinner     2\n",
              "241       22.67  2.00    Male    Yes   Sat  Dinner     2\n",
              "242       17.82  1.75    Male     No   Sat  Dinner     2\n",
              "243       18.78  3.00  Female     No  Thur  Dinner     2\n",
              "\n",
              "[244 rows x 7 columns]"
            ]
          },
          "metadata": {
            "tags": []
          },
          "execution_count": 20
        }
      ]
    },
    {
      "cell_type": "code",
      "metadata": {
        "colab": {
          "base_uri": "https://localhost:8080/"
        },
        "id": "KwsfESjKBLws",
        "outputId": "6b8bb1ec-3419-4d8d-deaa-49b7bd78ef85"
      },
      "source": [
        "df['size'].value_counts()"
      ],
      "execution_count": null,
      "outputs": [
        {
          "output_type": "execute_result",
          "data": {
            "text/plain": [
              "2    156\n",
              "3     38\n",
              "4     37\n",
              "5      5\n",
              "6      4\n",
              "1      4\n",
              "Name: size, dtype: int64"
            ]
          },
          "metadata": {
            "tags": []
          },
          "execution_count": 30
        }
      ]
    },
    {
      "cell_type": "code",
      "metadata": {
        "colab": {
          "base_uri": "https://localhost:8080/"
        },
        "id": "27VDJ7aZ8J8A",
        "outputId": "7801d0cc-5afe-4318-c9c7-99cdfaf68998"
      },
      "source": [
        "df['size'].value_counts()/len(df)"
      ],
      "execution_count": null,
      "outputs": [
        {
          "output_type": "execute_result",
          "data": {
            "text/plain": [
              "2    0.639344\n",
              "3    0.155738\n",
              "4    0.151639\n",
              "5    0.020492\n",
              "6    0.016393\n",
              "1    0.016393\n",
              "Name: size, dtype: float64"
            ]
          },
          "metadata": {
            "tags": []
          },
          "execution_count": 25
        }
      ]
    },
    {
      "cell_type": "code",
      "metadata": {
        "colab": {
          "base_uri": "https://localhost:8080/"
        },
        "id": "Q4kYjzHeMtBG",
        "outputId": "fab2d5ea-bbd3-412b-ef97-124c5953e1a0"
      },
      "source": [
        "df['size'].value_counts().cumsum()"
      ],
      "execution_count": null,
      "outputs": [
        {
          "output_type": "execute_result",
          "data": {
            "text/plain": [
              "2    156\n",
              "3    194\n",
              "4    231\n",
              "5    236\n",
              "6    240\n",
              "1    244\n",
              "Name: size, dtype: int64"
            ]
          },
          "metadata": {
            "tags": []
          },
          "execution_count": 40
        }
      ]
    },
    {
      "cell_type": "markdown",
      "metadata": {
        "id": "-4fIJKxUW4sF"
      },
      "source": [
        "#Numerical Data"
      ]
    },
    {
      "cell_type": "code",
      "metadata": {
        "colab": {
          "base_uri": "https://localhost:8080/",
          "height": 206
        },
        "id": "a51ZXWg6KW9P",
        "outputId": "bd240fd1-d1bc-4db4-f08a-196fc615f1bf"
      },
      "source": [
        "df.head()"
      ],
      "execution_count": null,
      "outputs": [
        {
          "output_type": "execute_result",
          "data": {
            "text/html": [
              "<div>\n",
              "<style scoped>\n",
              "    .dataframe tbody tr th:only-of-type {\n",
              "        vertical-align: middle;\n",
              "    }\n",
              "\n",
              "    .dataframe tbody tr th {\n",
              "        vertical-align: top;\n",
              "    }\n",
              "\n",
              "    .dataframe thead th {\n",
              "        text-align: right;\n",
              "    }\n",
              "</style>\n",
              "<table border=\"1\" class=\"dataframe\">\n",
              "  <thead>\n",
              "    <tr style=\"text-align: right;\">\n",
              "      <th></th>\n",
              "      <th>total_bill</th>\n",
              "      <th>tip</th>\n",
              "      <th>sex</th>\n",
              "      <th>smoker</th>\n",
              "      <th>day</th>\n",
              "      <th>time</th>\n",
              "      <th>size</th>\n",
              "    </tr>\n",
              "  </thead>\n",
              "  <tbody>\n",
              "    <tr>\n",
              "      <th>0</th>\n",
              "      <td>16.99</td>\n",
              "      <td>1.01</td>\n",
              "      <td>Female</td>\n",
              "      <td>No</td>\n",
              "      <td>Sun</td>\n",
              "      <td>Dinner</td>\n",
              "      <td>2</td>\n",
              "    </tr>\n",
              "    <tr>\n",
              "      <th>1</th>\n",
              "      <td>10.34</td>\n",
              "      <td>1.66</td>\n",
              "      <td>Male</td>\n",
              "      <td>No</td>\n",
              "      <td>Sun</td>\n",
              "      <td>Dinner</td>\n",
              "      <td>3</td>\n",
              "    </tr>\n",
              "    <tr>\n",
              "      <th>2</th>\n",
              "      <td>21.01</td>\n",
              "      <td>3.50</td>\n",
              "      <td>Male</td>\n",
              "      <td>No</td>\n",
              "      <td>Sun</td>\n",
              "      <td>Dinner</td>\n",
              "      <td>3</td>\n",
              "    </tr>\n",
              "    <tr>\n",
              "      <th>3</th>\n",
              "      <td>23.68</td>\n",
              "      <td>3.31</td>\n",
              "      <td>Male</td>\n",
              "      <td>No</td>\n",
              "      <td>Sun</td>\n",
              "      <td>Dinner</td>\n",
              "      <td>2</td>\n",
              "    </tr>\n",
              "    <tr>\n",
              "      <th>4</th>\n",
              "      <td>24.59</td>\n",
              "      <td>3.61</td>\n",
              "      <td>Female</td>\n",
              "      <td>No</td>\n",
              "      <td>Sun</td>\n",
              "      <td>Dinner</td>\n",
              "      <td>4</td>\n",
              "    </tr>\n",
              "  </tbody>\n",
              "</table>\n",
              "</div>"
            ],
            "text/plain": [
              "   total_bill   tip     sex smoker  day    time  size\n",
              "0       16.99  1.01  Female     No  Sun  Dinner     2\n",
              "1       10.34  1.66    Male     No  Sun  Dinner     3\n",
              "2       21.01  3.50    Male     No  Sun  Dinner     3\n",
              "3       23.68  3.31    Male     No  Sun  Dinner     2\n",
              "4       24.59  3.61  Female     No  Sun  Dinner     4"
            ]
          },
          "metadata": {
            "tags": []
          },
          "execution_count": 32
        }
      ]
    },
    {
      "cell_type": "code",
      "metadata": {
        "colab": {
          "base_uri": "https://localhost:8080/"
        },
        "id": "_0Ohi1jBDPRR",
        "outputId": "54039622-b846-45f4-ca8b-c731c7ee1542"
      },
      "source": [
        "df['total_bill'].value_counts().cumsum()"
      ],
      "execution_count": null,
      "outputs": [
        {
          "output_type": "execute_result",
          "data": {
            "text/plain": [
              "13.42      3\n",
              "10.33      5\n",
              "20.29      7\n",
              "18.29      9\n",
              "17.92     11\n",
              "        ... \n",
              "30.40    240\n",
              "26.59    241\n",
              "19.65    242\n",
              "9.55     243\n",
              "5.75     244\n",
              "Name: total_bill, Length: 229, dtype: int64"
            ]
          },
          "metadata": {
            "tags": []
          },
          "execution_count": 41
        }
      ]
    },
    {
      "cell_type": "code",
      "metadata": {
        "colab": {
          "base_uri": "https://localhost:8080/"
        },
        "id": "Zx1bxCteC9tT",
        "outputId": "1bf2c398-2d8f-49c2-8c08-1f6ffa233c79"
      },
      "source": [
        "df['total_bill'].count()"
      ],
      "execution_count": null,
      "outputs": [
        {
          "output_type": "execute_result",
          "data": {
            "text/plain": [
              "244"
            ]
          },
          "metadata": {
            "tags": []
          },
          "execution_count": 35
        }
      ]
    },
    {
      "cell_type": "code",
      "metadata": {
        "colab": {
          "base_uri": "https://localhost:8080/"
        },
        "id": "fyh9aQ2cPZD5",
        "outputId": "ca45a199-b8a3-4078-8cea-965cd2824beb"
      },
      "source": [
        "df['total_bill'].mean()   # try df.count"
      ],
      "execution_count": null,
      "outputs": [
        {
          "output_type": "execute_result",
          "data": {
            "text/plain": [
              "19.785942622950824"
            ]
          },
          "metadata": {
            "tags": []
          },
          "execution_count": 36
        }
      ]
    },
    {
      "cell_type": "markdown",
      "metadata": {
        "id": "wTFXOVC-P0QH"
      },
      "source": [
        "#### 1\tcount()\tNumber of non-null observations\n",
        "####2\tsum()\tSum of values\n",
        "####3\tmean()\tMean of Values\n",
        "####4\tmedian()\tMedian of Values\n",
        "####5\tmode()\tMode of values\n",
        "####6\tstd()\tStandard Deviation of the Values\n",
        "####7\tmin()\tMinimum Value\n",
        "####8\tmax()\tMaximum Value\n",
        "####9\tabs()\tAbsolute Value\n",
        "####10\tcumsum()\tCumulative Sum\n",
        "\n"
      ]
    },
    {
      "cell_type": "markdown",
      "metadata": {
        "id": "1M8j0s4JXwtF"
      },
      "source": [
        "#problem 4\n",
        "###get the three quartiles of total_bill\n",
        "**search**\n",
        "\n"
      ]
    },
    {
      "cell_type": "code",
      "metadata": {
        "colab": {
          "base_uri": "https://localhost:8080/"
        },
        "id": "MAVrUy-jEHF7",
        "outputId": "d54efadb-e2a6-41b4-bc2d-6d0c84aa7605"
      },
      "source": [
        "df.total_bill.quantile([0.25,0.5,0.75])"
      ],
      "execution_count": null,
      "outputs": [
        {
          "output_type": "execute_result",
          "data": {
            "text/plain": [
              "0.25    13.3475\n",
              "0.50    17.7950\n",
              "0.75    24.1275\n",
              "Name: total_bill, dtype: float64"
            ]
          },
          "metadata": {
            "tags": []
          },
          "execution_count": 42
        }
      ]
    },
    {
      "cell_type": "code",
      "metadata": {
        "colab": {
          "base_uri": "https://localhost:8080/"
        },
        "id": "GRt_yPBGYSwW",
        "outputId": "0dbe8063-5264-4b31-83b2-86c9b676981d"
      },
      "source": [
        "pass\n"
      ],
      "execution_count": null,
      "outputs": [
        {
          "output_type": "execute_result",
          "data": {
            "text/plain": [
              "0.25    13.3475\n",
              "0.50    17.7950\n",
              "0.75    24.1275\n",
              "Name: total_bill, dtype: float64"
            ]
          },
          "metadata": {
            "tags": []
          },
          "execution_count": 59
        }
      ]
    },
    {
      "cell_type": "markdown",
      "metadata": {
        "id": "-CHzBXmCY_aF"
      },
      "source": [
        "#problem 5\n",
        "\n",
        "###visualize total_bill by box plot by .boxplot()"
      ]
    },
    {
      "cell_type": "code",
      "metadata": {
        "colab": {
          "base_uri": "https://localhost:8080/",
          "height": 412
        },
        "id": "KIFii69yFEt2",
        "outputId": "f6f0624c-d34c-4f0b-d04a-351e1e5ce519"
      },
      "source": [
        "visual=df.total_bill.quantile([0.25,0.5,0.75])\n",
        "plt.boxplot(visual)"
      ],
      "execution_count": null,
      "outputs": [
        {
          "output_type": "execute_result",
          "data": {
            "text/plain": [
              "{'boxes': [<matplotlib.lines.Line2D at 0x7f59ed592610>],\n",
              " 'caps': [<matplotlib.lines.Line2D at 0x7f59ed59f6d0>,\n",
              "  <matplotlib.lines.Line2D at 0x7f59ed59fc10>],\n",
              " 'fliers': [<matplotlib.lines.Line2D at 0x7f59ed5a5710>],\n",
              " 'means': [],\n",
              " 'medians': [<matplotlib.lines.Line2D at 0x7f59ed5a51d0>],\n",
              " 'whiskers': [<matplotlib.lines.Line2D at 0x7f59ed592c10>,\n",
              "  <matplotlib.lines.Line2D at 0x7f59ed59f190>]}"
            ]
          },
          "metadata": {
            "tags": []
          },
          "execution_count": 4
        },
        {
          "output_type": "display_data",
          "data": {
            "image/png": "[encoded data removed]",
            "text/plain": [
              "<Figure size 432x288 with 1 Axes>"
            ]
          },
          "metadata": {
            "tags": [],
            "needs_background": "light"
          }
        }
      ]
    },
    {
      "cell_type": "markdown",
      "metadata": {
        "id": "yTpu-0qjaiLe"
      },
      "source": [
        "## try to visualize all the df by .hist()"
      ]
    },
    {
      "cell_type": "code",
      "metadata": {
        "id": "fuVzh04sYSzl"
      },
      "source": [
        "histo = df.hist()"
      ],
      "execution_count": null,
      "outputs": []
    },
    {
      "cell_type": "markdown",
      "metadata": {
        "id": "rMC7FJ8kNRGE"
      },
      "source": [
        "#More than one variable"
      ]
    },
    {
      "cell_type": "markdown",
      "metadata": {
        "id": "TKQJu9FIeYDk"
      },
      "source": [
        "#problem 6\n",
        "### what is the variabe which mainly affect tips\n"
      ]
    },
    {
      "cell_type": "markdown",
      "metadata": {
        "id": "fh6M3eI-hMxk"
      },
      "source": [
        "###Do females give tips more than males\n",
        "show that in a box plot"
      ]
    },
    {
      "cell_type": "code",
      "metadata": {
        "id": "Om9GeZTaEl6o"
      },
      "source": [
        "df.groupby('sex')['tip'].mean()"
      ],
      "execution_count": null,
      "outputs": []
    },
    {
      "cell_type": "code",
      "metadata": {
        "id": "VYugmhhMeTaF"
      },
      "source": [
        "df.boxplot(column=pass,by=pass)"
      ],
      "execution_count": null,
      "outputs": []
    },
    {
      "cell_type": "markdown",
      "metadata": {
        "id": "mfZ2K3i2ILex"
      },
      "source": [
        "#problem 7\n",
        "plot a bar chart showing a mean of tip within gender and smoking status in one chart \n",
        "use this link\n",
        "https://www.youtube.com/watch?v=htbob2rXMWY"
      ]
    },
    {
      "cell_type": "code",
      "metadata": {
        "colab": {
          "base_uri": "https://localhost:8080/",
          "height": 400
        },
        "id": "fbob2j5SIKsD",
        "outputId": "1cf1d1f3-dad7-4cd5-a6d0-044bc897b166"
      },
      "source": [
        "pass"
      ],
      "execution_count": null,
      "outputs": [
        {
          "output_type": "execute_result",
          "data": {
            "text/plain": [
              "<seaborn.axisgrid.FacetGrid at 0x7f1b29f82e50>"
            ]
          },
          "metadata": {
            "tags": []
          },
          "execution_count": 13
        },
        {
          "output_type": "display_data",
          "data": {
            "image/png": "[encoded data removed]",
            "text/plain": [
              "<Figure size 412x360 with 1 Axes>"
            ]
          },
          "metadata": {
            "tags": [],
            "needs_background": "light"
          }
        }
      ]
    },
    {
      "cell_type": "markdown",
      "metadata": {
        "id": "M_vu-SOGfohV"
      },
      "source": [
        "# problem 7\n",
        "#### Is there is a relation between tips and bill\n",
        "show with scatter plot"
      ]
    },
    {
      "cell_type": "code",
      "metadata": {
        "colab": {
          "base_uri": "https://localhost:8080/",
          "height": 111
        },
        "id": "_pwUxmBVA0yh",
        "outputId": "49bf2f19-a2f6-4773-e4f8-e40c91feb351"
      },
      "source": [
        "data = df[['tip','total_bill']]\n",
        "correlation = data.cov()    # try .corr\n",
        "correlation"
      ],
      "execution_count": null,
      "outputs": [
        {
          "output_type": "execute_result",
          "data": {
            "text/html": [
              "<div>\n",
              "<style scoped>\n",
              "    .dataframe tbody tr th:only-of-type {\n",
              "        vertical-align: middle;\n",
              "    }\n",
              "\n",
              "    .dataframe tbody tr th {\n",
              "        vertical-align: top;\n",
              "    }\n",
              "\n",
              "    .dataframe thead th {\n",
              "        text-align: right;\n",
              "    }\n",
              "</style>\n",
              "<table border=\"1\" class=\"dataframe\">\n",
              "  <thead>\n",
              "    <tr style=\"text-align: right;\">\n",
              "      <th></th>\n",
              "      <th>tip</th>\n",
              "      <th>total_bill</th>\n",
              "    </tr>\n",
              "  </thead>\n",
              "  <tbody>\n",
              "    <tr>\n",
              "      <th>tip</th>\n",
              "      <td>1.914455</td>\n",
              "      <td>8.323502</td>\n",
              "    </tr>\n",
              "    <tr>\n",
              "      <th>total_bill</th>\n",
              "      <td>8.323502</td>\n",
              "      <td>79.252939</td>\n",
              "    </tr>\n",
              "  </tbody>\n",
              "</table>\n",
              "</div>"
            ],
            "text/plain": [
              "                 tip  total_bill\n",
              "tip         1.914455    8.323502\n",
              "total_bill  8.323502   79.252939"
            ]
          },
          "metadata": {
            "tags": []
          },
          "execution_count": 7
        }
      ]
    },
    {
      "cell_type": "code",
      "metadata": {
        "colab": {
          "base_uri": "https://localhost:8080/",
          "height": 282
        },
        "id": "Py2gClz_eXeQ",
        "outputId": "0cd9e514-aa38-4375-bee6-93c6c5462c1f"
      },
      "source": [
        "plt.scatter(x=pass ,y=pass ,data=df)"
      ],
      "execution_count": null,
      "outputs": [
        {
          "output_type": "execute_result",
          "data": {
            "text/plain": [
              "<matplotlib.collections.PathCollection at 0x7f1164c2f550>"
            ]
          },
          "metadata": {
            "tags": []
          },
          "execution_count": 68
        },
        {
          "output_type": "display_data",
          "data": {
            "image/png": "[encoded data removed]",
            "text/plain": [
              "<Figure size 432x288 with 1 Axes>"
            ]
          },
          "metadata": {
            "tags": [],
            "needs_background": "light"
          }
        }
      ]
    },
    {
      "cell_type": "markdown",
      "metadata": {
        "id": "mYa9_MYu9RAB"
      },
      "source": [
        "#Home Task"
      ]
    },
    {
      "cell_type": "markdown",
      "metadata": {
        "id": "Wtc_COZe9Wwv"
      },
      "source": [
        "#Please use  **seaborn** as possible; you can have a help from this playlist \n",
        "https://www.youtube.com/watch?v=MGOcVAOuXxo&list=PL6_D9USWkG1Bu9oQHvqAeurX-hhq_mZNi\n",
        "\n",
        "### Open the [Cleaned file](https://drive.google.com/file/d/1QvoA9PzeNigm-erftO0b5QaeDRsTirft/view?usp=sharing) and describe the folowing numerically and visually:\n",
        "##### 1- Gender\n",
        "##### 2- Age\n",
        "##### 3- Make a Pareto chart for Age interval; you can use this link https://stackoverflow.com/questions/53577630/how-to-make-pareto-chart-in-python\n",
        "##### 4- states\n",
        "##### 5- the relation between gender and degree of satisfaction\n",
        "##### 6- the relation between Age and source\n",
        "##### 7- the relation between month of sale and price\n",
        "##### 8- the relation between Area and price\n",
        "\n",
        "\n",
        "\n",
        "\n"
      ]
    },
    {
      "cell_type": "markdown",
      "metadata": {
        "id": "yY2NO4ZJCDoi"
      },
      "source": [
        "# Read from colab"
      ]
    },
    {
      "cell_type": "code",
      "metadata": {
        "id": "eVJz6DFxRPU5",
        "colab": {
          "base_uri": "https://localhost:8080/",
          "height": 479
        },
        "outputId": "886c0b81-8195-40bf-872e-da4af37c348d"
      },
      "source": [
        "df=pd.read_excel('cleaned.xlsx')\n",
        "df"
      ],
      "execution_count": 40,
      "outputs": [
        {
          "output_type": "execute_result",
          "data": {
            "text/html": [
              "<div>\n",
              "<style scoped>\n",
              "    .dataframe tbody tr th:only-of-type {\n",
              "        vertical-align: middle;\n",
              "    }\n",
              "\n",
              "    .dataframe tbody tr th {\n",
              "        vertical-align: top;\n",
              "    }\n",
              "\n",
              "    .dataframe thead th {\n",
              "        text-align: right;\n",
              "    }\n",
              "</style>\n",
              "<table border=\"1\" class=\"dataframe\">\n",
              "  <thead>\n",
              "    <tr style=\"text-align: right;\">\n",
              "      <th></th>\n",
              "      <th>Building</th>\n",
              "      <th>Year of sale</th>\n",
              "      <th>Month of sale</th>\n",
              "      <th>Type of property</th>\n",
              "      <th>Area (ft.)</th>\n",
              "      <th>Price</th>\n",
              "      <th>Status</th>\n",
              "      <th>Customer ID</th>\n",
              "      <th>Entity</th>\n",
              "      <th>Name</th>\n",
              "      <th>Surname</th>\n",
              "      <th>Age at time of purchase</th>\n",
              "      <th>Interval</th>\n",
              "      <th>Y</th>\n",
              "      <th>M</th>\n",
              "      <th>D</th>\n",
              "      <th>Gender</th>\n",
              "      <th>Country</th>\n",
              "      <th>State</th>\n",
              "      <th>Purpose</th>\n",
              "      <th>Deal satisfaction</th>\n",
              "      <th>Source</th>\n",
              "    </tr>\n",
              "  </thead>\n",
              "  <tbody>\n",
              "    <tr>\n",
              "      <th>0</th>\n",
              "      <td>1</td>\n",
              "      <td>2005</td>\n",
              "      <td>11</td>\n",
              "      <td>Apartment</td>\n",
              "      <td>743.0856</td>\n",
              "      <td>246172.6760</td>\n",
              "      <td>Sold</td>\n",
              "      <td>C0028</td>\n",
              "      <td>Individual</td>\n",
              "      <td>Madalyn</td>\n",
              "      <td>Mercer</td>\n",
              "      <td>19</td>\n",
              "      <td>18-25</td>\n",
              "      <td>1986</td>\n",
              "      <td>6.0</td>\n",
              "      <td>21.0</td>\n",
              "      <td>F</td>\n",
              "      <td>USA</td>\n",
              "      <td>California</td>\n",
              "      <td>Home</td>\n",
              "      <td>5</td>\n",
              "      <td>Website</td>\n",
              "    </tr>\n",
              "    <tr>\n",
              "      <th>1</th>\n",
              "      <td>1</td>\n",
              "      <td>2005</td>\n",
              "      <td>10</td>\n",
              "      <td>Apartment</td>\n",
              "      <td>756.2128</td>\n",
              "      <td>246331.9040</td>\n",
              "      <td>Sold</td>\n",
              "      <td>C0027</td>\n",
              "      <td>Individual</td>\n",
              "      <td>Lara</td>\n",
              "      <td>Carrillo</td>\n",
              "      <td>22</td>\n",
              "      <td>18-25</td>\n",
              "      <td>1983</td>\n",
              "      <td>2.0</td>\n",
              "      <td>24.0</td>\n",
              "      <td>F</td>\n",
              "      <td>USA</td>\n",
              "      <td>California</td>\n",
              "      <td>Home</td>\n",
              "      <td>5</td>\n",
              "      <td>Website</td>\n",
              "    </tr>\n",
              "    <tr>\n",
              "      <th>2</th>\n",
              "      <td>2</td>\n",
              "      <td>2007</td>\n",
              "      <td>7</td>\n",
              "      <td>Apartment</td>\n",
              "      <td>587.2808</td>\n",
              "      <td>209280.9104</td>\n",
              "      <td>Sold</td>\n",
              "      <td>C0112</td>\n",
              "      <td>Individual</td>\n",
              "      <td>Donavan</td>\n",
              "      <td>Flowers</td>\n",
              "      <td>22</td>\n",
              "      <td>18-25</td>\n",
              "      <td>1985</td>\n",
              "      <td>12.0</td>\n",
              "      <td>27.0</td>\n",
              "      <td>M</td>\n",
              "      <td>USA</td>\n",
              "      <td>California</td>\n",
              "      <td>Home</td>\n",
              "      <td>1</td>\n",
              "      <td>Client</td>\n",
              "    </tr>\n",
              "    <tr>\n",
              "      <th>3</th>\n",
              "      <td>2</td>\n",
              "      <td>2007</td>\n",
              "      <td>12</td>\n",
              "      <td>Apartment</td>\n",
              "      <td>1604.7464</td>\n",
              "      <td>452667.0064</td>\n",
              "      <td>Sold</td>\n",
              "      <td>C0160</td>\n",
              "      <td>Individual</td>\n",
              "      <td>Darien</td>\n",
              "      <td>Dorsey</td>\n",
              "      <td>22</td>\n",
              "      <td>18-25</td>\n",
              "      <td>1985</td>\n",
              "      <td>12.0</td>\n",
              "      <td>27.0</td>\n",
              "      <td>M</td>\n",
              "      <td>USA</td>\n",
              "      <td>California</td>\n",
              "      <td>Investment</td>\n",
              "      <td>3</td>\n",
              "      <td>Website</td>\n",
              "    </tr>\n",
              "    <tr>\n",
              "      <th>4</th>\n",
              "      <td>1</td>\n",
              "      <td>2004</td>\n",
              "      <td>11</td>\n",
              "      <td>Apartment</td>\n",
              "      <td>1375.4508</td>\n",
              "      <td>467083.3132</td>\n",
              "      <td>Sold</td>\n",
              "      <td>C0014</td>\n",
              "      <td>Individual</td>\n",
              "      <td>Alessandra</td>\n",
              "      <td>Perry</td>\n",
              "      <td>25</td>\n",
              "      <td>18-25</td>\n",
              "      <td>1979</td>\n",
              "      <td>5.0</td>\n",
              "      <td>15.0</td>\n",
              "      <td>F</td>\n",
              "      <td>USA</td>\n",
              "      <td>California</td>\n",
              "      <td>Home</td>\n",
              "      <td>4</td>\n",
              "      <td>Agency</td>\n",
              "    </tr>\n",
              "    <tr>\n",
              "      <th>...</th>\n",
              "      <td>...</td>\n",
              "      <td>...</td>\n",
              "      <td>...</td>\n",
              "      <td>...</td>\n",
              "      <td>...</td>\n",
              "      <td>...</td>\n",
              "      <td>...</td>\n",
              "      <td>...</td>\n",
              "      <td>...</td>\n",
              "      <td>...</td>\n",
              "      <td>...</td>\n",
              "      <td>...</td>\n",
              "      <td>...</td>\n",
              "      <td>...</td>\n",
              "      <td>...</td>\n",
              "      <td>...</td>\n",
              "      <td>...</td>\n",
              "      <td>...</td>\n",
              "      <td>...</td>\n",
              "      <td>...</td>\n",
              "      <td>...</td>\n",
              "      <td>...</td>\n",
              "    </tr>\n",
              "    <tr>\n",
              "      <th>173</th>\n",
              "      <td>3</td>\n",
              "      <td>2007</td>\n",
              "      <td>6</td>\n",
              "      <td>Apartment</td>\n",
              "      <td>670.8860</td>\n",
              "      <td>204292.4940</td>\n",
              "      <td>Sold</td>\n",
              "      <td>C0103</td>\n",
              "      <td>Individual</td>\n",
              "      <td>Jamal</td>\n",
              "      <td>Mueller</td>\n",
              "      <td>71</td>\n",
              "      <td>65+</td>\n",
              "      <td>1936</td>\n",
              "      <td>8.0</td>\n",
              "      <td>13.0</td>\n",
              "      <td>M</td>\n",
              "      <td>USA</td>\n",
              "      <td>Oregon</td>\n",
              "      <td>Investment</td>\n",
              "      <td>2</td>\n",
              "      <td>Website</td>\n",
              "    </tr>\n",
              "    <tr>\n",
              "      <th>174</th>\n",
              "      <td>1</td>\n",
              "      <td>2005</td>\n",
              "      <td>4</td>\n",
              "      <td>Apartment</td>\n",
              "      <td>782.2520</td>\n",
              "      <td>261579.8920</td>\n",
              "      <td>Sold</td>\n",
              "      <td>C0021</td>\n",
              "      <td>Individual</td>\n",
              "      <td>Kaylin</td>\n",
              "      <td>Villarreal</td>\n",
              "      <td>73</td>\n",
              "      <td>65+</td>\n",
              "      <td>1932</td>\n",
              "      <td>6.0</td>\n",
              "      <td>13.0</td>\n",
              "      <td>F</td>\n",
              "      <td>Russia</td>\n",
              "      <td>NaN</td>\n",
              "      <td>Investment</td>\n",
              "      <td>3</td>\n",
              "      <td>Website</td>\n",
              "    </tr>\n",
              "    <tr>\n",
              "      <th>175</th>\n",
              "      <td>3</td>\n",
              "      <td>2006</td>\n",
              "      <td>5</td>\n",
              "      <td>Apartment</td>\n",
              "      <td>743.4084</td>\n",
              "      <td>222867.4208</td>\n",
              "      <td>Sold</td>\n",
              "      <td>C0148</td>\n",
              "      <td>Individual</td>\n",
              "      <td>Myah</td>\n",
              "      <td>Roman</td>\n",
              "      <td>73</td>\n",
              "      <td>65+</td>\n",
              "      <td>1933</td>\n",
              "      <td>5.0</td>\n",
              "      <td>5.0</td>\n",
              "      <td>F</td>\n",
              "      <td>USA</td>\n",
              "      <td>California</td>\n",
              "      <td>Investment</td>\n",
              "      <td>5</td>\n",
              "      <td>Agency</td>\n",
              "    </tr>\n",
              "    <tr>\n",
              "      <th>176</th>\n",
              "      <td>3</td>\n",
              "      <td>2006</td>\n",
              "      <td>3</td>\n",
              "      <td>Apartment</td>\n",
              "      <td>923.2080</td>\n",
              "      <td>291494.3600</td>\n",
              "      <td>Sold</td>\n",
              "      <td>C0172</td>\n",
              "      <td>Individual</td>\n",
              "      <td>Henry</td>\n",
              "      <td>Kennedy</td>\n",
              "      <td>73</td>\n",
              "      <td>65+</td>\n",
              "      <td>1933</td>\n",
              "      <td>6.0</td>\n",
              "      <td>8.0</td>\n",
              "      <td>M</td>\n",
              "      <td>USA</td>\n",
              "      <td>California</td>\n",
              "      <td>Home</td>\n",
              "      <td>4</td>\n",
              "      <td>Agency</td>\n",
              "    </tr>\n",
              "    <tr>\n",
              "      <th>177</th>\n",
              "      <td>3</td>\n",
              "      <td>2007</td>\n",
              "      <td>6</td>\n",
              "      <td>Apartment</td>\n",
              "      <td>923.2080</td>\n",
              "      <td>296483.1440</td>\n",
              "      <td>Sold</td>\n",
              "      <td>C0104</td>\n",
              "      <td>Individual</td>\n",
              "      <td>Diana</td>\n",
              "      <td>Hunt</td>\n",
              "      <td>76</td>\n",
              "      <td>65+</td>\n",
              "      <td>1931</td>\n",
              "      <td>2.0</td>\n",
              "      <td>13.0</td>\n",
              "      <td>F</td>\n",
              "      <td>USA</td>\n",
              "      <td>Arizona</td>\n",
              "      <td>Home</td>\n",
              "      <td>3</td>\n",
              "      <td>Website</td>\n",
              "    </tr>\n",
              "  </tbody>\n",
              "</table>\n",
              "<p>178 rows × 22 columns</p>\n",
              "</div>"
            ],
            "text/plain": [
              "     Building  Year of sale  ...  Deal satisfaction   Source\n",
              "0           1          2005  ...                  5  Website\n",
              "1           1          2005  ...                  5  Website\n",
              "2           2          2007  ...                  1   Client\n",
              "3           2          2007  ...                  3  Website\n",
              "4           1          2004  ...                  4   Agency\n",
              "..        ...           ...  ...                ...      ...\n",
              "173         3          2007  ...                  2  Website\n",
              "174         1          2005  ...                  3  Website\n",
              "175         3          2006  ...                  5   Agency\n",
              "176         3          2006  ...                  4   Agency\n",
              "177         3          2007  ...                  3  Website\n",
              "\n",
              "[178 rows x 22 columns]"
            ]
          },
          "metadata": {
            "tags": []
          },
          "execution_count": 40
        }
      ]
    },
    {
      "cell_type": "code",
      "metadata": {
        "colab": {
          "base_uri": "https://localhost:8080/"
        },
        "id": "M0PF4dVIhqAn",
        "outputId": "f5d80ca6-c383-48e8-902e-03850c7c9496"
      },
      "source": [
        "#1\n",
        "numerically_gender=df['Gender'].value_counts()\n",
        "numerically_gender\n"
      ],
      "execution_count": 31,
      "outputs": [
        {
          "output_type": "execute_result",
          "data": {
            "text/plain": [
              "M    108\n",
              "F     70\n",
              "Name: Gender, dtype: int64"
            ]
          },
          "metadata": {
            "tags": []
          },
          "execution_count": 31
        }
      ]
    },
    {
      "cell_type": "code",
      "metadata": {
        "colab": {
          "base_uri": "https://localhost:8080/",
          "height": 266
        },
        "id": "fzFb3tUHidHF",
        "outputId": "e59d4629-53a2-440a-ffe2-441b65f83858"
      },
      "source": [
        "visual_gender=df['Gender'].value_counts()\n",
        "visual_gender.plot.pie()"
      ],
      "execution_count": 32,
      "outputs": [
        {
          "output_type": "execute_result",
          "data": {
            "text/plain": [
              "<matplotlib.axes._subplots.AxesSubplot at 0x7f37f18b5450>"
            ]
          },
          "metadata": {
            "tags": []
          },
          "execution_count": 32
        },
        {
          "output_type": "display_data",
          "data": {
            "image/png": "[encoded data removed]",
            "text/plain": [
              "<Figure size 432x288 with 1 Axes>"
            ]
          },
          "metadata": {
            "tags": []
          }
        }
      ]
    },
    {
      "cell_type": "code",
      "metadata": {
        "colab": {
          "base_uri": "https://localhost:8080/"
        },
        "id": "8hGa1_zxiJJI",
        "outputId": "c4a40048-fbb5-468e-c206-d30cf3c8dd7d"
      },
      "source": [
        "#2\n",
        "numerically_Age=df['Age at time of purchase'].value_counts()\n",
        "numerically_Age"
      ],
      "execution_count": 34,
      "outputs": [
        {
          "output_type": "execute_result",
          "data": {
            "text/plain": [
              "48    11\n",
              "41     8\n",
              "60     7\n",
              "55     6\n",
              "33     6\n",
              "37     6\n",
              "40     6\n",
              "44     6\n",
              "45     5\n",
              "29     5\n",
              "34     5\n",
              "39     5\n",
              "42     5\n",
              "43     5\n",
              "49     5\n",
              "56     5\n",
              "54     4\n",
              "57     4\n",
              "31     4\n",
              "69     4\n",
              "38     4\n",
              "66     4\n",
              "65     4\n",
              "26     4\n",
              "51     4\n",
              "47     4\n",
              "67     3\n",
              "30     3\n",
              "32     3\n",
              "22     3\n",
              "35     3\n",
              "73     3\n",
              "50     3\n",
              "59     3\n",
              "27     2\n",
              "53     2\n",
              "61     2\n",
              "52     2\n",
              "71     2\n",
              "36     2\n",
              "25     1\n",
              "76     1\n",
              "28     1\n",
              "64     1\n",
              "68     1\n",
              "19     1\n",
              "Name: Age at time of purchase, dtype: int64"
            ]
          },
          "metadata": {
            "tags": []
          },
          "execution_count": 34
        }
      ]
    },
    {
      "cell_type": "code",
      "metadata": {
        "colab": {
          "base_uri": "https://localhost:8080/",
          "height": 286
        },
        "id": "e69WiCVJi2w8",
        "outputId": "b1d89cad-7226-4eed-c568-410ffe6e6992"
      },
      "source": [
        "numerically_Age=df['Age at time of purchase'].value_counts()\n",
        "numerically_Age.plot.bar()"
      ],
      "execution_count": 35,
      "outputs": [
        {
          "output_type": "execute_result",
          "data": {
            "text/plain": [
              "<matplotlib.axes._subplots.AxesSubplot at 0x7f37efcb0390>"
            ]
          },
          "metadata": {
            "tags": []
          },
          "execution_count": 35
        },
        {
          "output_type": "display_data",
          "data": {
            "image/png": "[encoded data removed]",
            "text/plain": [
              "<Figure size 432x288 with 1 Axes>"
            ]
          },
          "metadata": {
            "tags": [],
            "needs_background": "light"
          }
        }
      ]
    },
    {
      "cell_type": "code",
      "metadata": {
        "colab": {
          "base_uri": "https://localhost:8080/"
        },
        "id": "IQ8uqpGLjK5S",
        "outputId": "eaa5c079-5abb-4111-d784-de4098e9ba32"
      },
      "source": [
        "numerically_Age=df['Interval'].value_counts()\n",
        "numerically_Age"
      ],
      "execution_count": 36,
      "outputs": [
        {
          "output_type": "execute_result",
          "data": {
            "text/plain": [
              "36-45    52\n",
              "46-55    41\n",
              "26-35    36\n",
              "56-65    26\n",
              "65+      18\n",
              "18-25     5\n",
              "Name: Interval, dtype: int64"
            ]
          },
          "metadata": {
            "tags": []
          },
          "execution_count": 36
        }
      ]
    },
    {
      "cell_type": "code",
      "metadata": {
        "colab": {
          "base_uri": "https://localhost:8080/",
          "height": 302
        },
        "id": "PteO4tpSjdRI",
        "outputId": "207f846b-e05c-46e8-fd03-8f4c4fc70d91"
      },
      "source": [
        "numerically_Age=df['Interval'].value_counts()\n",
        "numerically_Age.plot.bar()"
      ],
      "execution_count": 37,
      "outputs": [
        {
          "output_type": "execute_result",
          "data": {
            "text/plain": [
              "<matplotlib.axes._subplots.AxesSubplot at 0x7f37efa24750>"
            ]
          },
          "metadata": {
            "tags": []
          },
          "execution_count": 37
        },
        {
          "output_type": "display_data",
          "data": {
            "image/png": "[encoded data removed]",
            "text/plain": [
              "<Figure size 432x288 with 1 Axes>"
            ]
          },
          "metadata": {
            "tags": [],
            "needs_background": "light"
          }
        }
      ]
    },
    {
      "cell_type": "code",
      "metadata": {
        "id": "Z8Ex5qrUIyAt",
        "colab": {
          "base_uri": "https://localhost:8080/"
        },
        "outputId": "b61dd1a7-c673-4241-b33c-d5a57691642d"
      },
      "source": [
        "states=df['State'].value_counts()\n",
        "states\n"
      ],
      "execution_count": 13,
      "outputs": [
        {
          "output_type": "execute_result",
          "data": {
            "text/plain": [
              "California    106\n",
              "Nevada         13\n",
              "Arizona        11\n",
              "Colorado       11\n",
              "Oregon         11\n",
              "Utah            6\n",
              "Virginia        4\n",
              "Wyoming         1\n",
              "Kansas          1\n",
              "Name: State, dtype: int64"
            ]
          },
          "metadata": {
            "tags": []
          },
          "execution_count": 13
        }
      ]
    },
    {
      "cell_type": "code",
      "metadata": {
        "colab": {
          "base_uri": "https://localhost:8080/",
          "height": 321
        },
        "id": "11AtLPy3o0sL",
        "outputId": "ef68afb3-4651-49f1-a99c-2c433d27591e"
      },
      "source": [
        "states.plot.bar()"
      ],
      "execution_count": 12,
      "outputs": [
        {
          "output_type": "execute_result",
          "data": {
            "text/plain": [
              "<matplotlib.axes._subplots.AxesSubplot at 0x7f37f18cd810>"
            ]
          },
          "metadata": {
            "tags": []
          },
          "execution_count": 12
        },
        {
          "output_type": "display_data",
          "data": {
            "image/png": "[encoded data removed]",
            "text/plain": [
              "<Figure size 432x288 with 1 Axes>"
            ]
          },
          "metadata": {
            "tags": [],
            "needs_background": "light"
          }
        }
      ]
    },
    {
      "cell_type": "code",
      "metadata": {
        "colab": {
          "base_uri": "https://localhost:8080/",
          "height": 296
        },
        "id": "MNlr7g9Fo8rm",
        "outputId": "8c013748-8e64-4bfc-b675-88b308130b9e"
      },
      "source": [
        "relation=pd.crosstab(df['Gender'],df['Deal satisfaction'],rownames=['Gender'],colnames=['Satisfaction'])\n",
        "relation\n",
        "relation.plot(kind='bar')"
      ],
      "execution_count": 41,
      "outputs": [
        {
          "output_type": "execute_result",
          "data": {
            "text/plain": [
              "<matplotlib.axes._subplots.AxesSubplot at 0x7f37ef5f7110>"
            ]
          },
          "metadata": {
            "tags": []
          },
          "execution_count": 41
        },
        {
          "output_type": "display_data",
          "data": {
            "image/png": "[encoded data removed]",
            "text/plain": [
              "<Figure size 432x288 with 1 Axes>"
            ]
          },
          "metadata": {
            "tags": [],
            "needs_background": "light"
          }
        }
      ]
    },
    {
      "cell_type": "code",
      "metadata": {
        "colab": {
          "base_uri": "https://localhost:8080/"
        },
        "id": "tp-rwnuM38Fq",
        "outputId": "296e999a-b9a6-49d9-92b6-90fd3ea43fd0"
      },
      "source": [
        "df.count()"
      ],
      "execution_count": 103,
      "outputs": [
        {
          "output_type": "execute_result",
          "data": {
            "text/plain": [
              "Building                   178\n",
              "Year of sale               178\n",
              "Month of sale              178\n",
              "Type of property           178\n",
              "Area (ft.)                 178\n",
              "Price                      178\n",
              "Status                     178\n",
              "Customer ID                178\n",
              "Entity                     178\n",
              "Name                       178\n",
              "Surname                    178\n",
              "Age at time of purchase    178\n",
              "Interval                   178\n",
              "Y                          178\n",
              "M                          178\n",
              "D                          178\n",
              "Gender                     178\n",
              "Country                    178\n",
              "State                      164\n",
              "Purpose                    178\n",
              "Deal satisfaction          178\n",
              "Source                     178\n",
              "Counts                       0\n",
              "dtype: int64"
            ]
          },
          "metadata": {
            "tags": []
          },
          "execution_count": 103
        }
      ]
    },
    {
      "cell_type": "code",
      "metadata": {
        "colab": {
          "base_uri": "https://localhost:8080/",
          "height": 238
        },
        "id": "6Wb-P5FQswbp",
        "outputId": "c13d164e-1da4-4c01-e901-16facaab3545"
      },
      "source": [
        "\n",
        "from matplotlib.ticker import PercentFormatter\n",
        "\n",
        "df2=pd.DataFrame()\n",
        "\n",
        "df2['frequency']= df.Interval.value_counts()\n",
        "df2[\"cumulative_frequency\"] = df2[\"frequency\"].cumsum()/df2[\"frequency\"].sum()*100\n",
        "\n",
        "df2"
      ],
      "execution_count": 115,
      "outputs": [
        {
          "output_type": "execute_result",
          "data": {
            "text/html": [
              "<div>\n",
              "<style scoped>\n",
              "    .dataframe tbody tr th:only-of-type {\n",
              "        vertical-align: middle;\n",
              "    }\n",
              "\n",
              "    .dataframe tbody tr th {\n",
              "        vertical-align: top;\n",
              "    }\n",
              "\n",
              "    .dataframe thead th {\n",
              "        text-align: right;\n",
              "    }\n",
              "</style>\n",
              "<table border=\"1\" class=\"dataframe\">\n",
              "  <thead>\n",
              "    <tr style=\"text-align: right;\">\n",
              "      <th></th>\n",
              "      <th>frequency</th>\n",
              "      <th>cumulative_frequency</th>\n",
              "    </tr>\n",
              "  </thead>\n",
              "  <tbody>\n",
              "    <tr>\n",
              "      <th>36-45</th>\n",
              "      <td>52</td>\n",
              "      <td>29.213483</td>\n",
              "    </tr>\n",
              "    <tr>\n",
              "      <th>46-55</th>\n",
              "      <td>41</td>\n",
              "      <td>52.247191</td>\n",
              "    </tr>\n",
              "    <tr>\n",
              "      <th>26-35</th>\n",
              "      <td>36</td>\n",
              "      <td>72.471910</td>\n",
              "    </tr>\n",
              "    <tr>\n",
              "      <th>56-65</th>\n",
              "      <td>26</td>\n",
              "      <td>87.078652</td>\n",
              "    </tr>\n",
              "    <tr>\n",
              "      <th>65+</th>\n",
              "      <td>18</td>\n",
              "      <td>97.191011</td>\n",
              "    </tr>\n",
              "    <tr>\n",
              "      <th>18-25</th>\n",
              "      <td>5</td>\n",
              "      <td>100.000000</td>\n",
              "    </tr>\n",
              "  </tbody>\n",
              "</table>\n",
              "</div>"
            ],
            "text/plain": [
              "       frequency  cumulative_frequency\n",
              "36-45         52             29.213483\n",
              "46-55         41             52.247191\n",
              "26-35         36             72.471910\n",
              "56-65         26             87.078652\n",
              "65+           18             97.191011\n",
              "18-25          5            100.000000"
            ]
          },
          "metadata": {
            "tags": []
          },
          "execution_count": 115
        }
      ]
    },
    {
      "cell_type": "code",
      "metadata": {
        "colab": {
          "base_uri": "https://localhost:8080/",
          "height": 265
        },
        "id": "zRDPcpkGsvYL",
        "outputId": "e6bf8358-a3a6-48fa-e349-0abc296a3d58"
      },
      "source": [
        "fig, ax = plt.subplots()\n",
        "ax.bar(df2.index, df2[\"frequency\"], color=\"C0\")\n",
        "ax2 = ax.twinx()\n",
        "ax2.plot(df2.index, df2[\"cumulative_frequency\"], color=\"C1\", marker=\"D\", ms=7)\n",
        "ax2.yaxis.set_major_formatter(PercentFormatter())\n",
        "\n",
        "ax.tick_params(axis=\"y\", colors=\"C0\")\n",
        "ax2.tick_params(axis=\"y\", colors=\"C1\")\n",
        "plt.show()\n",
        "\n"
      ],
      "execution_count": 116,
      "outputs": [
        {
          "output_type": "display_data",
          "data": {
            "image/png": "[encoded data removed]",
            "text/plain": [
              "<Figure size 432x288 with 2 Axes>"
            ]
          },
          "metadata": {
            "tags": []
          }
        }
      ]
    },
    {
      "cell_type": "markdown",
      "metadata": {
        "id": "kgH8bYlesvMy"
      },
      "source": [
        ""
      ]
    }
  ]
}