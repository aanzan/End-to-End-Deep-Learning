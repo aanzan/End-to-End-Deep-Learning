{
  "nbformat": 4,
  "nbformat_minor": 0,
  "metadata": {
    "kernelspec": {
      "display_name": "Python 3",
      "language": "python",
      "name": "python3"
    },
    "language_info": {
      "codemirror_mode": {
        "name": "ipython",
        "version": 3
      },
      "file_extension": ".py",
      "mimetype": "text/x-python",
      "name": "python",
      "nbconvert_exporter": "python",
      "pygments_lexer": "ipython3",
      "version": "3.6.2"
    },
    "colab": {
      "name": "Copy of 7_Interactive_Object_Oriented_Programming.ipynb",
      "provenance": [],
      "collapsed_sections": []
    }
  },
  "cells": [
    {
      "cell_type": "markdown",
      "metadata": {
        "collapsed": true,
        "id": "maQz771-FHKO"
      },
      "source": [
        "# Object Oriented Programming\n",
        "\n",
        "Lets start the lesson by remembering about the Basic Python Objects. For example:"
      ]
    },
    {
      "cell_type": "code",
      "metadata": {
        "id": "z8f1DOaKFHKR"
      },
      "source": [
        "lst = [1,3,3]"
      ],
      "execution_count": null,
      "outputs": []
    },
    {
      "cell_type": "markdown",
      "metadata": {
        "id": "Dusfh8qoFHKV"
      },
      "source": [
        "Remember how we could call methods on a list?"
      ]
    },
    {
      "cell_type": "code",
      "metadata": {
        "id": "gx2vBOG3FHKW",
        "colab": {
          "base_uri": "https://localhost:8080/"
        },
        "outputId": "7dec1b96-7f44-4306-903a-e785736cff30"
      },
      "source": [
        "lst.count(3)"
      ],
      "execution_count": null,
      "outputs": [
        {
          "output_type": "execute_result",
          "data": {
            "text/plain": [
              "2"
            ]
          },
          "metadata": {
            "tags": []
          },
          "execution_count": 6
        }
      ]
    },
    {
      "cell_type": "markdown",
      "metadata": {
        "id": "L_Go-knbFHKf"
      },
      "source": [
        "What we will basically be doing in this lecture is exploring how we could create an Object type like a list. We've already learned about how to create functions. So let's explore Objects in general:\n",
        "\n",
        "## Objects\n",
        "In Python, *everything is an object*. Remember from previous lectures we can use type() to check the type of object something is:"
      ]
    },
    {
      "cell_type": "code",
      "metadata": {
        "id": "ZDZ3BTL75uUs"
      },
      "source": [
        "x=5\n",
        "y='hello'\n",
        "z='5'\n",
        "\n",
        "def hello():\n",
        "  print('Hello')\n",
        "#i=y+z\n",
        "#j=y+x"
      ],
      "execution_count": null,
      "outputs": []
    },
    {
      "cell_type": "code",
      "metadata": {
        "id": "7P3m0_9SxeHf"
      },
      "source": [
        ""
      ],
      "execution_count": null,
      "outputs": []
    },
    {
      "cell_type": "code",
      "metadata": {
        "id": "hExkehd857fu",
        "colab": {
          "base_uri": "https://localhost:8080/"
        },
        "outputId": "8c0a8f78-2efb-4e28-af17-bcaf43dbab89"
      },
      "source": [
        "print(type(i))"
      ],
      "execution_count": null,
      "outputs": [
        {
          "output_type": "stream",
          "text": [
            "<class 'str'>\n"
          ],
          "name": "stdout"
        }
      ]
    },
    {
      "cell_type": "code",
      "metadata": {
        "id": "LZcXMukiFHKf",
        "colab": {
          "base_uri": "https://localhost:8080/"
        },
        "outputId": "cfc365df-901c-4710-e80e-0d83cb428889"
      },
      "source": [
        "print(type(1))\n",
        "print(type([]))\n",
        "print(type(()))\n",
        "print(type({}))"
      ],
      "execution_count": null,
      "outputs": [
        {
          "output_type": "stream",
          "text": [
            "<class 'int'>\n",
            "<class 'list'>\n",
            "<class 'tuple'>\n",
            "<class 'dict'>\n"
          ],
          "name": "stdout"
        }
      ]
    },
    {
      "cell_type": "code",
      "metadata": {
        "id": "5r2-SYpTx1O1"
      },
      "source": [
        "def hello():\n",
        "  print ('HELLO')"
      ],
      "execution_count": null,
      "outputs": []
    },
    {
      "cell_type": "code",
      "metadata": {
        "colab": {
          "base_uri": "https://localhost:8080/"
        },
        "id": "1JcprUvOx7WI",
        "outputId": "5ce3624c-31c4-4e31-a807-113e3b25006d"
      },
      "source": [
        "print(type(hello))"
      ],
      "execution_count": null,
      "outputs": [
        {
          "output_type": "stream",
          "text": [
            "<class 'function'>\n"
          ],
          "name": "stdout"
        }
      ]
    },
    {
      "cell_type": "markdown",
      "metadata": {
        "id": "Kd4AGMB1FHKi"
      },
      "source": [
        "So we know all these things are objects, so how can we create our **own** Object types? That is where the <code>class</code> keyword comes in.\n",
        "## Class  (Your Own Object)\n",
        "User defined objects are created using the <code>class</code> keyword. The class is a blueprint that defines the nature of a future object. From classes we can construct instances. An instance is a specific object created from a particular class. For example, above we created the object <code>lst</code> which was an instance of a list object. \n",
        "\n",
        "Let see how we can use <code>class</code>:"
      ]
    },
    {
      "cell_type": "code",
      "metadata": {
        "colab": {
          "base_uri": "https://localhost:8080/"
        },
        "id": "GSXhVGNWx0qi",
        "outputId": "f5ffa5c3-d807-4279-c8b0-d110b79f3311"
      },
      "source": [
        "lst=[]"
      ],
      "execution_count": null,
      "outputs": [
        {
          "output_type": "execute_result",
          "data": {
            "text/plain": [
              "[]"
            ]
          },
          "metadata": {
            "tags": []
          },
          "execution_count": 17
        }
      ]
    },
    {
      "cell_type": "code",
      "metadata": {
        "id": "qlG-NnsSFHKj",
        "colab": {
          "base_uri": "https://localhost:8080/"
        },
        "outputId": "440248bb-4c1e-4fd0-c6cb-7c251f285242"
      },
      "source": [
        "# Create a new object type called Sample\n",
        "class Sample:\n",
        "    pass\n",
        "\n",
        "# Instance of Sample\n",
        "x = Sample()\n",
        "\n",
        "print(type(x))"
      ],
      "execution_count": null,
      "outputs": [
        {
          "output_type": "stream",
          "text": [
            "<class '__main__.Sample'>\n"
          ],
          "name": "stdout"
        }
      ]
    },
    {
      "cell_type": "markdown",
      "metadata": {
        "id": "z02LDmXQHSx2"
      },
      "source": [
        "By convention we give classes a name that **starts with a capital letter.** Note how <code>x</code> is now the reference to our new instance of a Sample class. In other words, we **instantiate** the Sample class.\n",
        "\n",
        "Inside of the class we currently just have pass. But we can define class attributes and methods.\n",
        "\n",
        "\n",
        "A **method** is an operation we can perform with the object.\n",
        "An **attribute** is a characteristic of an object."
      ]
    },
    {
      "cell_type": "markdown",
      "metadata": {
        "id": "_Ll8JpC-HcKX"
      },
      "source": [
        "#Mehods\n"
      ]
    },
    {
      "cell_type": "markdown",
      "metadata": {
        "id": "boCEsUekHrCb"
      },
      "source": [
        "For example, we can create a class called Greeting and a method called Hello."
      ]
    },
    {
      "cell_type": "code",
      "metadata": {
        "colab": {
          "base_uri": "https://localhost:8080/",
          "height": 35
        },
        "id": "A8CrWN4XyfBB",
        "outputId": "5a409183-3287-43a9-cbbd-e8f7c0745297"
      },
      "source": [
        "st='fgdgd'\n",
        "st.upper()"
      ],
      "execution_count": null,
      "outputs": [
        {
          "output_type": "execute_result",
          "data": {
            "application/vnd.google.colaboratory.intrinsic+json": {
              "type": "string"
            },
            "text/plain": [
              "'FGDGD'"
            ]
          },
          "metadata": {
            "tags": []
          },
          "execution_count": 19
        }
      ]
    },
    {
      "cell_type": "code",
      "metadata": {
        "id": "6nDafRl7Hbah",
        "colab": {
          "base_uri": "https://localhost:8080/"
        },
        "outputId": "87ca51c5-c913-4fd2-cbee-08bd5d54a41b"
      },
      "source": [
        "class Greeting:\n",
        "  def hello(self):    #try to remove self\n",
        "    print ('HELLO')\n",
        " \n",
        " ################## \n",
        "\n",
        "a=Greeting()\n",
        "a.hello()"
      ],
      "execution_count": null,
      "outputs": [
        {
          "output_type": "stream",
          "text": [
            "HELLO\n"
          ],
          "name": "stdout"
        }
      ]
    },
    {
      "cell_type": "code",
      "metadata": {
        "id": "z1gPHYlzKuFb"
      },
      "source": [
        "#"
      ],
      "execution_count": null,
      "outputs": []
    },
    {
      "cell_type": "markdown",
      "metadata": {
        "id": "qeSMawZ1N5Ff"
      },
      "source": [
        "Methods can have an argument"
      ]
    },
    {
      "cell_type": "code",
      "metadata": {
        "id": "zVuICGIrN-H7",
        "colab": {
          "base_uri": "https://localhost:8080/"
        },
        "outputId": "a544b34f-67e0-44b6-eb62-878ab27800e6"
      },
      "source": [
        "class AddOne:\n",
        "\n",
        "  def add(self,x):    #x is an argument\n",
        "    return x+1\n",
        "  def pi(self,x):\n",
        "    return x*3\n",
        "   \n",
        " ################## \n",
        "\n",
        "a=AddOne()\n",
        "a.add(5)"
      ],
      "execution_count": null,
      "outputs": [
        {
          "output_type": "execute_result",
          "data": {
            "text/plain": [
              "6"
            ]
          },
          "metadata": {
            "tags": []
          },
          "execution_count": 27
        }
      ]
    },
    {
      "cell_type": "code",
      "metadata": {
        "id": "5Jrc4SHXWkmQ",
        "colab": {
          "base_uri": "https://localhost:8080/"
        },
        "outputId": "1a3e3811-0288-446d-882f-37ef1a388983"
      },
      "source": [
        "#### Adding another method to the same x\n",
        "a.pi(2)"
      ],
      "execution_count": null,
      "outputs": [
        {
          "output_type": "execute_result",
          "data": {
            "text/plain": [
              "6"
            ]
          },
          "metadata": {
            "tags": []
          },
          "execution_count": 28
        }
      ]
    },
    {
      "cell_type": "markdown",
      "metadata": {
        "id": "xQp1qX4APdie"
      },
      "source": [
        "## The **__** **init** **__** method  and **Attributes**"
      ]
    },
    {
      "cell_type": "markdown",
      "metadata": {
        "id": "GJRJxbgHVuXz"
      },
      "source": [
        ""
      ]
    },
    {
      "cell_type": "code",
      "metadata": {
        "colab": {
          "base_uri": "https://localhost:8080/"
        },
        "id": "83L4rjkcPcsH",
        "outputId": "427b7f7a-a359-4e58-9d14-95bd3bb01181"
      },
      "source": [
        "#We want to pass an argument the greeting class itself (attribute)\n",
        "\n",
        "\n",
        "class Greeting:\n",
        "  def __init__(self,name):\n",
        "    self.name =  name      #want to store the name\n",
        "                            ### name is the attribute of class Greeting    \n",
        "                                \n",
        "\n",
        "\n",
        "  def hello(self):    \n",
        "    print ('HELLO  ya', name)  # solve the error\n",
        " \n",
        " ################## \n",
        "\n",
        "a=Greeting()      #solve the error\n",
        "a.hello('Lara')\n",
        "\n",
        "\n",
        "\n"
      ],
      "execution_count": null,
      "outputs": [
        {
          "output_type": "stream",
          "text": [
            "HELLO  ya Lara\n"
          ],
          "name": "stdout"
        }
      ]
    },
    {
      "cell_type": "code",
      "metadata": {
        "id": "7bdv647Sb7vb"
      },
      "source": [
        "##### using Name \n",
        "pass"
      ],
      "execution_count": null,
      "outputs": []
    },
    {
      "cell_type": "code",
      "metadata": {
        "id": "rPdi0RDaY3vi",
        "colab": {
          "base_uri": "https://localhost:8080/"
        },
        "outputId": "1c29eaed-4885-4706-dc63-9063862880b1"
      },
      "source": [
        "a2=Greeting('Mary')\n",
        "a2.hello()\n"
      ],
      "execution_count": null,
      "outputs": [
        {
          "output_type": "stream",
          "text": [
            "HELLO  ya Mary\n"
          ],
          "name": "stdout"
        }
      ]
    },
    {
      "cell_type": "markdown",
      "metadata": {
        "id": "a13Hr91paAVI"
      },
      "source": [
        "## we can reference the attributes later on"
      ]
    },
    {
      "cell_type": "code",
      "metadata": {
        "id": "VjL6w-sDZ2pD",
        "colab": {
          "base_uri": "https://localhost:8080/"
        },
        "outputId": "600900c1-1689-4745-eb8d-1d9ceacfff2b"
      },
      "source": [
        "print(a2.name()) ### solve the error and return the name of a2\n",
        "\n",
        "pass"
      ],
      "execution_count": null,
      "outputs": [
        {
          "output_type": "stream",
          "text": [
            "Mary\n"
          ],
          "name": "stdout"
        }
      ]
    },
    {
      "cell_type": "markdown",
      "metadata": {
        "id": "ZnojZWSTFHK2"
      },
      "source": [
        "Note how we don't have any parentheses after breed; this is because it is an attribute and doesn't take any arguments.\n",
        "\n"
      ]
    },
    {
      "cell_type": "markdown",
      "metadata": {
        "id": "mTlfrznBa8j7"
      },
      "source": [
        "## class object attributes"
      ]
    },
    {
      "cell_type": "markdown",
      "metadata": {
        "id": "sh7bMAzZa8nd"
      },
      "source": [
        "In Python there are also *class object attributes*. These Class Object Attributes are the same for any instance of the class. For example, we could create the attribute **Type** for the Greeting class. Type, regardless of their Name, name, or other attributes, will always be **Human**. We apply this logic in the following manner:"
      ]
    },
    {
      "cell_type": "code",
      "metadata": {
        "id": "_jGYS9YpFHK3"
      },
      "source": [
        "class Greeting:\n",
        "  Type='Human'\n",
        "\n",
        "  def __init__(self,name):\n",
        "    self.name =  name      #want to store the name\n",
        "                            ### name is the attribute of class Greeting    \n",
        "                                \n",
        "\n",
        "\n",
        "  def hello(self):    \n",
        "    print ('HELLO  ya', self.name)\n",
        "      \n",
        " \n",
        " ################## "
      ],
      "execution_count": null,
      "outputs": []
    },
    {
      "cell_type": "code",
      "metadata": {
        "id": "Y_YelEC0FHK5",
        "colab": {
          "base_uri": "https://localhost:8080/"
        },
        "outputId": "49fd6b55-0102-48ec-e014-1335da4de704"
      },
      "source": [
        "b=Greeting(\"Hoda\")\n",
        "print(b.name)\n",
        "print(b.Type)\n"
      ],
      "execution_count": null,
      "outputs": [
        {
          "output_type": "stream",
          "text": [
            "Hoda\n",
            "Human\n"
          ],
          "name": "stdout"
        }
      ]
    },
    {
      "cell_type": "code",
      "metadata": {
        "id": "DA5Bzzrb2WQB"
      },
      "source": [
        ""
      ],
      "execution_count": null,
      "outputs": []
    },
    {
      "cell_type": "markdown",
      "metadata": {
        "id": "OBR9nzpyFHLB"
      },
      "source": [
        "**Note that the Class Object Attribute is defined outside of any methods in the class. Also by convention, we place them first before the init.**"
      ]
    },
    {
      "cell_type": "markdown",
      "metadata": {
        "id": "3iHQ2AQoFHLE"
      },
      "source": [
        "## resetting the attribute:\n"
      ]
    },
    {
      "cell_type": "code",
      "metadata": {
        "id": "GCBC-ZUMFHLG",
        "colab": {
          "base_uri": "https://localhost:8080/"
        },
        "outputId": "f8c90cca-f6e2-43ad-e7f6-e490f7928b91"
      },
      "source": [
        "class Circle:\n",
        "    pi = 3.14\n",
        "\n",
        "    # Circle gets instantiated with a radius (default is 1)\n",
        "    def __init__(self, radius=1):\n",
        "        self.radius = radius \n",
        "        self.area = radius * radius * self.pi\n",
        "\n",
        "    # Method for resetting Radius         #resetting the attribute\n",
        "    def setRadius(self, new_radius):\n",
        "        self.radius = new_radius\n",
        "        self.area = new_radius * new_radius * pi\n",
        "\n",
        "    # Method for getting Circumference\n",
        "    def getCircumference(self, new):\n",
        "      \n",
        "        return self.radius * self.pi * 2\n",
        "\n",
        "\n",
        "c = Circle()\n",
        "\n",
        "print('Radius is: ',c.radius)\n",
        "print('Area is: ',c.area)\n",
        "print('Circumference is: ',c.getCircumference(b))"
      ],
      "execution_count": null,
      "outputs": [
        {
          "output_type": "stream",
          "text": [
            "Radius is:  1\n",
            "Area is:  3.14\n",
            "Circumference is:  6.28\n"
          ],
          "name": "stdout"
        }
      ]
    },
    {
      "cell_type": "code",
      "metadata": {
        "id": "rUZwceUjnm43"
      },
      "source": [
        "# We have Circle A    radius  8  ,  Area ? , Circumference ?\n",
        "A= Circle ( pass )"
      ],
      "execution_count": null,
      "outputs": []
    },
    {
      "cell_type": "code",
      "metadata": {
        "id": "JYBnun7yBahC",
        "colab": {
          "base_uri": "https://localhost:8080/"
        },
        "outputId": "cb717a69-785e-4a0f-dcf5-9c034caa900d"
      },
      "source": [
        "print('Radius is: ',A.radius)\n",
        "print('Area is: ',A.area)\n",
        "print('Circumference is: ',A.getCircumference())"
      ],
      "execution_count": null,
      "outputs": [
        {
          "output_type": "stream",
          "text": [
            "Radius is:  8\n",
            "Area is:  200.96\n",
            "Circumference is:  50.24\n"
          ],
          "name": "stdout"
        }
      ]
    },
    {
      "cell_type": "markdown",
      "metadata": {
        "id": "Xi8yGqcCFHLJ"
      },
      "source": [
        "In the \\__init__ method above, in order to calculate the area attribute, we had to call Circle.pi. This is because the object does not yet have its own .pi attribute, so we call the Class Object Attribute pi instead.<br>\n",
        "In the setRadius method, however, we'll be working with an existing Circle object that does have its own pi attribute. Here we can use either Circle.pi or self.pi.<br><br>\n",
        "Now let's change the radius and see how that affects our Circle object:"
      ]
    },
    {
      "cell_type": "code",
      "metadata": {
        "id": "TGhO7a9HkJfd"
      },
      "source": [
        "c.setRadius(1000)"
      ],
      "execution_count": null,
      "outputs": []
    },
    {
      "cell_type": "code",
      "metadata": {
        "id": "HJrN9qqakQc9",
        "colab": {
          "base_uri": "https://localhost:8080/"
        },
        "outputId": "b93f0d9d-e5b4-4c5d-8359-8e6133f489e9"
      },
      "source": [
        "c.getCircumference()  #why the error"
      ],
      "execution_count": null,
      "outputs": [
        {
          "output_type": "execute_result",
          "data": {
            "text/plain": [
              "6280.0"
            ]
          },
          "metadata": {
            "tags": []
          },
          "execution_count": 76
        }
      ]
    },
    {
      "cell_type": "code",
      "metadata": {
        "id": "IuMQxvYqFHLK",
        "outputId": "9db0c5ad-153a-4d0a-eb81-682626ee9203"
      },
      "source": [
        "c.setRadius(2)\n",
        "\n",
        "print('Radius is: ',c.radius)\n",
        "print('Area is: ',c.area)\n",
        "print('Circumference is: ',c.getCircumference())"
      ],
      "execution_count": null,
      "outputs": [
        {
          "output_type": "stream",
          "text": [
            "Radius is:  2\n",
            "Area is:  12.56\n",
            "Circumference is:  12.56\n"
          ],
          "name": "stdout"
        }
      ]
    },
    {
      "cell_type": "markdown",
      "metadata": {
        "id": "fYXum6vrFHLT"
      },
      "source": [
        "Great! Notice how we used self. notation to reference attributes of the class within the method calls. Review how the code above works and try creating your own method.\n",
        "\n",
        "## Inheritance\n",
        "\n",
        "Inheritance is a way to form new classes using classes that have already been defined. The newly formed classes are called derived classes, the classes that we derive from are called base classes. Important benefits of inheritance are code reuse and reduction of complexity of a program. The derived classes (descendants) override or extend the functionality of base classes (ancestors).\n",
        "\n",
        "Let's see an example by incorporating our previous work on the Dog class:"
      ]
    },
    {
      "cell_type": "code",
      "metadata": {
        "id": "htIztIZZFHLT"
      },
      "source": [
        "class Animal:\n",
        "    def __init__(self):\n",
        "        print(\"Eats\")\n",
        "        print('Dies')\n",
        "        print('bygry')\n",
        "\n",
        "    def whoAmI(self):\n",
        "        print(\"El code elly fy el class El 2asasy\")\n",
        "\n",
        "    def eat(self):\n",
        "        print(\"Eating\")\n",
        "\n",
        "\n",
        "class Dog(Animal):\n",
        "    def __init__(self):\n",
        "        Animal.__init__(self)\n",
        "\n",
        "        print(\"Dog created\")\n",
        "    # def whoAmI(self):     \n",
        "    #   print('El code elly fy eldog')\n",
        "\n",
        "class Cat (Animal):\n",
        "  pass\n",
        "  \n",
        "\n",
        "      \n",
        "\n"
      ],
      "execution_count": null,
      "outputs": []
    },
    {
      "cell_type": "code",
      "metadata": {
        "id": "RGgKuHnyk6JB",
        "colab": {
          "base_uri": "https://localhost:8080/"
        },
        "outputId": "8a909473-b746-4593-d90c-9864c3e142fc"
      },
      "source": [
        "D= Dog()"
      ],
      "execution_count": null,
      "outputs": [
        {
          "output_type": "stream",
          "text": [
            "Eats\n",
            "Dies\n",
            "bygry\n",
            "Dog created\n"
          ],
          "name": "stdout"
        }
      ]
    },
    {
      "cell_type": "code",
      "metadata": {
        "id": "kDXMHCmPljxt",
        "colab": {
          "base_uri": "https://localhost:8080/"
        },
        "outputId": "629241a1-7091-455c-ee07-59edaaf759f2"
      },
      "source": [
        "D.whoAmI()"
      ],
      "execution_count": null,
      "outputs": [
        {
          "output_type": "stream",
          "text": [
            "El code elly fy el class El 2asasy\n"
          ],
          "name": "stdout"
        }
      ]
    },
    {
      "cell_type": "code",
      "metadata": {
        "id": "3-ReMYQnlovO",
        "colab": {
          "base_uri": "https://localhost:8080/",
          "height": 68
        },
        "outputId": "d7b9d8ca-34dc-4260-c7b0-d88cebcb196e"
      },
      "source": [
        "d=Dog()"
      ],
      "execution_count": null,
      "outputs": [
        {
          "output_type": "stream",
          "text": [
            "Animal created\n",
            "Animal\n",
            "Dog created\n"
          ],
          "name": "stdout"
        }
      ]
    },
    {
      "cell_type": "code",
      "metadata": {
        "id": "FOFqL8fEFHLW",
        "colab": {
          "base_uri": "https://localhost:8080/",
          "height": 34
        },
        "outputId": "c7822efe-a27a-4534-cd93-5cd8764bffb6"
      },
      "source": [
        "d.bark()"
      ],
      "execution_count": null,
      "outputs": [
        {
          "output_type": "stream",
          "text": [
            "meow\n"
          ],
          "name": "stdout"
        }
      ]
    },
    {
      "cell_type": "code",
      "metadata": {
        "id": "qdQyU4jdFHLY",
        "colab": {
          "base_uri": "https://localhost:8080/",
          "height": 34
        },
        "outputId": "c0bbd06b-ee29-462a-cf7a-cc2bb1c2ef32"
      },
      "source": [
        "d.whoAmI()"
      ],
      "execution_count": null,
      "outputs": [
        {
          "output_type": "stream",
          "text": [
            "Animal\n"
          ],
          "name": "stdout"
        }
      ]
    },
    {
      "cell_type": "code",
      "metadata": {
        "id": "EInoE1eFFHLb",
        "colab": {
          "base_uri": "https://localhost:8080/",
          "height": 34
        },
        "outputId": "0584209b-2394-4a52-8dac-020dd8bc9417"
      },
      "source": [
        "d.eat()"
      ],
      "execution_count": null,
      "outputs": [
        {
          "output_type": "stream",
          "text": [
            "Eating\n"
          ],
          "name": "stdout"
        }
      ]
    },
    {
      "cell_type": "code",
      "metadata": {
        "id": "MaIb0o9qyxQE"
      },
      "source": [
        "class Animal:\n",
        "    def __init__(self):\n",
        "        print(\"Animal created\")\n",
        "\n",
        "    def whoAmI(self):\n",
        "        print(\"Animal\")\n",
        "\n",
        "    def eat(self):\n",
        "        print(\"Eating\")\n",
        "\n",
        "\n",
        "class Dog(Animal):\n",
        "    def __init__(self):\n",
        "        Animal.__init__(self)\n",
        "        print(\"Dog created\")\n",
        "    def whoAmI(self):\n",
        "      print(\"Dog\")\n",
        "\n",
        "    def eat(self):\n",
        "      print(\"Let me Eat\")\n",
        "      \n",
        "    def bark(self):\n",
        "      print (' هو هو هو')\n",
        "\n"
      ],
      "execution_count": null,
      "outputs": []
    },
    {
      "cell_type": "code",
      "metadata": {
        "id": "IlRqvDpZyzWE",
        "colab": {
          "base_uri": "https://localhost:8080/",
          "height": 50
        },
        "outputId": "faea055b-ab2b-42fe-b3d6-c381af8cde82"
      },
      "source": [
        "d = Dog()"
      ],
      "execution_count": null,
      "outputs": [
        {
          "output_type": "stream",
          "text": [
            "Animal created\n",
            "Dog created\n"
          ],
          "name": "stdout"
        }
      ]
    },
    {
      "cell_type": "code",
      "metadata": {
        "id": "dwnYDmAXy1LR",
        "colab": {
          "base_uri": "https://localhost:8080/",
          "height": 34
        },
        "outputId": "4078896d-2df0-458a-c41f-fbc230169f21"
      },
      "source": [
        "d.whoAmI()"
      ],
      "execution_count": null,
      "outputs": [
        {
          "output_type": "stream",
          "text": [
            "Dog\n"
          ],
          "name": "stdout"
        }
      ]
    },
    {
      "cell_type": "code",
      "metadata": {
        "id": "-u8UwkW_ziiV",
        "colab": {
          "base_uri": "https://localhost:8080/",
          "height": 34
        },
        "outputId": "71c71ddd-11fd-4c66-d7d3-6cbf36970836"
      },
      "source": [
        "d.bark()"
      ],
      "execution_count": null,
      "outputs": [
        {
          "output_type": "stream",
          "text": [
            " هو هو هو\n"
          ],
          "name": "stdout"
        }
      ]
    },
    {
      "cell_type": "markdown",
      "metadata": {
        "id": "w2ct1aNPFHLm"
      },
      "source": [
        "In this example, we have two classes: Animal and Dog. The Animal is the base class, the Dog is the derived class. \n",
        "\n",
        "The derived class inherits the functionality of the base class. \n",
        "\n",
        "* It is shown by the eat() method. \n",
        "\n",
        "The derived class modifies existing behavior of the base class.\n",
        "\n",
        "* shown by the whoAmI() method. \n",
        "\n",
        "Finally, the derived class extends the functionality of the base class, by defining a new bark() method."
      ]
    },
    {
      "cell_type": "markdown",
      "metadata": {
        "id": "9QJjxCoVFHLm"
      },
      "source": [
        "## Polymorphism\n",
        "\n",
        "We've learned that while functions can take in different arguments, methods belong to the objects they act on. In Python, *polymorphism* refers to the way in which different object classes can share the same method name, and those methods can be called from the same place even though a variety of different objects might be passed in. The best way to explain this is by example:"
      ]
    },
    {
      "cell_type": "code",
      "metadata": {
        "id": "5m8MvO_UFHLn",
        "colab": {
          "base_uri": "https://localhost:8080/"
        },
        "outputId": "43002a60-8b1f-4cbd-e60c-254a5d9f6102"
      },
      "source": [
        "class Dog:\n",
        "    def __init__(self, name):\n",
        "        self.name = name\n",
        "\n",
        "    def speak(self):\n",
        "        return self.name+' says Woof!'\n",
        "    \n",
        "class Cat:\n",
        "    def __init__(self, name):\n",
        "        self.name = name\n",
        "\n",
        "    def speak(self):\n",
        "        return self.name+' says Meow!' \n",
        "    \n",
        "riko = Dog('riko')\n",
        "felix = Cat('Felix')\n",
        "\n",
        "print(riko.speak())\n",
        "print(felix.speak())"
      ],
      "execution_count": null,
      "outputs": [
        {
          "output_type": "stream",
          "text": [
            "riko says Woof!\n",
            "Felix says Meow!\n"
          ],
          "name": "stdout"
        }
      ]
    },
    {
      "cell_type": "markdown",
      "metadata": {
        "id": "ks0lvmWPFHLp"
      },
      "source": [
        "Here we have a Dog class and a Cat class, and each has a `.speak()` method. When called, each object's `.speak()` method returns a result unique to the object.\n",
        "\n",
        "**There a few different ways to demonstrate polymorphism. First, with a for loop:**"
      ]
    },
    {
      "cell_type": "code",
      "metadata": {
        "id": "GdOc0sM4FHLq",
        "outputId": "0853f78d-77fd-4e08-a34c-84939d616f8b"
      },
      "source": [
        "for pet in [riko,felix]:\n",
        "    print(pet.speak())"
      ],
      "execution_count": null,
      "outputs": [
        {
          "output_type": "stream",
          "text": [
            "Niko says Woof!\n",
            "Felix says Meow!\n"
          ],
          "name": "stdout"
        }
      ]
    },
    {
      "cell_type": "markdown",
      "metadata": {
        "id": "qW7FdQVEFHLs"
      },
      "source": [
        "Another is with functions:"
      ]
    },
    {
      "cell_type": "code",
      "metadata": {
        "id": "Rsc9qdITFHLv",
        "outputId": "b087b9ca-e706-425d-b876-5424906831e3"
      },
      "source": [
        "def pet_speak(pet):\n",
        "    print(pet.speak())\n",
        "\n",
        "pet_speak(niko)\n",
        "pet_speak(felix)"
      ],
      "execution_count": null,
      "outputs": [
        {
          "output_type": "stream",
          "text": [
            "Niko says Woof!\n",
            "Felix says Meow!\n"
          ],
          "name": "stdout"
        }
      ]
    },
    {
      "cell_type": "markdown",
      "metadata": {
        "id": "bHOypM2tFHL2"
      },
      "source": [
        "## Special Methods\n",
        "Finally let's go over special methods. Classes in Python can implement certain operations with special method names. These methods are not actually called directly but by Python specific language syntax. For example let's create a Book class:"
      ]
    },
    {
      "cell_type": "code",
      "metadata": {
        "id": "JhI6r78KFHL3"
      },
      "source": [
        "class Book:\n",
        "    def __init__(self, title, author, pages):\n",
        "        print(\"A book is created\")\n",
        "        self.title = title\n",
        "        self.author = author\n",
        "        self.pages = pages\n",
        "\n",
        "    def __str__(self):\n",
        "        return \"Title: %s, author: %s, pages: %s\" %(self.title, self.author, self.pages)\n",
        "\n",
        "    def __len__(self):\n",
        "        return self.pages\n",
        "\n",
        "    def __del__(self):\n",
        "        print(\"A book is destroyed\")"
      ],
      "execution_count": null,
      "outputs": []
    },
    {
      "cell_type": "code",
      "metadata": {
        "id": "it3zQ_ThFHL5",
        "colab": {
          "base_uri": "https://localhost:8080/"
        },
        "outputId": "5e19f498-bbc2-488a-ebec-181bbe5e4709"
      },
      "source": [
        "book = Book(\"Python Rocks!\", \"Jose Portilla\", 159)\n",
        "\n",
        "#Special Methods\n",
        "print(book)\n",
        "print(len(book))\n",
        "del book"
      ],
      "execution_count": null,
      "outputs": [
        {
          "output_type": "stream",
          "text": [
            "A book is created\n",
            "Title: Python Rocks!, author: Jose Portilla, pages: 159\n",
            "159\n",
            "A book is destroyed\n"
          ],
          "name": "stdout"
        }
      ]
    },
    {
      "cell_type": "markdown",
      "metadata": {
        "id": "rKiNNZBfFHL7"
      },
      "source": [
        "    The __init__(), __str__(), __len__() and __del__() methods\n",
        "These special methods are defined by their use of underscores. They allow us to use Python specific functions on objects created through our class.\n"
      ]
    },
    {
      "cell_type": "markdown",
      "metadata": {
        "id": "Tr-hliCr9hz-"
      },
      "source": [
        "#Assignment\n",
        "\n",
        "#### Problem 1\n",
        "Fill in the Line class methods to accept coordinates as a pair of tuples and return the slope and distance of the line."
      ]
    },
    {
      "cell_type": "code",
      "metadata": {
        "id": "4x4e6S5g9hz_"
      },
      "source": [
        "class Line(object):\n",
        "    \n",
        "    def __init__(self,coor1,coor2):\n",
        "        self.coor1 = coor1\n",
        "        self.coor2 = coor2\n",
        "    \n",
        "    def distance(self):\n",
        "        return ((self.coor2[0] - self.coor1[0])**2 + (self.coor2[1] - self.coor1[1])**2)**0.5\n",
        "    \n",
        "    def slope(self):\n",
        "        return (self.coor2[1] - self.coor1[1])/(self.coor2[0] - self.coor1[0])"
      ],
      "execution_count": 7,
      "outputs": []
    },
    {
      "cell_type": "code",
      "metadata": {
        "id": "czRLpux79h0C"
      },
      "source": [
        "# EXAMPLE OUTPUT\n",
        "\n",
        "coordinate1 = (3,2)\n",
        "coordinate2 = (8,10)\n",
        "\n",
        "li = Line(coordinate1,coordinate2)"
      ],
      "execution_count": 8,
      "outputs": []
    },
    {
      "cell_type": "code",
      "metadata": {
        "colab": {
          "base_uri": "https://localhost:8080/"
        },
        "id": "NmYufACEmU0B",
        "outputId": "596d38b2-a17d-4850-feda-a3ab2658b64a"
      },
      "source": [
        "li.distance()"
      ],
      "execution_count": 9,
      "outputs": [
        {
          "output_type": "execute_result",
          "data": {
            "text/plain": [
              "9.433981132056603"
            ]
          },
          "metadata": {
            "tags": []
          },
          "execution_count": 9
        }
      ]
    },
    {
      "cell_type": "code",
      "metadata": {
        "id": "X1CwJyCo9h0E",
        "colab": {
          "base_uri": "https://localhost:8080/"
        },
        "outputId": "a2547860-327f-4c06-ada9-fd403704454c"
      },
      "source": [
        "li.distance()"
      ],
      "execution_count": 4,
      "outputs": [
        {
          "output_type": "execute_result",
          "data": {
            "text/plain": [
              "9.433981132056603"
            ]
          },
          "metadata": {
            "tags": []
          },
          "execution_count": 4
        }
      ]
    },
    {
      "cell_type": "code",
      "metadata": {
        "id": "gkB8zkNE9h0H",
        "colab": {
          "base_uri": "https://localhost:8080/"
        },
        "outputId": "7048a503-6c3e-4477-edb4-08a3c014f46b"
      },
      "source": [
        "li.slope()"
      ],
      "execution_count": 5,
      "outputs": [
        {
          "output_type": "execute_result",
          "data": {
            "text/plain": [
              "1.6"
            ]
          },
          "metadata": {
            "tags": []
          },
          "execution_count": 5
        }
      ]
    },
    {
      "cell_type": "markdown",
      "metadata": {
        "id": "lwpxBizW9h0K"
      },
      "source": [
        "________\n",
        "#### Problem 2"
      ]
    },
    {
      "cell_type": "markdown",
      "metadata": {
        "id": "egfuLJ8J9h0K"
      },
      "source": [
        "Fill in the class "
      ]
    },
    {
      "cell_type": "code",
      "metadata": {
        "id": "FU-08QyB9h0L"
      },
      "source": [
        "class Cylinder(object):\n",
        "    pi = 3.14\n",
        "    \n",
        "    def __init__(self,height=1,radius=1):\n",
        "        self.height = height\n",
        "        self.radius = radius\n",
        "        \n",
        "    def volume(self):\n",
        "        return Cylinder.pi * (self.radius**2) * self.height\n",
        "    \n",
        "    def surface_area(self):\n",
        "        circles = 2 * Cylinder.pi * self.radius**2\n",
        "        wall = 2 * Cylinder.pi * self.radius * self.height\n",
        "        return circles + wall"
      ],
      "execution_count": 10,
      "outputs": []
    },
    {
      "cell_type": "code",
      "metadata": {
        "id": "NYwULuac9h0N"
      },
      "source": [
        "# EXAMPLE OUTPUT\n",
        "c = Cylinder(2,3)"
      ],
      "execution_count": 11,
      "outputs": []
    },
    {
      "cell_type": "code",
      "metadata": {
        "id": "r_BLWcys9h0P",
        "colab": {
          "base_uri": "https://localhost:8080/"
        },
        "outputId": "4b925031-c756-4259-c9ac-e49dfac02e90"
      },
      "source": [
        "c.volume()"
      ],
      "execution_count": 12,
      "outputs": [
        {
          "output_type": "execute_result",
          "data": {
            "text/plain": [
              "56.52"
            ]
          },
          "metadata": {
            "tags": []
          },
          "execution_count": 12
        }
      ]
    },
    {
      "cell_type": "code",
      "metadata": {
        "id": "NRhVFsca9h0R",
        "outputId": "dc821965-3dd9-412e-cd16-dcf92aaf89e8"
      },
      "source": [
        "c.surface_area()"
      ],
      "execution_count": null,
      "outputs": [
        {
          "output_type": "execute_result",
          "data": {
            "text/plain": [
              "94.2"
            ]
          },
          "metadata": {
            "tags": []
          },
          "execution_count": 8
        }
      ]
    },
    {
      "cell_type": "markdown",
      "metadata": {
        "id": "YZ7Xuzf7-Dgf"
      },
      "source": [
        "________\n",
        "#### Problem 3\n",
        "\n",
        "Return to Tic Tac Toe Game  and Build it in OOP this time"
      ]
    },
    {
      "cell_type": "code",
      "metadata": {
        "id": "2p49KTk2-EZh"
      },
      "source": [
        ""
      ],
      "execution_count": null,
      "outputs": []
    }
  ]
}